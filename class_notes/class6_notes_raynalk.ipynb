{
 "cells": [
  {
   "cell_type": "code",
   "execution_count": 6,
   "metadata": {},
   "outputs": [],
   "source": [
    "import os\n",
    "from datetime import datetime\n",
    "import hashlib\n",
    "import csv\n"
   ]
  },
  {
   "cell_type": "code",
   "execution_count": 7,
   "metadata": {},
   "outputs": [
    {
     "name": "stdout",
     "output_type": "stream",
     "text": [
      "data/webfiles-samples\n"
     ]
    }
   ],
   "source": [
    "walk_this_directory = os.path.join('data','webfiles-samples')\n",
    "\n",
    "print(walk_this_directory)"
   ]
  },
  {
   "cell_type": "code",
   "execution_count": 8,
   "metadata": {},
   "outputs": [
    {
     "name": "stdout",
     "output_type": "stream",
     "text": [
      "{'filename': '11-3250JohnsonvFolinoEtAl.wma', 'extension': '.wma', 'size': 21423499, 'modify_datetime': '2022-10-07T13:12:43', 'absolute_path': '/Users/raynaketchum/Documents/umich/SI676/networked-services-labs/data/webfiles-samples/audio/11-3250JohnsonvFolinoEtAl.wma'}\n",
      "{'filename': 'NEWSLINE_802AF71F439D401585C6FCB02F358307.mp3', 'extension': '.mp3', 'size': 961195, 'modify_datetime': '2022-10-07T13:12:43', 'absolute_path': '/Users/raynaketchum/Documents/umich/SI676/networked-services-labs/data/webfiles-samples/audio/NEWSLINE_802AF71F439D401585C6FCB02F358307.mp3'}\n",
      "{'filename': 'mj_telework_exchange_final_100710.mp3', 'extension': '.mp3', 'size': 3471488, 'modify_datetime': '2022-10-07T13:12:44', 'absolute_path': '/Users/raynaketchum/Documents/umich/SI676/networked-services-labs/data/webfiles-samples/audio/mj_telework_exchange_final_100710.mp3'}\n",
      "{'filename': '000727.ram', 'extension': '.ram', 'size': 79, 'modify_datetime': '2022-10-07T13:12:43', 'absolute_path': '/Users/raynaketchum/Documents/umich/SI676/networked-services-labs/data/webfiles-samples/audio/000727.ram'}\n"
     ]
    }
   ],
   "source": [
    "path_to_audio_dir = os.path.join('data','webfiles-samples', 'audio')\n",
    "\n",
    "with os.scandir(path_to_audio_dir) as file_list:\n",
    "    for file in file_list:\n",
    "        file_info = {\n",
    "            'filename' : os.path.basename(file),\n",
    "            'extension' : os.path.splitext(file)[1],\n",
    "            'size' : os.path.getsize(file), \n",
    "            'modify_datetime' : datetime.strftime(datetime.fromtimestamp(os.path.getmtime(file)), \"%Y-%m-%dT%H:%M:%S\"),\n",
    "            'absolute_path' : os.path.abspath(file)\n",
    "        }\n",
    "        print(file_info)"
   ]
  },
  {
   "cell_type": "code",
   "execution_count": 13,
   "metadata": {},
   "outputs": [],
   "source": [
    "def get_checksum(filePath, checksum_type):\n",
    "    '''This is a helper function to create a checksum. \n",
    "    In this example we will focus on MD5, which can be used to check data integrity.\n",
    "    \n",
    "    The filePath value argument be a string representing a valid path.\n",
    "    The checksum_type argument should be a valid type of checksum.\n",
    "    \n",
    "    The function returns the string of characters for an MD5 or SHA256 checksum.\n",
    "    The is function only allows you to create MD5 or SHA 256 and will result in an error for other types.'''\n",
    "    checksum_type = checksum_type.lower().replace(' ','')\n",
    "\n",
    "    with open(filePath, 'rb') as f:\n",
    "        bytes = f.read()\n",
    "        if checksum_type == 'md5':\n",
    "            hash_string = hashlib.md5(bytes).hexdigest()\n",
    "        elif checksum_type == 'sha256':\n",
    "            hash_string = hashlib.sha256(bytes).hexdigest()\n",
    "        else:\n",
    "            Raise('{} is not a hash function supported by this program. You must ask for MD5.')\n",
    "    return hash_string"
   ]
  },
  {
   "cell_type": "code",
   "execution_count": 14,
   "metadata": {},
   "outputs": [
    {
     "name": "stdout",
     "output_type": "stream",
     "text": [
      "{'filename': '11-3250JohnsonvFolinoEtAl.wma', 'extension': '.wma', 'size': 21423499, 'modify_datetime': '2022-10-07T13:12:43', 'absolute_path': '/Users/raynaketchum/Documents/umich/SI676/networked-services-labs/data/webfiles-samples/audio/11-3250JohnsonvFolinoEtAl.wma', 'md5_checksum': '0822287ef2af6e97ead980c771bb8f97', 'sha256_checksum': '2e90f5615ad4eaf273c1dfa9c4631e14a39da7f5a9a09edc5467b14f19dacd41'}\n",
      "{'filename': 'NEWSLINE_802AF71F439D401585C6FCB02F358307.mp3', 'extension': '.mp3', 'size': 961195, 'modify_datetime': '2022-10-07T13:12:43', 'absolute_path': '/Users/raynaketchum/Documents/umich/SI676/networked-services-labs/data/webfiles-samples/audio/NEWSLINE_802AF71F439D401585C6FCB02F358307.mp3', 'md5_checksum': 'ad49bb75ecd85c86d8d4a2b418ce83cf', 'sha256_checksum': '5d523832cd29efe1971bf88a1e9698021dda828547c1d774301424060eb10730'}\n",
      "{'filename': 'mj_telework_exchange_final_100710.mp3', 'extension': '.mp3', 'size': 3471488, 'modify_datetime': '2022-10-07T13:12:44', 'absolute_path': '/Users/raynaketchum/Documents/umich/SI676/networked-services-labs/data/webfiles-samples/audio/mj_telework_exchange_final_100710.mp3', 'md5_checksum': '0253b2c7820143b28f4b1febaece205d', 'sha256_checksum': '8c276e00edc5e771559fc0970fdc688ace0c9f127d4ab4e6a4652acb705ff160'}\n",
      "{'filename': '000727.ram', 'extension': '.ram', 'size': 79, 'modify_datetime': '2022-10-07T13:12:43', 'absolute_path': '/Users/raynaketchum/Documents/umich/SI676/networked-services-labs/data/webfiles-samples/audio/000727.ram', 'md5_checksum': '807f4a33e2198c1dd629c8902c37c535', 'sha256_checksum': 'd231f5779e4ec9604db2fb99ac92510b7d8263e471b2d636b4a39e8915802500'}\n"
     ]
    }
   ],
   "source": [
    "path_to_audio_dir = os.path.join('data','webfiles-samples', 'audio')\n",
    "\n",
    "with os.scandir(path_to_audio_dir) as file_list:\n",
    "    for file in file_list:\n",
    "        file_info = {\n",
    "            'filename' : os.path.basename(file),\n",
    "            'extension' : os.path.splitext(file)[1],\n",
    "            'size' : os.path.getsize(file), \n",
    "            'modify_datetime' : datetime.strftime(datetime.fromtimestamp(os.path.getmtime(file)), \"%Y-%m-%dT%H:%M:%S\"),\n",
    "            'absolute_path' : os.path.abspath(file),\n",
    "            'md5_checksum' : get_checksum(file,'md5'),\n",
    "            'sha256_checksum' : get_checksum(file, 'sha256')\n",
    "        }\n",
    "        print(file_info)"
   ]
  },
  {
   "cell_type": "code",
   "execution_count": 3,
   "metadata": {},
   "outputs": [
    {
     "name": "stdout",
     "output_type": "stream",
     "text": [
      "data/webfiles-samples\n",
      "22\n",
      "writing file manifest CSV\n",
      "adding (file[1]\n",
      "adding (file[1]\n",
      "adding (file[1]\n",
      "adding (file[1]\n",
      "adding (file[1]\n",
      "adding (file[1]\n",
      "adding (file[1]\n",
      "adding (file[1]\n",
      "adding (file[1]\n",
      "adding (file[1]\n",
      "adding (file[1]\n",
      "adding (file[1]\n",
      "adding (file[1]\n",
      "adding (file[1]\n",
      "adding (file[1]\n",
      "adding (file[1]\n",
      "adding (file[1]\n",
      "adding (file[1]\n",
      "adding (file[1]\n",
      "adding (file[1]\n",
      "adding (file[1]\n",
      "adding (file[1]\n",
      "Wrote manifest\n"
     ]
    }
   ],
   "source": [
    "import os\n",
    "from datetime import datetime\n",
    "import hashlib\n",
    "import csv\n",
    "\n",
    "def get_checksum(filePath, checksum_type):\n",
    "    '''This is a helper function to create a checksum. \n",
    "    In this example we will focus on MD5, which can be used to check data integrity.\n",
    "    \n",
    "    The filePath value argument be a string representing a valid path.\n",
    "    The checksum_type argument should be a valid type of checksum.\n",
    "    \n",
    "    The function returns the string of characters for an MD5 or SHA256 checksum.\n",
    "    The is function only allows you to create MD5 or SHA 256 and will result in an error for other types.'''\n",
    "    checksum_type = checksum_type.lower().replace(' ','')\n",
    "\n",
    "    with open(filePath, 'rb') as f:\n",
    "        bytes = f.read()\n",
    "        if checksum_type == 'md5':\n",
    "            hash_string = hashlib.md5(bytes).hexdigest()\n",
    "        elif checksum_type == 'sha256':\n",
    "            hash_string = hashlib.sha256(bytes).hexdigest()\n",
    "        else:\n",
    "            Raise('{} is not a hash function supported by this program. You must ask for MD5.')\n",
    "    return hash_string\n",
    "\n",
    "walk_this_directory = os.path.join('data','webfiles-samples')\n",
    "\n",
    "print(walk_this_directory)\n",
    "\n",
    "file_list = list()\n",
    "\n",
    "#set up headers\n",
    "headers = ['filename', 'extension', 'size', 'modify_datetime', 'absolute_path', 'md5_checksum', 'sha256_checksum']\n",
    "\n",
    "file_count = 0\n",
    "\n",
    "#with os.scandir(walk_this_directory) as file_list:#\n",
    "# write out the info using csv.DictWriter()\n",
    "for folderName, subfolders, filenames in os.walk(walk_this_directory):\n",
    "    for file in filenames:\n",
    "        file_info = {\n",
    "            'filename' : file,\n",
    "            'extension' : os.path.splitext(file)[1],\n",
    "            'size' : os.path.getsize(os.path.join(folderName, file)),\n",
    "            'modify_datetime' : datetime.strftime(datetime.fromtimestamp(os.path.getmtime(os.path.join(folderName, file))), \"%Y-%m-%dT%H:%M:%S\"),\n",
    "            'absolute_path' : os.path.abspath(os.path.join(folderName, file)),\n",
    "            'md5_checksum' : get_checksum(os.path.join(folderName, file),'md5'),\n",
    "            'sha256_checksum' : get_checksum(os.path.join(folderName, file), 'sha256')\n",
    "        }\n",
    "        file_list.append(file_info)\n",
    "        #print(file_info)\n",
    "print(len(file_list))\n",
    "\n",
    "with open('file-metadata-manifest.csv', 'w') as csvfile:\n",
    "    fileManifest = csv.DictWriter(csvfile, fieldnames = headers)\n",
    "    print('writing file manifest CSV')\n",
    "\n",
    "    for file in file_list:\n",
    "        print(f'adding (file[1]')\n",
    "        fileManifest.writerow(file)\n",
    "    print('Wrote manifest')\n",
    "\n"
   ]
  }
 ],
 "metadata": {
  "kernelspec": {
   "display_name": "Python 3.9.6 64-bit",
   "language": "python",
   "name": "python3"
  },
  "language_info": {
   "codemirror_mode": {
    "name": "ipython",
    "version": 3
   },
   "file_extension": ".py",
   "mimetype": "text/x-python",
   "name": "python",
   "nbconvert_exporter": "python",
   "pygments_lexer": "ipython3",
   "version": "3.9.6"
  },
  "orig_nbformat": 4,
  "vscode": {
   "interpreter": {
    "hash": "aee8b7b246df8f9039afb4144a1f6fd8d2ca17a180786b69acc140d282b71a49"
   }
  }
 },
 "nbformat": 4,
 "nbformat_minor": 2
}
