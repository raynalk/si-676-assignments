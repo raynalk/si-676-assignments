{
 "cells": [
  {
   "cell_type": "code",
   "execution_count": 1,
   "metadata": {},
   "outputs": [],
   "source": [
    "import csv\n",
    "import json\n",
    "import requests\n",
    "\n",
    "import glob\n",
    "import os\n",
    "from os.path import join"
   ]
  },
  {
   "cell_type": "code",
   "execution_count": 2,
   "metadata": {},
   "outputs": [],
   "source": [
    "endpoint = 'https://www.loc.gov/free-to-use'\n",
    "parameters = {\n",
    "    'fo' : 'json'\n",
    "}"
   ]
  },
  {
   "cell_type": "code",
   "execution_count": 3,
   "metadata": {},
   "outputs": [],
   "source": [
    "collection = 'birds'"
   ]
  },
  {
   "cell_type": "code",
   "execution_count": 4,
   "metadata": {},
   "outputs": [],
   "source": [
    "collection_list_response = requests.get(endpoint + '/' + collection, params=parameters)"
   ]
  },
  {
   "cell_type": "code",
   "execution_count": 5,
   "metadata": {},
   "outputs": [
    {
     "data": {
      "text/plain": [
       "'https://www.loc.gov/free-to-use/birds?fo=json'"
      ]
     },
     "execution_count": 5,
     "metadata": {},
     "output_type": "execute_result"
    }
   ],
   "source": [
    "collection_list_response.url"
   ]
  },
  {
   "cell_type": "code",
   "execution_count": 6,
   "metadata": {},
   "outputs": [],
   "source": [
    "collection_json = collection_list_response.json()"
   ]
  },
  {
   "cell_type": "code",
   "execution_count": 7,
   "metadata": {},
   "outputs": [
    {
     "data": {
      "text/plain": [
       "dict_keys(['breadcrumbs', 'content', 'content_is_post', 'description', 'expert_resources', 'next', 'next_sibling', 'options', 'pages', 'portal', 'previous', 'previous_sibling', 'site_type', 'timestamp', 'title', 'type'])"
      ]
     },
     "execution_count": 7,
     "metadata": {},
     "output_type": "execute_result"
    }
   ],
   "source": [
    "collection_json.keys()"
   ]
  },
  {
   "cell_type": "code",
   "execution_count": 8,
   "metadata": {},
   "outputs": [
    {
     "name": "stdout",
     "output_type": "stream",
     "text": [
      "{'image': '/static/portals/free-to-use/public-domain/birds/birds-1.jpg', 'link': '/resource/gtfy.01168/', 'title': 'Bird watcher, Central Park. Photo by Bernard Gotfryd, 1970-1980. Prints & Photographs Division'}\n",
      "{'image': '/static/portals/free-to-use/public-domain/birds/birds-2.jpg', 'link': '/resource/cph.3a49143/', 'title': \"The Humming-Bird ... ; the Cuckow. In: Cock Robin's Death and Funeral, 1780. Rare Book Division\"}\n",
      "{'image': '/static/portals/free-to-use/public-domain/birds/birds-3.jpg', 'link': '/resource/cph.3b52232/', 'title': 'Summer red bird. Tanager. Color engraving by R. Havell, after drawing by John J. Audubon. Elephant folio, 1827-1838. Rare Book Division'}\n",
      "{'image': '/static/portals/free-to-use/public-domain/birds/birds-4.jpg', 'link': '/resource/jpd.02954/', 'title': 'Minowa kanasugi mikawashima. (Red-crowned crane) Color woodcut, 1857. Prints & Photographs Division'}\n",
      "{'image': '/static/portals/free-to-use/public-domain/birds/birds-5.jpg', 'link': '/resource/ds.10210/', 'title': 'Big Bird of Sesame Street at the Library of Congress Bicentennial. Photo, 2000. Prints & Photographs Division'}\n",
      "{'image': '/static/portals/free-to-use/public-domain/birds/birds-6.jpg', 'link': '/resource/cph.3g05259/', 'title': 'The habeas corpus, or The wild geese flying away with Fox to America. British political cartoon, 1782. Prints & Photographs Division'}\n",
      "{'image': '/static/portals/free-to-use/public-domain/birds/birds-7.jpg', 'link': '/resource/cph.3b52391/', 'title': 'Indigo Bird. Color engraving by R. Havell, after drawing by John J. Audubon. Elephant folio, 1827-1838. Rare Book Division'}\n",
      "{'image': '/static/portals/free-to-use/public-domain/birds/birds-8.jpg', 'link': '/resource/cph.3b52385/', 'title': 'Bird of Washington. Color engraving by R. Havell, after drawing by John J. Audubon. Elephant folio, 1827-1838. Rare Book Division'}\n",
      "{'image': '/static/portals/free-to-use/public-domain/birds/birds-9.jpg', 'link': '/resource/cph.3b52381/', 'title': 'Mountain Mocking Bird and Varied Thrush. Color engraving by R. Havell, after drawing by John J. Audubon. Elephant folio, 1827-1838. Rare Book Division'}\n",
      "{'image': '/static/portals/free-to-use/public-domain/birds/birds-10.jpg', 'link': '/resource/cph.3b52227/', 'title': 'Rose-breasted grosbeak. Color engraving by R. Havell, after drawing by John J. Audubon. Elephant folio, 1827-1838. Rare Book Division'}\n",
      "{'image': '/static/portals/free-to-use/public-domain/birds/birds-11.jpg', 'link': '/resource/ppmsca.26467/', 'title': 'Civil War envelope showing an eagle carrying an American flag in its claw and a serpent in its beak with motto \"The early bird catches the worm\" below. By John S. Trimble, 1861-65. Prints & Photographs Division'}\n",
      "{'image': '/static/portals/free-to-use/public-domain/birds/birds-12.jpg', 'link': '/resource/ihas.100004017.0/?sp=1', 'title': 'Singing of Birds. Sheet music cover, 1871. Music Division'}\n",
      "{'image': '/static/portals/free-to-use/public-domain/birds/birds-13.jpg', 'link': '/resource/ppmsca.45460/', 'title': \"Parr's Swiss styles bird cage. Lithograph, 1872. Prints & Photographs Division\"}\n",
      "{'image': '/static/portals/free-to-use/public-domain/birds/birds-14.jpg', 'link': '/resource/pga.12180/', 'title': 'Yellow bird perched on rose stems. Chromolithograph by L. Prang, 1873. Prints & Photographs Division'}\n",
      "{'image': '/static/portals/free-to-use/public-domain/birds/birds-15.jpg', 'link': '/resource/pga.12062/', 'title': '1. King bird. 2. Great crested flycatcher. 3. Pewee flycatcher or phœbe. Lithograph by L. Prang, 1874. Prints & Photographs Division'}\n",
      "{'image': '/static/portals/free-to-use/public-domain/birds/birds-16.jpg', 'link': '/resource/ppmsca.44290/', 'title': 'Ice Bird. Chromolithograph, 1876. Prints & Photographs Division'}\n",
      "{'image': '/static/portals/free-to-use/public-domain/birds/birds-17.jpg', 'link': '/resource/ppmsca.44137/', 'title': \"Lloyd's pictorial chart of birds. Hand-colored engraving, 1876. Prints & Photographs Division\"}\n",
      "{'image': '/static/portals/free-to-use/public-domain/birds/birds-18.jpg', 'link': '/resource/ppmsca.45466/', 'title': 'Canary bird cage. Lithograph, 1877. Prints & Photographs Division'}\n",
      "{'image': '/static/portals/free-to-use/public-domain/birds/birds-19.jpg', 'link': '/resource/pga.14162/', 'title': \"Apple blossoms and bird's nest / after Mrs. O.E. Whitney. Chromolithograph by L. Prang, 1878. Prints & Photographs Division\"}\n",
      "{'image': '/static/portals/free-to-use/public-domain/birds/birds-20.jpg', 'link': '/resource/ds.12960/', 'title': 'The mallard duck Anas boschas (Linnæus). In: Upland game birds and water fowl of the United States, by  A. Pope Jr., 1878. Prints & Photographs Division'}\n",
      "{'image': '/static/portals/free-to-use/public-domain/birds/birds-21.jpg', 'link': '/resource/pga.14182/', 'title': 'Bird on a stalk, singing. Chromolithograph by L. Prang, 1883. Prints & Photographs Division'}\n",
      "{'image': '/static/portals/free-to-use/public-domain/birds/birds-22.jpg', 'link': '/resource/ds.05086/', 'title': 'The cruelties of fashion - \"fine feathers make fine birds.\" Drawing by John Hyde, published in Frank Leslie\\'s Illustrated Newspaper, 1883. Prints & Photographs Division\\n'}\n",
      "{'image': '/static/portals/free-to-use/public-domain/birds/birds-23.jpg', 'link': '/resource/pga.12102/', 'title': '\"In February.\" Illustration for \"Baby\\'s Lullaby Book ... by Charles Stuart Pratt,\" 1888. Prints & Photographs Division\\n'}\n",
      "{'image': '/static/portals/free-to-use/public-domain/birds/birds-24.jpg', 'link': '/resource/ppmsca.44352/', 'title': 'School and family charts, by Marcius Willson and N.A. Calkins. ... Aves, or birds, classification of birds. Hand-colored engraving, 1890. Prints & Photographs Division'}\n",
      "{'image': '/static/portals/free-to-use/public-domain/birds/birds-25.jpg', 'link': '/resource/ppmsca.44525/', 'title': 'Early Birds. Chromolithograph, 1892. Prints & Photographs Division'}\n",
      "{'image': '/static/portals/free-to-use/public-domain/birds/birds-26.jpg', 'link': '/resource/ds.04698/', 'title': 'Peacocks. Crayon drawings by James McNeill Whistler, 1900. Prints & Photographs Division'}\n",
      "{'image': '/static/portals/free-to-use/public-domain/birds/birds-27.jpg', 'link': '/resource/stereo.1s26898/', 'title': 'Flamingos in Maharaja’s aviary, Jaipur, India. Stereograph by H.C. White, 1907. Prints & Photographs Division'}\n",
      "{'image': '/static/portals/free-to-use/public-domain/birds/birds-28.jpg', 'link': '/resource/cai.2a14845/', 'title': \"The swallow and the raven. Ink drawing by E. Boyd Smith. Published in: Aesop's Fables, New York: The Century Co., 1911. Prints & Photographs Division\"}\n",
      "{'image': '/static/portals/free-to-use/public-domain/birds/birds-29.jpg', 'link': '/resource/agc.7a00162/', 'title': 'Scene from \"Sanctuary, A Bird Masque,\" by Percy MacKaye, at the Meriden Bird Club sanctuary dedication in New Hampshire. Photo by Arnold Genthe, 1913.\\n'}\n",
      "{'image': '/static/portals/free-to-use/public-domain/birds/birds-30.jpg', 'link': '/resource/ds.09801/', 'title': 'Showing how the pigeons are part of the U.S. Army They too have to have their identification tag ...,  Fort Lucy, France. Photo by U.S. Army Signal Corps, 1918. Prints & Photographs Division'}\n",
      "{'image': '/static/portals/free-to-use/public-domain/birds/birds-31.jpg', 'link': '/resource/det.4a26643/', 'title': 'Mexican wild turkey. Photo of drawing by Louis Agassiz. Detroit Publishing Co., 1912-1920. Prints & Photographs Division'}\n",
      "{'image': '/static/portals/free-to-use/public-domain/birds/birds-32.jpg', 'link': '/resource/npcc.29781/', 'title': 'American Forestry Assn. Bird House contest. Photo by National Photo Co., 1/19/21. Prints & Photographs Division'}\n",
      "{'image': '/static/portals/free-to-use/public-domain/birds/birds-33.jpg', 'link': '/resource/acd.2a09222/', 'title': 'Critical moments. Drawing by Herbert Johnson, 1921. Prints & Photographs Division'}\n",
      "{'image': '/static/portals/free-to-use/public-domain/birds/birds-34.jpg', 'link': '/resource/hec.41473/', 'title': 'Swan at a zoo(?). Photo by Harris & Ewing, 1921. Prints & Photographs Division'}\n",
      "{'image': '/static/portals/free-to-use/public-domain/birds/birds-35.jpg', 'link': '/resource/acd.2a07586/', 'title': 'The bird-lover. Ink drawing by John C. Conacher, 1922. Prints & Photographs Division'}\n",
      "{'image': '/static/portals/free-to-use/public-domain/birds/birds-36.jpg', 'link': '/resource/hec.29933/', 'title': 'Birds. Photo by Harris & Ewing, 1915-1923. Prints & Photographs Division'}\n",
      "{'image': '/static/portals/free-to-use/public-domain/birds/birds-37.jpg', 'link': '/resource/hec.42940/', 'title': 'Group of boys with bird houses; White House in background. Washington, D.C.] Photo by Harris & Ewing, 1923. Prints & Photographs Division\\n'}\n",
      "{'image': '/static/portals/free-to-use/public-domain/birds/birds-38.jpg', 'link': '/resource/ppmsca.15504/', 'title': 'Bookplate for ornithologist Ruthven Deane. Hand-colored etching by Sidney L. Smith, 1924. Prints & Photographs Division'}\n",
      "{'image': '/static/portals/free-to-use/public-domain/birds/birds-39.jpg', 'link': '/resource/cph.3f05606/', 'title': 'Visit the zoo. Poster by Louise Welsh, 1936 or 1937. Prints & Photographs Division'}\n",
      "{'image': '/static/portals/free-to-use/public-domain/birds/birds-40.jpg', 'link': '/resource/fsa.8b20226/', 'title': 'Southeast Missouri Farms. Sharecropper family with pet bird in shack home. La Forge project, Missouri. Photo by Russell Lee, 1938. Prints & Photographs Division'}\n",
      "{'image': '/static/portals/free-to-use/public-domain/birds/birds-41.jpg', 'link': '/resource/fsa.8b22903/', 'title': 'Spanish-American FSA (Farm Security Administration) client feeding her chickens near Taos, New Mexico. Photo by Russell Lee, 1939. Prints & Photographs Division'}\n",
      "{'image': '/static/portals/free-to-use/public-domain/birds/birds-42.jpg', 'link': '/resource/fsa.8c01083/', 'title': 'Incubator and baby chicks. Photo by Russell Lee, 1941. Prints & Photographs Division'}\n",
      "{'image': '/static/portals/free-to-use/public-domain/birds/birds-43.jpg', 'link': '/resource/ppmsca.69888/', 'title': 'Man and woman feeding pigeons.Photo by Angelo Rizzuto, 1954. Prints & Photographs Division'}\n",
      "{'image': '/static/portals/free-to-use/public-domain/birds/birds-44.jpg', 'link': '/resource/ppmsca.42039/', 'title': 'Peace. Poster with a dove and olive branch, 1970s. Prints & Photographs Division'}\n",
      "{'image': '/static/portals/free-to-use/public-domain/birds/birds-45.jpg', 'link': '/resource/highsm.14944/', 'title': 'Residents of Parrot Jungle and Gardens, south of Miami, Florida. Photo by Carol M. Highsmith, 1980s-20060. Prints & Photographs Division'}\n",
      "{'image': '/static/portals/free-to-use/public-domain/birds/birds-46.jpg', 'link': '/resource/highsm.14976/', 'title': 'This pier in the Florida Keys, often becomes a virtual bird sanctuary. Photo by Carol M. Highsmith, 1980s-2006. Prints & Photographs Division'}\n",
      "{'image': '/static/portals/free-to-use/public-domain/birds/birds-47.jpg', 'link': '/resource/highsm.33347/', 'title': 'This is Cheyenne, a seven-year-old female bald eagle, Colorado. Photo by Carol M. Highsmith, 2015. Prints & Photographs Division'}\n",
      "{'image': '/static/portals/free-to-use/public-domain/birds/birds-48.jpg', 'link': '/resource/highsm.54225/', 'title': 'Burrowing owl, Arizona. Photo by Carol M. Highsmith, 2018. Prints & Photographs Division'}\n"
     ]
    }
   ],
   "source": [
    "for k in collection_json['content']['set']['items']:\n",
    "    print(k)"
   ]
  },
  {
   "cell_type": "code",
   "execution_count": 9,
   "metadata": {},
   "outputs": [
    {
     "data": {
      "text/plain": [
       "48"
      ]
     },
     "execution_count": 9,
     "metadata": {},
     "output_type": "execute_result"
    }
   ],
   "source": [
    "len(collection_json['content']['set']['items'])"
   ]
  },
  {
   "cell_type": "code",
   "execution_count": 10,
   "metadata": {},
   "outputs": [
    {
     "data": {
      "text/plain": [
       "dict_keys(['image', 'link', 'title'])"
      ]
     },
     "execution_count": 10,
     "metadata": {},
     "output_type": "execute_result"
    }
   ],
   "source": [
    "collection_json['content']['set']['items'][0].keys()"
   ]
  },
  {
   "cell_type": "code",
   "execution_count": 11,
   "metadata": {},
   "outputs": [
    {
     "name": "stdout",
     "output_type": "stream",
     "text": [
      "wrote data/collection_set_list.csv\n"
     ]
    }
   ],
   "source": [
    "collection_set_list = os.path.join('data','collection_set_list.csv')\n",
    "headers = ['image','link','title']\n",
    "\n",
    "with open(collection_set_list, 'w', encoding='utf-8', newline='') as f:\n",
    "    writer = csv.DictWriter(f, fieldnames=headers)\n",
    "    writer.writeheader()\n",
    "    for item in collection_json['content']['set']['items']:\n",
    "        \n",
    "        # clean up errant spaces in the title fields\n",
    "        item['title'] = item['title'].rstrip()\n",
    "        writer.writerow(item)\n",
    "    print('wrote',collection_set_list)"
   ]
  },
  {
   "cell_type": "code",
   "execution_count": 23,
   "metadata": {},
   "outputs": [],
   "source": [
    "# update endpoint info\n",
    "endpoint = 'https://www.loc.gov'\n",
    "parameters = {\n",
    "    'fo' : 'json'\n",
    "}"
   ]
  },
  {
   "cell_type": "code",
   "execution_count": 24,
   "metadata": {},
   "outputs": [
    {
     "name": "stdout",
     "output_type": "stream",
     "text": [
      "created data/ftu_teachersandstudents_metadata\n"
     ]
    }
   ],
   "source": [
    "#   NAME CHANGE FOR FOLDER\n",
    "\n",
    "# run this cell to confirm that you have a location for the JSON files\n",
    "item_metadata_directory = os.path.join('data','ftu_teachersandstudents_metadata')\n",
    "\n",
    "if os.path.isdir(item_metadata_directory):\n",
    "    print(item_metadata_directory,'exists')\n",
    "else:\n",
    "    os.mkdir(item_metadata_directory)\n",
    "    print('created',item_metadata_directory)"
   ]
  },
  {
   "cell_type": "code",
   "execution_count": 26,
   "metadata": {},
   "outputs": [
    {
     "name": "stdout",
     "output_type": "stream",
     "text": [
      "requested https://www.loc.gov/resource/npcc.33373/?fo=json 200\n",
      "wrote data/ftu_teachersandstudents_metadata/item_metadata-npcc.33373.json\n",
      "requested https://www.loc.gov/resource/fsa.8d24528/?fo=json 200\n",
      "wrote data/ftu_teachersandstudents_metadata/item_metadata-fsa.8d24528.json\n",
      "requested https://www.loc.gov/resource/fsa.8b37034/?fo=json 200\n",
      "wrote data/ftu_teachersandstudents_metadata/item_metadata-fsa.8b37034.json\n",
      "requested https://www.loc.gov/resource/afc1993001.afc1993001_mm_02/?sp=4&st=image&r=-0.426,0,1.851,0.685,0&fo=json 200\n",
      "wrote data/ftu_teachersandstudents_metadata/item_metadata-afc1993001.afc1993001_mm_02.json\n"
     ]
    },
    {
     "ename": "ConnectionError",
     "evalue": "HTTPSConnectionPool(host='www.loc.govhttps', port=443): Max retries exceeded with url: //chroniclingamerica.loc.gov/lccn/sn92024097/1955-04-01/ed-1/seq-16/?fo=json (Caused by NewConnectionError('<urllib3.connection.HTTPSConnection object at 0x7fa6a1e407c0>: Failed to establish a new connection: [Errno 8] nodename nor servname provided, or not known'))",
     "output_type": "error",
     "traceback": [
      "\u001b[0;31m---------------------------------------------------------------------------\u001b[0m",
      "\u001b[0;31mgaierror\u001b[0m                                  Traceback (most recent call last)",
      "File \u001b[0;32m/Library/Frameworks/Python.framework/Versions/3.9/lib/python3.9/site-packages/urllib3/connection.py:174\u001b[0m, in \u001b[0;36mHTTPConnection._new_conn\u001b[0;34m(self)\u001b[0m\n\u001b[1;32m    173\u001b[0m \u001b[39mtry\u001b[39;00m:\n\u001b[0;32m--> 174\u001b[0m     conn \u001b[39m=\u001b[39m connection\u001b[39m.\u001b[39;49mcreate_connection(\n\u001b[1;32m    175\u001b[0m         (\u001b[39mself\u001b[39;49m\u001b[39m.\u001b[39;49m_dns_host, \u001b[39mself\u001b[39;49m\u001b[39m.\u001b[39;49mport), \u001b[39mself\u001b[39;49m\u001b[39m.\u001b[39;49mtimeout, \u001b[39m*\u001b[39;49m\u001b[39m*\u001b[39;49mextra_kw\n\u001b[1;32m    176\u001b[0m     )\n\u001b[1;32m    178\u001b[0m \u001b[39mexcept\u001b[39;00m SocketTimeout:\n",
      "File \u001b[0;32m/Library/Frameworks/Python.framework/Versions/3.9/lib/python3.9/site-packages/urllib3/util/connection.py:73\u001b[0m, in \u001b[0;36mcreate_connection\u001b[0;34m(address, timeout, source_address, socket_options)\u001b[0m\n\u001b[1;32m     69\u001b[0m     \u001b[39mreturn\u001b[39;00m six\u001b[39m.\u001b[39mraise_from(\n\u001b[1;32m     70\u001b[0m         LocationParseError(\u001b[39mu\u001b[39m\u001b[39m\"\u001b[39m\u001b[39m'\u001b[39m\u001b[39m%s\u001b[39;00m\u001b[39m'\u001b[39m\u001b[39m, label empty or too long\u001b[39m\u001b[39m\"\u001b[39m \u001b[39m%\u001b[39m host), \u001b[39mNone\u001b[39;00m\n\u001b[1;32m     71\u001b[0m     )\n\u001b[0;32m---> 73\u001b[0m \u001b[39mfor\u001b[39;00m res \u001b[39min\u001b[39;00m socket\u001b[39m.\u001b[39;49mgetaddrinfo(host, port, family, socket\u001b[39m.\u001b[39;49mSOCK_STREAM):\n\u001b[1;32m     74\u001b[0m     af, socktype, proto, canonname, sa \u001b[39m=\u001b[39m res\n",
      "File \u001b[0;32m/Library/Frameworks/Python.framework/Versions/3.9/lib/python3.9/socket.py:953\u001b[0m, in \u001b[0;36mgetaddrinfo\u001b[0;34m(host, port, family, type, proto, flags)\u001b[0m\n\u001b[1;32m    952\u001b[0m addrlist \u001b[39m=\u001b[39m []\n\u001b[0;32m--> 953\u001b[0m \u001b[39mfor\u001b[39;00m res \u001b[39min\u001b[39;00m _socket\u001b[39m.\u001b[39;49mgetaddrinfo(host, port, family, \u001b[39mtype\u001b[39;49m, proto, flags):\n\u001b[1;32m    954\u001b[0m     af, socktype, proto, canonname, sa \u001b[39m=\u001b[39m res\n",
      "\u001b[0;31mgaierror\u001b[0m: [Errno 8] nodename nor servname provided, or not known",
      "\nDuring handling of the above exception, another exception occurred:\n",
      "\u001b[0;31mNewConnectionError\u001b[0m                        Traceback (most recent call last)",
      "File \u001b[0;32m/Library/Frameworks/Python.framework/Versions/3.9/lib/python3.9/site-packages/urllib3/connectionpool.py:699\u001b[0m, in \u001b[0;36mHTTPConnectionPool.urlopen\u001b[0;34m(self, method, url, body, headers, retries, redirect, assert_same_host, timeout, pool_timeout, release_conn, chunked, body_pos, **response_kw)\u001b[0m\n\u001b[1;32m    698\u001b[0m \u001b[39m# Make the request on the httplib connection object.\u001b[39;00m\n\u001b[0;32m--> 699\u001b[0m httplib_response \u001b[39m=\u001b[39m \u001b[39mself\u001b[39;49m\u001b[39m.\u001b[39;49m_make_request(\n\u001b[1;32m    700\u001b[0m     conn,\n\u001b[1;32m    701\u001b[0m     method,\n\u001b[1;32m    702\u001b[0m     url,\n\u001b[1;32m    703\u001b[0m     timeout\u001b[39m=\u001b[39;49mtimeout_obj,\n\u001b[1;32m    704\u001b[0m     body\u001b[39m=\u001b[39;49mbody,\n\u001b[1;32m    705\u001b[0m     headers\u001b[39m=\u001b[39;49mheaders,\n\u001b[1;32m    706\u001b[0m     chunked\u001b[39m=\u001b[39;49mchunked,\n\u001b[1;32m    707\u001b[0m )\n\u001b[1;32m    709\u001b[0m \u001b[39m# If we're going to release the connection in ``finally:``, then\u001b[39;00m\n\u001b[1;32m    710\u001b[0m \u001b[39m# the response doesn't need to know about the connection. Otherwise\u001b[39;00m\n\u001b[1;32m    711\u001b[0m \u001b[39m# it will also try to release it and we'll have a double-release\u001b[39;00m\n\u001b[1;32m    712\u001b[0m \u001b[39m# mess.\u001b[39;00m\n",
      "File \u001b[0;32m/Library/Frameworks/Python.framework/Versions/3.9/lib/python3.9/site-packages/urllib3/connectionpool.py:382\u001b[0m, in \u001b[0;36mHTTPConnectionPool._make_request\u001b[0;34m(self, conn, method, url, timeout, chunked, **httplib_request_kw)\u001b[0m\n\u001b[1;32m    381\u001b[0m \u001b[39mtry\u001b[39;00m:\n\u001b[0;32m--> 382\u001b[0m     \u001b[39mself\u001b[39;49m\u001b[39m.\u001b[39;49m_validate_conn(conn)\n\u001b[1;32m    383\u001b[0m \u001b[39mexcept\u001b[39;00m (SocketTimeout, BaseSSLError) \u001b[39mas\u001b[39;00m e:\n\u001b[1;32m    384\u001b[0m     \u001b[39m# Py2 raises this as a BaseSSLError, Py3 raises it as socket timeout.\u001b[39;00m\n",
      "File \u001b[0;32m/Library/Frameworks/Python.framework/Versions/3.9/lib/python3.9/site-packages/urllib3/connectionpool.py:1010\u001b[0m, in \u001b[0;36mHTTPSConnectionPool._validate_conn\u001b[0;34m(self, conn)\u001b[0m\n\u001b[1;32m   1009\u001b[0m \u001b[39mif\u001b[39;00m \u001b[39mnot\u001b[39;00m \u001b[39mgetattr\u001b[39m(conn, \u001b[39m\"\u001b[39m\u001b[39msock\u001b[39m\u001b[39m\"\u001b[39m, \u001b[39mNone\u001b[39;00m):  \u001b[39m# AppEngine might not have  `.sock`\u001b[39;00m\n\u001b[0;32m-> 1010\u001b[0m     conn\u001b[39m.\u001b[39;49mconnect()\n\u001b[1;32m   1012\u001b[0m \u001b[39mif\u001b[39;00m \u001b[39mnot\u001b[39;00m conn\u001b[39m.\u001b[39mis_verified:\n",
      "File \u001b[0;32m/Library/Frameworks/Python.framework/Versions/3.9/lib/python3.9/site-packages/urllib3/connection.py:358\u001b[0m, in \u001b[0;36mHTTPSConnection.connect\u001b[0;34m(self)\u001b[0m\n\u001b[1;32m    356\u001b[0m \u001b[39mdef\u001b[39;00m \u001b[39mconnect\u001b[39m(\u001b[39mself\u001b[39m):\n\u001b[1;32m    357\u001b[0m     \u001b[39m# Add certificate verification\u001b[39;00m\n\u001b[0;32m--> 358\u001b[0m     conn \u001b[39m=\u001b[39m \u001b[39mself\u001b[39;49m\u001b[39m.\u001b[39;49m_new_conn()\n\u001b[1;32m    359\u001b[0m     hostname \u001b[39m=\u001b[39m \u001b[39mself\u001b[39m\u001b[39m.\u001b[39mhost\n",
      "File \u001b[0;32m/Library/Frameworks/Python.framework/Versions/3.9/lib/python3.9/site-packages/urllib3/connection.py:186\u001b[0m, in \u001b[0;36mHTTPConnection._new_conn\u001b[0;34m(self)\u001b[0m\n\u001b[1;32m    185\u001b[0m \u001b[39mexcept\u001b[39;00m SocketError \u001b[39mas\u001b[39;00m e:\n\u001b[0;32m--> 186\u001b[0m     \u001b[39mraise\u001b[39;00m NewConnectionError(\n\u001b[1;32m    187\u001b[0m         \u001b[39mself\u001b[39m, \u001b[39m\"\u001b[39m\u001b[39mFailed to establish a new connection: \u001b[39m\u001b[39m%s\u001b[39;00m\u001b[39m\"\u001b[39m \u001b[39m%\u001b[39m e\n\u001b[1;32m    188\u001b[0m     )\n\u001b[1;32m    190\u001b[0m \u001b[39mreturn\u001b[39;00m conn\n",
      "\u001b[0;31mNewConnectionError\u001b[0m: <urllib3.connection.HTTPSConnection object at 0x7fa6a1e407c0>: Failed to establish a new connection: [Errno 8] nodename nor servname provided, or not known",
      "\nDuring handling of the above exception, another exception occurred:\n",
      "\u001b[0;31mMaxRetryError\u001b[0m                             Traceback (most recent call last)",
      "File \u001b[0;32m/Library/Frameworks/Python.framework/Versions/3.9/lib/python3.9/site-packages/requests/adapters.py:439\u001b[0m, in \u001b[0;36mHTTPAdapter.send\u001b[0;34m(self, request, stream, timeout, verify, cert, proxies)\u001b[0m\n\u001b[1;32m    438\u001b[0m \u001b[39mif\u001b[39;00m \u001b[39mnot\u001b[39;00m chunked:\n\u001b[0;32m--> 439\u001b[0m     resp \u001b[39m=\u001b[39m conn\u001b[39m.\u001b[39;49murlopen(\n\u001b[1;32m    440\u001b[0m         method\u001b[39m=\u001b[39;49mrequest\u001b[39m.\u001b[39;49mmethod,\n\u001b[1;32m    441\u001b[0m         url\u001b[39m=\u001b[39;49murl,\n\u001b[1;32m    442\u001b[0m         body\u001b[39m=\u001b[39;49mrequest\u001b[39m.\u001b[39;49mbody,\n\u001b[1;32m    443\u001b[0m         headers\u001b[39m=\u001b[39;49mrequest\u001b[39m.\u001b[39;49mheaders,\n\u001b[1;32m    444\u001b[0m         redirect\u001b[39m=\u001b[39;49m\u001b[39mFalse\u001b[39;49;00m,\n\u001b[1;32m    445\u001b[0m         assert_same_host\u001b[39m=\u001b[39;49m\u001b[39mFalse\u001b[39;49;00m,\n\u001b[1;32m    446\u001b[0m         preload_content\u001b[39m=\u001b[39;49m\u001b[39mFalse\u001b[39;49;00m,\n\u001b[1;32m    447\u001b[0m         decode_content\u001b[39m=\u001b[39;49m\u001b[39mFalse\u001b[39;49;00m,\n\u001b[1;32m    448\u001b[0m         retries\u001b[39m=\u001b[39;49m\u001b[39mself\u001b[39;49m\u001b[39m.\u001b[39;49mmax_retries,\n\u001b[1;32m    449\u001b[0m         timeout\u001b[39m=\u001b[39;49mtimeout\n\u001b[1;32m    450\u001b[0m     )\n\u001b[1;32m    452\u001b[0m \u001b[39m# Send the request.\u001b[39;00m\n\u001b[1;32m    453\u001b[0m \u001b[39melse\u001b[39;00m:\n",
      "File \u001b[0;32m/Library/Frameworks/Python.framework/Versions/3.9/lib/python3.9/site-packages/urllib3/connectionpool.py:755\u001b[0m, in \u001b[0;36mHTTPConnectionPool.urlopen\u001b[0;34m(self, method, url, body, headers, retries, redirect, assert_same_host, timeout, pool_timeout, release_conn, chunked, body_pos, **response_kw)\u001b[0m\n\u001b[1;32m    753\u001b[0m     e \u001b[39m=\u001b[39m ProtocolError(\u001b[39m\"\u001b[39m\u001b[39mConnection aborted.\u001b[39m\u001b[39m\"\u001b[39m, e)\n\u001b[0;32m--> 755\u001b[0m retries \u001b[39m=\u001b[39m retries\u001b[39m.\u001b[39;49mincrement(\n\u001b[1;32m    756\u001b[0m     method, url, error\u001b[39m=\u001b[39;49me, _pool\u001b[39m=\u001b[39;49m\u001b[39mself\u001b[39;49m, _stacktrace\u001b[39m=\u001b[39;49msys\u001b[39m.\u001b[39;49mexc_info()[\u001b[39m2\u001b[39;49m]\n\u001b[1;32m    757\u001b[0m )\n\u001b[1;32m    758\u001b[0m retries\u001b[39m.\u001b[39msleep()\n",
      "File \u001b[0;32m/Library/Frameworks/Python.framework/Versions/3.9/lib/python3.9/site-packages/urllib3/util/retry.py:574\u001b[0m, in \u001b[0;36mRetry.increment\u001b[0;34m(self, method, url, response, error, _pool, _stacktrace)\u001b[0m\n\u001b[1;32m    573\u001b[0m \u001b[39mif\u001b[39;00m new_retry\u001b[39m.\u001b[39mis_exhausted():\n\u001b[0;32m--> 574\u001b[0m     \u001b[39mraise\u001b[39;00m MaxRetryError(_pool, url, error \u001b[39mor\u001b[39;00m ResponseError(cause))\n\u001b[1;32m    576\u001b[0m log\u001b[39m.\u001b[39mdebug(\u001b[39m\"\u001b[39m\u001b[39mIncremented Retry for (url=\u001b[39m\u001b[39m'\u001b[39m\u001b[39m%s\u001b[39;00m\u001b[39m'\u001b[39m\u001b[39m): \u001b[39m\u001b[39m%r\u001b[39;00m\u001b[39m\"\u001b[39m, url, new_retry)\n",
      "\u001b[0;31mMaxRetryError\u001b[0m: HTTPSConnectionPool(host='www.loc.govhttps', port=443): Max retries exceeded with url: //chroniclingamerica.loc.gov/lccn/sn92024097/1955-04-01/ed-1/seq-16/?fo=json (Caused by NewConnectionError('<urllib3.connection.HTTPSConnection object at 0x7fa6a1e407c0>: Failed to establish a new connection: [Errno 8] nodename nor servname provided, or not known'))",
      "\nDuring handling of the above exception, another exception occurred:\n",
      "\u001b[0;31mConnectionError\u001b[0m                           Traceback (most recent call last)",
      "Cell \u001b[0;32mIn [26], line 42\u001b[0m\n\u001b[1;32m     40\u001b[0m resource_ID \u001b[39m=\u001b[39m item[\u001b[39m'\u001b[39m\u001b[39mlink\u001b[39m\u001b[39m'\u001b[39m]\n\u001b[1;32m     41\u001b[0m short_ID \u001b[39m=\u001b[39m item[\u001b[39m'\u001b[39m\u001b[39mlink\u001b[39m\u001b[39m'\u001b[39m]\u001b[39m.\u001b[39msplit(\u001b[39m'\u001b[39m\u001b[39m/\u001b[39m\u001b[39m'\u001b[39m)[\u001b[39m2\u001b[39m]\n\u001b[0;32m---> 42\u001b[0m item_metadata \u001b[39m=\u001b[39m requests\u001b[39m.\u001b[39;49mget(endpoint \u001b[39m+\u001b[39;49m resource_ID, params\u001b[39m=\u001b[39;49mparameters)\n\u001b[1;32m     43\u001b[0m \u001b[39mprint\u001b[39m(\u001b[39m'\u001b[39m\u001b[39mrequested\u001b[39m\u001b[39m'\u001b[39m,item_metadata\u001b[39m.\u001b[39murl,item_metadata\u001b[39m.\u001b[39mstatus_code)\n\u001b[1;32m     44\u001b[0m \u001b[39mif\u001b[39;00m item_metadata\u001b[39m.\u001b[39mstatus_code \u001b[39m!=\u001b[39m \u001b[39m200\u001b[39m:\n",
      "File \u001b[0;32m/Library/Frameworks/Python.framework/Versions/3.9/lib/python3.9/site-packages/requests/api.py:75\u001b[0m, in \u001b[0;36mget\u001b[0;34m(url, params, **kwargs)\u001b[0m\n\u001b[1;32m     64\u001b[0m \u001b[39mdef\u001b[39;00m \u001b[39mget\u001b[39m(url, params\u001b[39m=\u001b[39m\u001b[39mNone\u001b[39;00m, \u001b[39m*\u001b[39m\u001b[39m*\u001b[39mkwargs):\n\u001b[1;32m     65\u001b[0m     \u001b[39mr\u001b[39m\u001b[39m\"\"\"Sends a GET request.\u001b[39;00m\n\u001b[1;32m     66\u001b[0m \n\u001b[1;32m     67\u001b[0m \u001b[39m    :param url: URL for the new :class:`Request` object.\u001b[39;00m\n\u001b[0;32m   (...)\u001b[0m\n\u001b[1;32m     72\u001b[0m \u001b[39m    :rtype: requests.Response\u001b[39;00m\n\u001b[1;32m     73\u001b[0m \u001b[39m    \"\"\"\u001b[39;00m\n\u001b[0;32m---> 75\u001b[0m     \u001b[39mreturn\u001b[39;00m request(\u001b[39m'\u001b[39;49m\u001b[39mget\u001b[39;49m\u001b[39m'\u001b[39;49m, url, params\u001b[39m=\u001b[39;49mparams, \u001b[39m*\u001b[39;49m\u001b[39m*\u001b[39;49mkwargs)\n",
      "File \u001b[0;32m/Library/Frameworks/Python.framework/Versions/3.9/lib/python3.9/site-packages/requests/api.py:61\u001b[0m, in \u001b[0;36mrequest\u001b[0;34m(method, url, **kwargs)\u001b[0m\n\u001b[1;32m     57\u001b[0m \u001b[39m# By using the 'with' statement we are sure the session is closed, thus we\u001b[39;00m\n\u001b[1;32m     58\u001b[0m \u001b[39m# avoid leaving sockets open which can trigger a ResourceWarning in some\u001b[39;00m\n\u001b[1;32m     59\u001b[0m \u001b[39m# cases, and look like a memory leak in others.\u001b[39;00m\n\u001b[1;32m     60\u001b[0m \u001b[39mwith\u001b[39;00m sessions\u001b[39m.\u001b[39mSession() \u001b[39mas\u001b[39;00m session:\n\u001b[0;32m---> 61\u001b[0m     \u001b[39mreturn\u001b[39;00m session\u001b[39m.\u001b[39;49mrequest(method\u001b[39m=\u001b[39;49mmethod, url\u001b[39m=\u001b[39;49murl, \u001b[39m*\u001b[39;49m\u001b[39m*\u001b[39;49mkwargs)\n",
      "File \u001b[0;32m/Library/Frameworks/Python.framework/Versions/3.9/lib/python3.9/site-packages/requests/sessions.py:542\u001b[0m, in \u001b[0;36mSession.request\u001b[0;34m(self, method, url, params, data, headers, cookies, files, auth, timeout, allow_redirects, proxies, hooks, stream, verify, cert, json)\u001b[0m\n\u001b[1;32m    537\u001b[0m send_kwargs \u001b[39m=\u001b[39m {\n\u001b[1;32m    538\u001b[0m     \u001b[39m'\u001b[39m\u001b[39mtimeout\u001b[39m\u001b[39m'\u001b[39m: timeout,\n\u001b[1;32m    539\u001b[0m     \u001b[39m'\u001b[39m\u001b[39mallow_redirects\u001b[39m\u001b[39m'\u001b[39m: allow_redirects,\n\u001b[1;32m    540\u001b[0m }\n\u001b[1;32m    541\u001b[0m send_kwargs\u001b[39m.\u001b[39mupdate(settings)\n\u001b[0;32m--> 542\u001b[0m resp \u001b[39m=\u001b[39m \u001b[39mself\u001b[39;49m\u001b[39m.\u001b[39;49msend(prep, \u001b[39m*\u001b[39;49m\u001b[39m*\u001b[39;49msend_kwargs)\n\u001b[1;32m    544\u001b[0m \u001b[39mreturn\u001b[39;00m resp\n",
      "File \u001b[0;32m/Library/Frameworks/Python.framework/Versions/3.9/lib/python3.9/site-packages/requests/sessions.py:655\u001b[0m, in \u001b[0;36mSession.send\u001b[0;34m(self, request, **kwargs)\u001b[0m\n\u001b[1;32m    652\u001b[0m start \u001b[39m=\u001b[39m preferred_clock()\n\u001b[1;32m    654\u001b[0m \u001b[39m# Send the request\u001b[39;00m\n\u001b[0;32m--> 655\u001b[0m r \u001b[39m=\u001b[39m adapter\u001b[39m.\u001b[39;49msend(request, \u001b[39m*\u001b[39;49m\u001b[39m*\u001b[39;49mkwargs)\n\u001b[1;32m    657\u001b[0m \u001b[39m# Total elapsed time of the request (approximately)\u001b[39;00m\n\u001b[1;32m    658\u001b[0m elapsed \u001b[39m=\u001b[39m preferred_clock() \u001b[39m-\u001b[39m start\n",
      "File \u001b[0;32m/Library/Frameworks/Python.framework/Versions/3.9/lib/python3.9/site-packages/requests/adapters.py:516\u001b[0m, in \u001b[0;36mHTTPAdapter.send\u001b[0;34m(self, request, stream, timeout, verify, cert, proxies)\u001b[0m\n\u001b[1;32m    512\u001b[0m     \u001b[39mif\u001b[39;00m \u001b[39misinstance\u001b[39m(e\u001b[39m.\u001b[39mreason, _SSLError):\n\u001b[1;32m    513\u001b[0m         \u001b[39m# This branch is for urllib3 v1.22 and later.\u001b[39;00m\n\u001b[1;32m    514\u001b[0m         \u001b[39mraise\u001b[39;00m SSLError(e, request\u001b[39m=\u001b[39mrequest)\n\u001b[0;32m--> 516\u001b[0m     \u001b[39mraise\u001b[39;00m \u001b[39mConnectionError\u001b[39;00m(e, request\u001b[39m=\u001b[39mrequest)\n\u001b[1;32m    518\u001b[0m \u001b[39mexcept\u001b[39;00m ClosedPoolError \u001b[39mas\u001b[39;00m e:\n\u001b[1;32m    519\u001b[0m     \u001b[39mraise\u001b[39;00m \u001b[39mConnectionError\u001b[39;00m(e, request\u001b[39m=\u001b[39mrequest)\n",
      "\u001b[0;31mConnectionError\u001b[0m: HTTPSConnectionPool(host='www.loc.govhttps', port=443): Max retries exceeded with url: //chroniclingamerica.loc.gov/lccn/sn92024097/1955-04-01/ed-1/seq-16/?fo=json (Caused by NewConnectionError('<urllib3.connection.HTTPSConnection object at 0x7fa6a1e407c0>: Failed to establish a new connection: [Errno 8] nodename nor servname provided, or not known'))"
     ]
    }
   ],
   "source": [
    "item_count = 0\n",
    "error_count = 0\n",
    "file_count = 0\n",
    "\n",
    "data_directory = 'data'\n",
    "item_metadata_directory = 'ftu_teachersandstudents_metadata'\n",
    "item_metadata_file_start = 'item_metadata'\n",
    "json_suffix = '.json'\n",
    "\n",
    "collection_set_list = os.path.join('data','collection_set_list.csv')\n",
    "\n",
    "with open(collection_set_list, 'r', encoding='utf-8', newline='') as f:\n",
    "    reader = csv.DictReader(f, fieldnames=headers)\n",
    "    for item in reader:\n",
    "        if item['link'] == 'link':\n",
    "            continue\n",
    "        # these resource links could redirect to item pages, but currently don't work\n",
    "        if '?' in item['link']:\n",
    "            resource_ID = item['link']\n",
    "            short_ID = item['link'].split('/')[2]\n",
    "            item_metadata = requests.get(endpoint + resource_ID + '&fo=json')\n",
    "            print('requested',item_metadata.url,item_metadata.status_code)\n",
    "            if item_metadata.status_code != 200:\n",
    "                print('requested',item_metadata.url,item_metadata.status_code)\n",
    "                error_count += 1\n",
    "                continue\n",
    "            try:\n",
    "                item_metadata.json()\n",
    "            except: #basically this catches all of the highsmith photos with hhh in the ID\n",
    "                error_count += 1\n",
    "                print('no json found')\n",
    "                continue\n",
    "            fout = os.path.join(data_directory, item_metadata_directory, str(item_metadata_file_start + '-' + short_ID + json_suffix))\n",
    "            with open(fout, 'w', encoding='utf-8') as json_file:\n",
    "                json_file.write(json.dumps(item_metadata.json()['item']))\n",
    "                file_count += 1\n",
    "                print('wrote', fout)\n",
    "            item_count += 1\n",
    "        else:\n",
    "            resource_ID = item['link']\n",
    "            short_ID = item['link'].split('/')[2]\n",
    "            item_metadata = requests.get(endpoint + resource_ID, params=parameters)\n",
    "            print('requested',item_metadata.url,item_metadata.status_code)\n",
    "            if item_metadata.status_code != 200:\n",
    "                print('requested',item_metadata.url,item_metadata.status_code)\n",
    "                error_count += 1\n",
    "                continue\n",
    "            try:\n",
    "                item_metadata.json()\n",
    "            except:\n",
    "                error_count += 1\n",
    "                print('no json found')\n",
    "                continue\n",
    "            fout = os.path.join(data_directory, item_metadata_directory, str(item_metadata_file_start + '-' + short_ID + json_suffix))\n",
    "            with open(fout, 'w', encoding='utf-8') as json_file:\n",
    "                json_file.write(json.dumps(item_metadata.json()['item']))\n",
    "                file_count += 1\n",
    "                print('wrote', fout)\n",
    "            item_count += 1\n",
    "\n",
    "print('--- mini LOG ---')\n",
    "print('items requested:',item_count)\n",
    "print('errors:',error_count)\n",
    "print('files written:',file_count)"
   ]
  },
  {
   "cell_type": "markdown",
   "metadata": {},
   "source": [
    "TRANSFORMATION PART 1: Testing"
   ]
  },
  {
   "cell_type": "code",
   "execution_count": 44,
   "metadata": {},
   "outputs": [
    {
     "name": "stdout",
     "output_type": "stream",
     "text": [
      "/Users/raynaketchum/Documents/umich/SI676/networked-services-labs\n"
     ]
    }
   ],
   "source": [
    "current_loc = os.getcwd()\n",
    "\n",
    "print(current_loc)"
   ]
  },
  {
   "cell_type": "code",
   "execution_count": 45,
   "metadata": {},
   "outputs": [
    {
     "name": "stdout",
     "output_type": "stream",
     "text": [
      "data/ftu_dogs_metadata_rlk\n"
     ]
    }
   ],
   "source": [
    "metadata_file_path = os.path.join('data','ftu_teachersandstudents_metadata')\n",
    "\n",
    "print(metadata_file_path)"
   ]
  },
  {
   "cell_type": "code",
   "execution_count": 46,
   "metadata": {},
   "outputs": [
    {
     "name": "stdout",
     "output_type": "stream",
     "text": [
      "data/ftu_dogs_metadata_rlk/item_metadata-cai.2a12829.json\n",
      "data/ftu_dogs_metadata_rlk/item_metadata-ggbain.11087.json\n",
      "data/ftu_dogs_metadata_rlk/item_metadata-cph.3b21894.json\n",
      "data/ftu_dogs_metadata_rlk/item_metadata-ggbain.21426.json\n",
      "data/ftu_dogs_metadata_rlk/item_metadata-gottlieb.01111.0.json\n",
      "data/ftu_dogs_metadata_rlk/item_metadata-ppmsc.05667.json\n",
      "data/ftu_dogs_metadata_rlk/item_metadata-ggbain.24645.json\n",
      "data/ftu_dogs_metadata_rlk/item_metadata-ggbain.21168.json\n",
      "data/ftu_dogs_metadata_rlk/item_metadata-ppmsc.01592.json\n",
      "data/ftu_dogs_metadata_rlk/item_metadata-ggbain.27023.json\n",
      "data/ftu_dogs_metadata_rlk/item_metadata-hec.05628.json\n",
      "data/ftu_dogs_metadata_rlk/item_metadata-sousa.200031428.0.json\n",
      "data/ftu_dogs_metadata_rlk/item_metadata-ggbain.18296.json\n",
      "data/ftu_dogs_metadata_rlk/item_metadata-ggbain.20728.json\n",
      "data/ftu_dogs_metadata_rlk/item_metadata-ggbain.26131.json\n",
      "data/ftu_dogs_metadata_rlk/item_metadata-gottlieb.04241.0.json\n",
      "data/ftu_dogs_metadata_rlk/item_metadata-ggbain.17751.json\n",
      "data/ftu_dogs_metadata_rlk/item_metadata-ppmsca.37480.json\n",
      "data/ftu_dogs_metadata_rlk/item_metadata-ggbain.11145.json\n",
      "data/ftu_dogs_metadata_rlk/item_metadata-ppmsc.05664.json\n",
      "data/ftu_dogs_metadata_rlk/item_metadata-ppmsca.34970.json\n",
      "data/ftu_dogs_metadata_rlk/item_metadata-pga.07635.json\n",
      "data/ftu_dogs_metadata_rlk/item_metadata-ggbain.16691.json\n",
      "data/ftu_dogs_metadata_rlk/item_metadata-gottlieb.04271.0.json\n",
      "data/ftu_dogs_metadata_rlk/item_metadata-ggbain.19461.json\n",
      "data/ftu_dogs_metadata_rlk/item_metadata-ggbain.11088.json\n",
      "data/ftu_dogs_metadata_rlk/item_metadata-ggbain.10973.json\n",
      "data/ftu_dogs_metadata_rlk/item_metadata-ppmsc.05665.json\n",
      "found 28\n"
     ]
    }
   ],
   "source": [
    "file_count = 0\n",
    "\n",
    "for file in glob.glob('data/ftu_teachersandstudents_metadata/item_metadata-*.json'):\n",
    "    file_count += 1\n",
    "    print(file)\n",
    "\n",
    "print('found', file_count)"
   ]
  },
  {
   "cell_type": "code",
   "execution_count": 47,
   "metadata": {},
   "outputs": [],
   "source": [
    "list_of_item_metadata_files = list()\n",
    "for file in glob.glob('data/ftu_teachersandstudents_metadata/item_metadata-*.json'):\n",
    "    list_of_item_metadata_files.append(file)"
   ]
  },
  {
   "cell_type": "code",
   "execution_count": 48,
   "metadata": {},
   "outputs": [
    {
     "data": {
      "text/plain": [
       "28"
      ]
     },
     "execution_count": 48,
     "metadata": {},
     "output_type": "execute_result"
    }
   ],
   "source": [
    "len(list_of_item_metadata_files)"
   ]
  },
  {
   "cell_type": "code",
   "execution_count": 49,
   "metadata": {},
   "outputs": [
    {
     "name": "stdout",
     "output_type": "stream",
     "text": [
      "data/ftu_dogs_metadata_rlk/item_metadata-cai.2a12829.json\n",
      "data/ftu_dogs_metadata_rlk/item_metadata-cph.3b21894.json\n",
      "data/ftu_dogs_metadata_rlk/item_metadata-ggbain.10973.json\n",
      "data/ftu_dogs_metadata_rlk/item_metadata-ggbain.11087.json\n",
      "data/ftu_dogs_metadata_rlk/item_metadata-ggbain.11088.json\n",
      "data/ftu_dogs_metadata_rlk/item_metadata-ggbain.11145.json\n",
      "data/ftu_dogs_metadata_rlk/item_metadata-ggbain.16691.json\n",
      "data/ftu_dogs_metadata_rlk/item_metadata-ggbain.17751.json\n",
      "data/ftu_dogs_metadata_rlk/item_metadata-ggbain.18296.json\n",
      "data/ftu_dogs_metadata_rlk/item_metadata-ggbain.19461.json\n",
      "data/ftu_dogs_metadata_rlk/item_metadata-ggbain.20728.json\n",
      "data/ftu_dogs_metadata_rlk/item_metadata-ggbain.21168.json\n",
      "data/ftu_dogs_metadata_rlk/item_metadata-ggbain.21426.json\n",
      "data/ftu_dogs_metadata_rlk/item_metadata-ggbain.24645.json\n",
      "data/ftu_dogs_metadata_rlk/item_metadata-ggbain.26131.json\n",
      "data/ftu_dogs_metadata_rlk/item_metadata-ggbain.27023.json\n",
      "data/ftu_dogs_metadata_rlk/item_metadata-gottlieb.01111.0.json\n",
      "data/ftu_dogs_metadata_rlk/item_metadata-gottlieb.04241.0.json\n",
      "data/ftu_dogs_metadata_rlk/item_metadata-gottlieb.04271.0.json\n",
      "data/ftu_dogs_metadata_rlk/item_metadata-hec.05628.json\n",
      "data/ftu_dogs_metadata_rlk/item_metadata-pga.07635.json\n",
      "data/ftu_dogs_metadata_rlk/item_metadata-ppmsc.01592.json\n",
      "data/ftu_dogs_metadata_rlk/item_metadata-ppmsc.05664.json\n",
      "data/ftu_dogs_metadata_rlk/item_metadata-ppmsc.05665.json\n",
      "data/ftu_dogs_metadata_rlk/item_metadata-ppmsc.05667.json\n",
      "data/ftu_dogs_metadata_rlk/item_metadata-ppmsca.34970.json\n",
      "data/ftu_dogs_metadata_rlk/item_metadata-ppmsca.37480.json\n",
      "data/ftu_dogs_metadata_rlk/item_metadata-sousa.200031428.0.json\n"
     ]
    }
   ],
   "source": [
    "list_of_item_metadata_files.sort()\n",
    "\n",
    "for file in list_of_item_metadata_files:\n",
    "    print(file)"
   ]
  },
  {
   "cell_type": "code",
   "execution_count": 50,
   "metadata": {},
   "outputs": [
    {
     "name": "stdout",
     "output_type": "stream",
     "text": [
      "file: data/ftu_dogs_metadata_rlk/item_metadata-cai.2a12829.json \n",
      "\n",
      "_version_ : 1709975129956548608\n",
      "access_advisory : Restricted access: Materials in this collection are often extremely fragile; most originals cannot be served.\n",
      "access_restricted : False\n",
      "aka : ['http://www.loc.gov/pictures/collection/cai/item/2010716169/', 'http://www.loc.gov/item/2010716169/', 'http://www.loc.gov/pictures/item/2010716169/', 'http://hdl.loc.gov/loc.pnp/cai.2a12829', 'http://www.loc.gov/resource/cai.2a12829/', 'http://lccn.loc.gov/2010716169']\n",
      "call_number : CAI - Gibson, no. 26 (D size) [P&P]\n",
      "campaigns : []\n",
      "contributor_names : ['Gibson, Charles Dana, 1867-1944, artist']\n",
      "contributors : [{'gibson, charles dana': 'https://www.loc.gov/search/?fa=contributor:gibson,+charles+dana&fo=json'}]\n",
      "control_number : \n",
      "created : 2016-04-20 12:39:14\n",
      "created_published : ['[1903?]']\n",
      "created_published_date : [1903?]\n",
      "creator : Gibson, Charles Dana, 1867-1944, artist.\n",
      "date : 1903\n",
      "dates : [{'1903': 'https://www.loc.gov/search/?dates=1903/1903&fo=json'}]\n",
      "description : ['1 drawing : pen and ink.']\n",
      "digital_id : ['cai 2a12829 //hdl.loc.gov/loc.pnp/cai.2a12829']\n",
      "digitized : True\n",
      "display_offsite : True\n",
      "extract_timestamp : 2021-09-01T22:48:09.921Z\n",
      "extract_urls : ['http://www.loc.gov/pictures/collection/cai/item/2010716169/#cai', 'http://lccn.loc.gov/2010716169#catalog']\n",
      "format : [{'photo, print, drawing': 'https://www.loc.gov/search/?fa=original_format:photo,+print,+drawing&fo=json'}]\n",
      "format_headings : ['Drawings.', 'Periodical illustrations.']\n",
      "group : ['cai', 'catalog', 'cabinet-of-american-illustration', 'main-catalog']\n",
      "hassegments : False\n",
      "id : http://www.loc.gov/item/2010716169/\n",
      "image_url : ['https://tile.loc.gov/storage-services/service/pnp/cai/2a12000/2a12800/2a12829_150px.jpg', 'https://tile.loc.gov/storage-services/service/pnp/cai/2a12000/2a12800/2a12829_150px.jpg#h=147&w=150', 'https://tile.loc.gov/storage-services/service/pnp/cai/2a12000/2a12800/2a12829t.gif#h=147&w=150', 'https://tile.loc.gov/storage-services/service/pnp/cai/2a12000/2a12800/2a12829r.jpg#h=626&w=640']\n",
      "index : 1\n",
      "item : {'access_advisory': 'Restricted access: Materials in this collection are often extremely fragile; most originals cannot be served.', 'call_number': 'CAI - Gibson, no. 26 (D size) [P&P]', 'contributors': ['Gibson, Charles Dana, 1867-1944, artist.'], 'control_number': '2010716169', 'created': '2016-04-20 12:39:14', 'created_published': '[1903?]', 'created_published_date': '[1903?]', 'creator': 'Gibson, Charles Dana, 1867-1944, artist.', 'creators': [{'link': '//www.loc.gov/pictures/related/?fi=name&q=Gibson%2C%20Charles%20Dana%2C%201867-1944&co=cai', 'role': 'artist', 'title': 'Gibson, Charles Dana, 1867-1944'}], 'date': '[1903?]', 'digital_id': ['cai 2a12829 //hdl.loc.gov/loc.pnp/cai.2a12829'], 'display_offsite': True, 'format': ['still image'], 'formats': [{'link': '//www.loc.gov/pictures/related/?fi=format&q=Drawings.&co=cai', 'title': 'Drawings.'}, {'link': '//www.loc.gov/pictures/related/?fi=format&q=Periodical%20illustrations.&co=cai', 'title': 'Periodical illustrations.'}], 'id': '2010716169', 'language': ['eng'], 'link': '//www.loc.gov/pictures/item/2010716169/', 'marc': '//www.loc.gov/pictures/item/2010716169/marc/', 'medium': ['1 drawing : pen and ink.'], 'medium_brief': '1 drawing :', 'mediums': ['1 drawing : pen and ink.'], 'modified': '2016-04-20 12:39:14', 'notes': ['(DLC/PP-1935:0059).', 'Forms part of: Cabinet of American illustration (Library of Congress).', \"Published in: Collier's weekly, 30:20-21 (March 28, 1903).\"], 'part_of': 'Cabinet of American illustration (Library of Congress)', 'repository': 'Library of Congress Prints and Photographs Division Washington, D.C. 20540 USA http://hdl.loc.gov/loc.pnp/pp.print', 'resource_links': ['//hdl.loc.gov/loc.pnp/cai.2a12829'], 'restriction': 'Restricted access: Materials in this collection are often extremely fragile; most originals cannot be served.', 'rights_advisory': 'No known restrictions on publication.', 'rights_information': 'No known restrictions on publication.', 'service_low': 'https://tile.loc.gov/storage-services/service/pnp/cai/2a12000/2a12800/2a12829_150px.jpg', 'service_medium': 'https://tile.loc.gov/storage-services/service/pnp/cai/2a12000/2a12800/2a12829r.jpg', 'sort_date': '1903', 'source_created': '2006-01-23 00:00:00', 'source_modified': '2011-10-25 16:46:41', 'subject_headings': ['Children.', 'Courtship.', 'Interiors.', 'Mothers.', 'Pets.', 'Women.'], 'subjects': ['Children', 'Courtship', 'Interiors', 'Mothers', 'Pets', 'Women'], 'thumb_gallery': 'https://tile.loc.gov/storage-services/service/pnp/cai/2a12000/2a12800/2a12829_150px.jpg', 'title': 'Some women prefer dogs'}\n",
      "language : ['english']\n",
      "languages : [{'english': 'https://www.loc.gov/search/?fa=language:english&fo=json'}]\n",
      "library_of_congress_control_number : 2010716169\n",
      "link : //www.loc.gov/pictures/item/2010716169/\n",
      "marc : //www.loc.gov/pictures/item/2010716169/marc/\n",
      "medium : ['1 drawing : pen and ink.']\n",
      "medium_brief : 1 drawing :\n",
      "mime_type : ['image/gif', 'image/jpg', 'image/tif', 'image/jpeg']\n",
      "modified : 2016-04-20 12:39:14\n",
      "notes : ['(DLC/PP-1935:0059).', 'Forms part of: Cabinet of American illustration (Library of Congress).', \"Published in: Collier's weekly, 30:20-21 (March 28, 1903).\"]\n",
      "online_format : ['image']\n",
      "original_format : ['photo, print, drawing']\n",
      "other_formats : [{'label': 'MARCXML Record', 'link': 'https://lccn.loc.gov/2010716169/marcxml'}, {'label': 'MODS Record', 'link': 'https://lccn.loc.gov/2010716169/mods'}, {'label': 'Dublin Core Record', 'link': 'https://lccn.loc.gov/2010716169/dc'}]\n",
      "other_title : []\n",
      "partof : [{'count': 3932, 'title': 'cabinet of american illustration', 'url': 'https://www.loc.gov/collections/cabinet-of-american-illustration/?fo=json'}, {'count': 1024984, 'title': 'prints and photographs division', 'url': 'https://www.loc.gov/search/?fa=partof:prints+and+photographs+division&fo=json'}, {'count': 1348238, 'title': 'catalog', 'url': 'https://www.loc.gov/search/?fa=partof:catalog&fo=json'}]\n",
      "related : {'neighbors': '//www.loc.gov/pictures/related/?&co=cai&pk=2010716169&st=gallery&sb=call_number#focus'}\n",
      "repository : ['Library of Congress Prints and Photographs Division Washington, D.C. 20540 USA http://hdl.loc.gov/loc.pnp/pp.print']\n",
      "reproductions : []\n",
      "resource_links : ['//hdl.loc.gov/loc.pnp/cai.2a12829']\n",
      "resources : [{'caption': 'digital file from intermediary roll film copy', 'files': 1, 'image': 'https://tile.loc.gov/storage-services/service/pnp/cai/2a12000/2a12800/2a12829_150px.jpg', 'url': 'https://www.loc.gov/resource/cai.2a12829/'}]\n",
      "restriction : Restricted access: Materials in this collection are often extremely fragile; most originals cannot be served.\n",
      "rights : ['<p>The Library of Congress does not&nbsp;own rights to material  in its collections. Therefore, it does not license or charge permission fees  for use of such material and cannot grant or deny permission to publish or  otherwise distribute the material. </p>\\n<p>Ultimately, it is the researcher\\'s obligation to assess copyright or other use restrictions and  obtain permission from third parties when necessary before publishing or  otherwise distributing materials found in the Library\\'s collections. </p>\\n<p>For information about reproducing,  publishing, and citing material from this collection, as well as access to the  original items, see: <a href=\"//www.loc.gov/rr/print/res/111_cai.html\">Cabinet of American Illustration - Rights and Restrictions Information</a> </p>\\n \\n']\n",
      "rights_advisory : No known restrictions on publication.\n",
      "rights_information : No known restrictions on publication.\n",
      "score : 8.847126\n",
      "shelf_id : CAI - Gibson, no. 26 (D size) [P&P]\n",
      "site : ['pictures', 'catalog']\n",
      "sort_date : 1903\n",
      "source_collection : Cabinet of American illustration (Library of Congress)\n",
      "source_created : 2006-01-23 00:00:00\n",
      "source_modified : 2011-10-25 16:46:41\n",
      "subject : ['mothers', 'interiors', 'periodical illustrations', 'drawings', 'pets', 'courtship', 'children', 'women']\n",
      "subject_headings : ['Children', 'Courtship', 'Interiors', 'Mothers', 'Pets', 'Women']\n",
      "subjects : [{'children': 'https://www.loc.gov/search/?fa=subject:children&fo=json'}, {'courtship': 'https://www.loc.gov/search/?fa=subject:courtship&fo=json'}, {'drawings': 'https://www.loc.gov/search/?fa=subject:drawings&fo=json'}, {'interiors': 'https://www.loc.gov/search/?fa=subject:interiors&fo=json'}, {'mothers': 'https://www.loc.gov/search/?fa=subject:mothers&fo=json'}, {'periodical illustrations': 'https://www.loc.gov/search/?fa=subject:periodical+illustrations&fo=json'}, {'pets': 'https://www.loc.gov/search/?fa=subject:pets&fo=json'}, {'women': 'https://www.loc.gov/search/?fa=subject:women&fo=json'}]\n",
      "thumb_gallery : https://tile.loc.gov/storage-services/service/pnp/cai/2a12000/2a12800/2a12829_150px.jpg\n",
      "timestamp : 2021-09-04T12:42:38.971Z\n",
      "title : Some women prefer dogs\n",
      "type : ['photo, print, drawing']\n",
      "unrestricted : True\n",
      "url : https://www.loc.gov/item/2010716169/\n"
     ]
    }
   ],
   "source": [
    "# try first with one file, can you open the json, can you see what elements are in the json?\n",
    "with open(list_of_item_metadata_files[0], 'r', encoding='utf-8') as item:\n",
    "    # what are we looking at?\n",
    "    print('file:',list_of_item_metadata_files[0],'\\n')\n",
    "    \n",
    "    # load the item data\n",
    "    item_data = json.load(item)\n",
    "    \n",
    "    for element in item_data.keys():\n",
    "        print(element,':',item_data[element])"
   ]
  },
  {
   "cell_type": "code",
   "execution_count": 51,
   "metadata": {},
   "outputs": [
    {
     "data": {
      "text/plain": [
       "dict_keys(['_version_', 'access_advisory', 'access_restricted', 'aka', 'call_number', 'campaigns', 'contributor_names', 'contributors', 'control_number', 'created', 'created_published', 'created_published_date', 'creator', 'date', 'dates', 'description', 'digital_id', 'digitized', 'display_offsite', 'extract_timestamp', 'extract_urls', 'format', 'format_headings', 'group', 'hassegments', 'id', 'image_url', 'index', 'item', 'language', 'languages', 'library_of_congress_control_number', 'link', 'marc', 'medium', 'medium_brief', 'mime_type', 'modified', 'notes', 'online_format', 'original_format', 'other_formats', 'other_title', 'partof', 'related', 'repository', 'reproductions', 'resource_links', 'resources', 'restriction', 'rights', 'rights_advisory', 'rights_information', 'score', 'shelf_id', 'site', 'sort_date', 'source_collection', 'source_created', 'source_modified', 'subject', 'subject_headings', 'subjects', 'thumb_gallery', 'timestamp', 'title', 'type', 'unrestricted', 'url'])"
      ]
     },
     "execution_count": 51,
     "metadata": {},
     "output_type": "execute_result"
    }
   ],
   "source": [
    "item_data.keys()"
   ]
  },
  {
   "cell_type": "code",
   "execution_count": null,
   "metadata": {},
   "outputs": [],
   "source": []
  },
  {
   "cell_type": "code",
   "execution_count": 52,
   "metadata": {},
   "outputs": [
    {
     "name": "stdout",
     "output_type": "stream",
     "text": [
      "\n",
      "date: 1903 <class 'str'>\n"
     ]
    }
   ],
   "source": [
    "print('\\ndate:',item_data['date'], type(item_data['date']))\n"
   ]
  },
  {
   "cell_type": "code",
   "execution_count": 53,
   "metadata": {},
   "outputs": [
    {
     "name": "stdout",
     "output_type": "stream",
     "text": [
      "\n",
      "format: {'photo, print, drawing': 'https://www.loc.gov/search/?fa=original_format:photo,+print,+drawing&fo=json'} <class 'list'>\n"
     ]
    }
   ],
   "source": [
    "print('\\nformat:',item_data['format'][0], type(item_data['format']))"
   ]
  },
  {
   "cell_type": "markdown",
   "metadata": {},
   "source": [
    "TEST: TRY IT WITH ONE EXAMPLE "
   ]
  },
  {
   "cell_type": "code",
   "execution_count": 54,
   "metadata": {},
   "outputs": [
    {
     "name": "stdout",
     "output_type": "stream",
     "text": [
      "created row dictionary: {'source_file': 'data/ftu_dogs_metadata_rlk/item_metadata-sousa.200031428.0.json', 'item_id': '2010716169', 'title': 'Some women prefer dogs', 'date': '1903', 'source_url': 'https://www.loc.gov/item/2010716169/', 'phys_format': {'photo, print, drawing': 'https://www.loc.gov/search/?fa=original_format:photo,+print,+drawing&fo=json'}, 'subjects': {'children': 'https://www.loc.gov/search/?fa=subject:children&fo=json'}, 'rights': 'No known restrictions on publication.'}\n",
      "wrote collection_items_data_rlk.csv\n"
     ]
    }
   ],
   "source": [
    "collection_info_csv = 'collection_items_data.csv'\n",
    "\n",
    "headers = ['source_file', 'item_id', 'title', 'date', 'source_url', 'phys_format', 'subjects', 'rights'\n",
    "]\n",
    "\n",
    "with open(list_of_item_metadata_files[0], 'r', encoding='utf-8') as data:\n",
    "    item_data = json.load(data)\n",
    "\n",
    "    source_file = str(file)\n",
    "    try:\n",
    "        item_id = item_data['library_of_congress_control_number']\n",
    "    except:\n",
    "        item_id = item_data['url'].split('/')[-2]\n",
    "    title = item_data['title']\n",
    "    date = item_data['date']\n",
    "    source_url = item_data['url']\n",
    "    try:\n",
    "        phys_format = item_data['format'][0]\n",
    "    except:\n",
    "        phys_format = 'Not found'\n",
    "    try:\n",
    "        subjects = item_data['subjects'][0]\n",
    "    except:\n",
    "        subjects = 'Not found'\n",
    "    mime_type = item_data['mime_type']\n",
    "    try:\n",
    "        rights = item_data['rights_information']\n",
    "    except:\n",
    "        rights = 'Undetermined'\n",
    "    \n",
    "    \n",
    "    row_dict = dict()\n",
    "    # look for the item metadata, assign it to the dictionary; \n",
    "    # start with some basic elements likely (already enumerated in the headers list) :\n",
    "    # source file\n",
    "    row_dict['source_file'] = source_file\n",
    "    # identifier\n",
    "    row_dict['item_id'] = item_id\n",
    "    # title\n",
    "    row_dict['title'] = title\n",
    "    # date\n",
    "    row_dict['date'] = date\n",
    "    # link\n",
    "    row_dict['source_url'] = source_url\n",
    "    # format\n",
    "    row_dict['phys_format'] = phys_format\n",
    "    # digital format\n",
    "    row_dict['subjects'] = subjects\n",
    "    #rights\n",
    "    row_dict['rights'] = rights\n",
    "    print('created row dictionary:',row_dict)\n",
    "\n",
    "    # write to the csv\n",
    "    with open(collection_info_csv, 'w', encoding='utf-8') as fout:\n",
    "        writer = csv.DictWriter(fout, fieldnames=headers)\n",
    "        writer.writeheader()\n",
    "        writer.writerow(row_dict)\n",
    "        print('wrote',collection_info_csv)"
   ]
  },
  {
   "cell_type": "markdown",
   "metadata": {},
   "source": [
    "Developing the structure of the CSV file \n",
    "\n",
    "Find a direct url to a good image file for the item. "
   ]
  },
  {
   "cell_type": "markdown",
   "metadata": {},
   "source": [
    "HEADERS!"
   ]
  },
  {
   "cell_type": "code",
   "execution_count": 55,
   "metadata": {},
   "outputs": [
    {
     "name": "stdout",
     "output_type": "stream",
     "text": [
      "https://tile.loc.gov/storage-services/service/pnp/cai/2a12000/2a12800/2a12829r.jpg#h=626&w=640\n"
     ]
    }
   ],
   "source": [
    "collection_info_csv = 'collection_items_data.csv'\n",
    "\n",
    "# set up a list for the columns in your csv; in future, this should be more automated but this works for now as you set up the crosswalk\n",
    "headers = ['source_file', 'item_id', 'title', 'date', 'source_url', 'phys_format', 'subjects', 'rights']\n",
    "\n",
    "# try first with one file\n",
    "with open(list_of_item_metadata_files[0], 'r', encoding='utf-8') as data:\n",
    "    # load the item data\n",
    "    item_data = json.load(data)\n",
    "    \n",
    "    print(item_data['image_url'][3])"
   ]
  },
  {
   "cell_type": "markdown",
   "metadata": {},
   "source": [
    "Transformation Part 2"
   ]
  },
  {
   "cell_type": "code",
   "execution_count": 56,
   "metadata": {},
   "outputs": [
    {
     "name": "stdout",
     "output_type": "stream",
     "text": [
      "removed data/collection_items_data.csv\n"
     ]
    }
   ],
   "source": [
    "items_data_file = os.path.join(data_directory, 'collection_items_data.csv')\n",
    "\n",
    "if os.path.isfile(items_data_file):\n",
    "    os.unlink(items_data_file)\n",
    "    print('removed',items_data_file)\n",
    "\n",
    "# clear row_dict\n",
    "row_dict = ()"
   ]
  },
  {
   "cell_type": "code",
   "execution_count": 57,
   "metadata": {},
   "outputs": [
    {
     "name": "stdout",
     "output_type": "stream",
     "text": [
      "2022-12-01\n"
     ]
    }
   ],
   "source": [
    "from datetime import date\n",
    "\n",
    "date_string_for_today = date.today().strftime('%Y-%m-%d') # see https://docs.python.org/3/library/datetime.html#strftime-strptime-behavior\n",
    "\n",
    "print(date_string_for_today)"
   ]
  },
  {
   "cell_type": "code",
   "execution_count": 58,
   "metadata": {},
   "outputs": [
    {
     "name": "stdout",
     "output_type": "stream",
     "text": [
      "opening data/ftu_dogs_metadata_rlk/item_metadata-cai.2a12829.json\n",
      "adding 2010716169\n",
      "opening data/ftu_dogs_metadata_rlk/item_metadata-cph.3b21894.json\n",
      "adding 2003677476\n",
      "opening data/ftu_dogs_metadata_rlk/item_metadata-ggbain.10973.json\n",
      "adding 2014690955\n",
      "opening data/ftu_dogs_metadata_rlk/item_metadata-ggbain.11087.json\n",
      "adding 2014691174\n",
      "opening data/ftu_dogs_metadata_rlk/item_metadata-ggbain.11088.json\n",
      "adding 2014691175\n",
      "opening data/ftu_dogs_metadata_rlk/item_metadata-ggbain.11145.json\n",
      "adding 2014691232\n",
      "opening data/ftu_dogs_metadata_rlk/item_metadata-ggbain.16691.json\n",
      "adding 2014696845\n",
      "opening data/ftu_dogs_metadata_rlk/item_metadata-ggbain.17751.json\n",
      "adding 2014698005\n",
      "opening data/ftu_dogs_metadata_rlk/item_metadata-ggbain.18296.json\n",
      "adding 2014698333\n",
      "opening data/ftu_dogs_metadata_rlk/item_metadata-ggbain.19461.json\n",
      "adding 2014699393\n",
      "opening data/ftu_dogs_metadata_rlk/item_metadata-ggbain.20728.json\n",
      "adding 2014700662\n",
      "opening data/ftu_dogs_metadata_rlk/item_metadata-ggbain.21168.json\n",
      "adding 2014701106\n",
      "opening data/ftu_dogs_metadata_rlk/item_metadata-ggbain.21426.json\n",
      "adding 2014701364\n",
      "opening data/ftu_dogs_metadata_rlk/item_metadata-ggbain.24645.json\n",
      "adding 2014704827\n",
      "opening data/ftu_dogs_metadata_rlk/item_metadata-ggbain.26131.json\n",
      "adding 2014706300\n",
      "opening data/ftu_dogs_metadata_rlk/item_metadata-ggbain.27023.json\n",
      "adding 2014707186\n",
      "opening data/ftu_dogs_metadata_rlk/item_metadata-gottlieb.01111.0.json\n",
      "adding gottlieb.01111\n",
      "opening data/ftu_dogs_metadata_rlk/item_metadata-gottlieb.04241.0.json\n",
      "adding gottlieb.04241\n",
      "opening data/ftu_dogs_metadata_rlk/item_metadata-gottlieb.04271.0.json\n",
      "adding gottlieb.04271\n",
      "opening data/ftu_dogs_metadata_rlk/item_metadata-hec.05628.json\n",
      "adding 2016866260\n",
      "opening data/ftu_dogs_metadata_rlk/item_metadata-pga.07635.json\n",
      "adding 2003672857\n",
      "opening data/ftu_dogs_metadata_rlk/item_metadata-ppmsc.01592.json\n",
      "adding 99614317\n",
      "opening data/ftu_dogs_metadata_rlk/item_metadata-ppmsc.05664.json\n",
      "adding 2001697922\n",
      "opening data/ftu_dogs_metadata_rlk/item_metadata-ppmsc.05665.json\n",
      "adding 2001697923\n",
      "opening data/ftu_dogs_metadata_rlk/item_metadata-ppmsc.05667.json\n",
      "adding 2001697925\n",
      "opening data/ftu_dogs_metadata_rlk/item_metadata-ppmsca.34970.json\n",
      "adding 2013645726\n",
      "opening data/ftu_dogs_metadata_rlk/item_metadata-ppmsca.37480.json\n",
      "adding 2014645463\n",
      "opening data/ftu_dogs_metadata_rlk/item_metadata-sousa.200031428.0.json\n",
      "adding sousa.200031428\n",
      "\n",
      "\n",
      "--- LOG ---\n",
      "wrote data/collection_items_data.csv\n",
      "with 28 items\n",
      "0 errors (info not written)\n"
     ]
    }
   ],
   "source": [
    "collection_info_csv = os.path.join('data','collection_items_data.csv')\n",
    "file_count = 0\n",
    "items_written = 0\n",
    "error_count = 0\n",
    "\n",
    "headers = ['item_type', 'date_uploaded', 'source_file', 'item_id', 'title', 'date', 'source_url', 'phys_format', 'subjects', 'rights', \"image_url\" ]\n",
    "\n",
    "for file in list_of_item_metadata_files:\n",
    "    file_count += 1\n",
    "    print('opening',file)\n",
    "    with open(file, 'r', encoding='utf-8') as item:\n",
    "        # load the item data\n",
    "        try:\n",
    "            item_data = json.load(item)\n",
    "        except:\n",
    "            print('error loading',file)\n",
    "            error_count += 1\n",
    "            continue\n",
    "\n",
    "        # extract/name the data you want\n",
    "        # item type\n",
    "        item_type = 'Item'\n",
    "        # date uplaoded\n",
    "        date_uploaded = date_string_for_today\n",
    "        # for checking purposes, add in the source of the info\n",
    "        source_file = str(file)\n",
    "        # make sure there's some unique and stable identifier\n",
    "        try:\n",
    "            item_id = item_data['library_of_congress_control_number']\n",
    "        except:\n",
    "            item_id = item_data['url'].split('/')[-2]\n",
    "        title = item_data['title']\n",
    "        try:\n",
    "            date = item_data['date']\n",
    "        except:\n",
    "            date = 'n.d.'\n",
    "        source_url = item_data['url']\n",
    "        try:\n",
    "            phys_format = item_data['format'][0]\n",
    "        except:\n",
    "            phys_format = 'Not found'\n",
    "        try:\n",
    "            subjects = item_data['subjects'][0]\n",
    "        except:\n",
    "            subjects = 'Not found'\n",
    "        try:\n",
    "            rights = item_data['rights_information']\n",
    "        except:\n",
    "            rights = 'Undetermined'\n",
    "        try:\n",
    "            image_url = item_data['image_url'][0]\n",
    "        except:\n",
    "            image_url = 'Not Found'\n",
    "\n",
    "         # dictionary for the rows\n",
    "        row_dict = dict()\n",
    "\n",
    "        # look for the item metadata, assign it to the dictionary;\n",
    "        # start with some basic elements likely (already enumerated in the headers list) :\n",
    "        # item type\n",
    "        row_dict['item_type'] = item_type\n",
    "        # date uploaded\n",
    "        row_dict['date_uploaded'] = date_uploaded\n",
    "        # source filename\n",
    "        row_dict['source_file'] = source_file\n",
    "        # identifier\n",
    "        row_dict['item_id'] = item_id\n",
    "        # title\n",
    "        row_dict['title'] = title\n",
    "        # date\n",
    "        row_dict['date'] = date\n",
    "        # link\n",
    "        row_dict['source_url'] = source_url\n",
    "        # format\n",
    "        row_dict['phys_format'] = phys_format\n",
    "        # digital format\n",
    "        row_dict['subjects'] = subjects\n",
    "        #rights\n",
    "        row_dict['rights'] = rights\n",
    "        #image\n",
    "        row_dict['image_url'] = image_url\n",
    "\n",
    "\n",
    "        # write to the csv\n",
    "        with open(collection_info_csv, 'a', encoding='utf-8') as fout:\n",
    "            writer = csv.DictWriter(fout, fieldnames=headers)\n",
    "            if items_written == 0:\n",
    "                writer.writeheader()\n",
    "            writer.writerow(row_dict)\n",
    "            items_written += 1\n",
    "            print('adding',item_id)\n",
    "\n",
    "print('\\n\\n--- LOG ---')\n",
    "print('wrote',collection_info_csv)\n",
    "print('with',items_written,'items')\n",
    "print(error_count,'errors (info not written)')\n"
   ]
  },
  {
   "cell_type": "markdown",
   "metadata": {},
   "source": []
  }
 ],
 "metadata": {
  "kernelspec": {
   "display_name": "Python 3.9.6 64-bit",
   "language": "python",
   "name": "python3"
  },
  "language_info": {
   "codemirror_mode": {
    "name": "ipython",
    "version": 3
   },
   "file_extension": ".py",
   "mimetype": "text/x-python",
   "name": "python",
   "nbconvert_exporter": "python",
   "pygments_lexer": "ipython3",
   "version": "3.9.6"
  },
  "orig_nbformat": 4,
  "vscode": {
   "interpreter": {
    "hash": "aee8b7b246df8f9039afb4144a1f6fd8d2ca17a180786b69acc140d282b71a49"
   }
  }
 },
 "nbformat": 4,
 "nbformat_minor": 2
}
