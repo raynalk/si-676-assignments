{
 "cells": [
  {
   "cell_type": "code",
   "execution_count": 30,
   "metadata": {},
   "outputs": [],
   "source": [
    "import csv\n",
    "import json\n",
    "import requests\n",
    "\n",
    "import glob\n",
    "import os\n",
    "from os.path import join"
   ]
  },
  {
   "cell_type": "code",
   "execution_count": 31,
   "metadata": {},
   "outputs": [],
   "source": [
    "endpoint = 'https://www.loc.gov/free-to-use'\n",
    "parameters = {\n",
    "    'fo' : 'json'\n",
    "}"
   ]
  },
  {
   "cell_type": "code",
   "execution_count": 32,
   "metadata": {},
   "outputs": [],
   "source": [
    "collection = 'dogs'"
   ]
  },
  {
   "cell_type": "code",
   "execution_count": 33,
   "metadata": {},
   "outputs": [],
   "source": [
    "collection_list_response = requests.get(endpoint + '/' + collection, params=parameters)"
   ]
  },
  {
   "cell_type": "code",
   "execution_count": 34,
   "metadata": {},
   "outputs": [
    {
     "data": {
      "text/plain": [
       "'https://www.loc.gov/free-to-use/dogs?fo=json'"
      ]
     },
     "execution_count": 34,
     "metadata": {},
     "output_type": "execute_result"
    }
   ],
   "source": [
    "collection_list_response.url"
   ]
  },
  {
   "cell_type": "code",
   "execution_count": 35,
   "metadata": {},
   "outputs": [],
   "source": [
    "collection_json = collection_list_response.json()"
   ]
  },
  {
   "cell_type": "code",
   "execution_count": 36,
   "metadata": {},
   "outputs": [
    {
     "data": {
      "text/plain": [
       "dict_keys(['breadcrumbs', 'content', 'content_is_post', 'description', 'expert_resources', 'next', 'next_sibling', 'options', 'pages', 'portal', 'previous', 'previous_sibling', 'site_type', 'timestamp', 'title', 'type'])"
      ]
     },
     "execution_count": 36,
     "metadata": {},
     "output_type": "execute_result"
    }
   ],
   "source": [
    "collection_json.keys()"
   ]
  },
  {
   "cell_type": "code",
   "execution_count": 37,
   "metadata": {},
   "outputs": [
    {
     "name": "stdout",
     "output_type": "stream",
     "text": [
      "{'image': '/static/portals/free-to-use/public-domain/dogs/1_2590.jpg', 'link': '/resource/gottlieb.04271.0/', 'title': 'Portrait of Billie Holiday and Mister, Downbeat(?), New York, N.Y., ca. June 1946'}\n",
      "{'image': '/static/portals/free-to-use/public-domain/dogs/2_1152.jpg', 'link': '/resource/sousa.200031428.0/', 'title': 'Sousa with dogs'}\n",
      "{'image': '/static/portals/free-to-use/public-domain/dogs/3_3b21894r.jpg', 'link': '/resource/cph.3b21894/', 'title': 'Dogs - motoring'}\n",
      "{'image': '/static/portals/free-to-use/public-domain/dogs/4_2773.jpg', 'link': '/resource/gottlieb.04241.0/', 'title': 'Portrait of Billie Holiday and Mister, Downbeat, New York, N.Y., ca. Feb. 1947'}\n",
      "{'image': '/static/portals/free-to-use/public-domain/dogs/5_01592v.jpg', 'link': '/resource/ppmsc.01592/', 'title': 'Dogs pulling pupmobile'}\n",
      "{'image': '/static/portals/free-to-use/public-domain/dogs/6_05664v.jpg', 'link': '/resource/ppmsc.05664/', 'title': 'Milksellers, Brussels, Belgium'}\n",
      "{'image': '/static/portals/free-to-use/public-domain/dogs/7_05665v.jpg', 'link': '/resource/ppmsc.05665/', 'title': 'Laitiere Bruxelloise'}\n",
      "{'image': '/static/portals/free-to-use/public-domain/dogs/8_2a12829r.jpg', 'link': '/resource/cai.2a12829/', 'title': 'Some women prefer dogs'}\n",
      "{'image': '/static/portals/free-to-use/public-domain/dogs/10_27023v.jpg', 'link': '/resource/ggbain.27023/', 'title': 'Carrying wounded on COMFORT'}\n",
      "{'image': '/static/portals/free-to-use/public-domain/dogs/11_34970r.jpg', 'link': '/resource/ppmsca.34970/', 'title': 'Unidentified soldier in Union uniform with dog'}\n",
      "{'image': '/static/portals/free-to-use/public-domain/dogs/12_37480v.jpg', 'link': '/resource/ppmsca.37480/', 'title': 'Unidentified soldier in Confederate uniform with shotgun sitting next to dog'}\n",
      "{'image': '/static/portals/free-to-use/public-domain/dogs/13_2773-1.jpg', 'link': '/resource/gottlieb.01111.0/', 'title': 'Portrait of Lilyann Carol, New York, N.Y., ca. Oct. 1946'}\n",
      "{'image': '/static/portals/free-to-use/public-domain/dogs/14_05628v.jpg', 'link': '/resource/hec.05628/', 'title': 'Gracie, Miss Edith. Dog Show.'}\n",
      "{'image': '/static/portals/free-to-use/public-domain/dogs/15_05667v.jpg', 'link': '/resource/ppmsc.05667/', 'title': 'Milksellers, Brussels, Belgium'}\n",
      "{'image': '/static/portals/free-to-use/public-domain/dogs/16_07635r.jpg', 'link': '/resource/pga.07635/', 'title': 'Educated dogs'}\n",
      "{'image': '/static/portals/free-to-use/public-domain/dogs/17_17751v.jpg', 'link': '/resource/ggbain.17751/', 'title': 'Mrs. Key Pittman'}\n",
      "{'image': '/static/portals/free-to-use/public-domain/dogs/18_18296v.jpg', 'link': '/resource/ggbain.18296/', 'title': 'German Red Cross dogs'}\n",
      "{'image': '/static/portals/free-to-use/public-domain/dogs/19_19461v.jpg', 'link': '/resource/ggbain.19461/', 'title': 'Jean and Charlotte Potter'}\n",
      "{'image': '/static/portals/free-to-use/public-domain/dogs/20_20728v.jpg', 'link': '/resource/ggbain.20728/', 'title': 'Anna Fitziu'}\n",
      "{'image': '/static/portals/free-to-use/public-domain/dogs/21_21168v.jpg', 'link': '/resource/ggbain.21168/', 'title': 'Irene Castle'}\n",
      "{'image': '/static/portals/free-to-use/public-domain/dogs/22_21426r.jpg', 'link': '/resource/ggbain.21426/', 'title': 'Olive Thomas'}\n",
      "{'image': '/static/portals/free-to-use/public-domain/dogs/23_24645v.jpg', 'link': '/resource/ggbain.24645/', 'title': 'Mazo De La Roche'}\n",
      "{'image': '/static/portals/free-to-use/public-domain/dogs/24_10973v.jpg', 'link': '/resource/ggbain.10973/', 'title': 'Mrs. Malcolm Strauss & Beaux Attos'}\n",
      "{'image': '/static/portals/free-to-use/public-domain/dogs/25_11087v.jpg', 'link': '/resource/ggbain.11087/', 'title': 'Dorothy Lulow & Sing Bell'}\n",
      "{'image': '/static/portals/free-to-use/public-domain/dogs/26_11088v.jpg', 'link': '/resource/ggbain.11088/', 'title': 'Tanis Guinness & Ta Wang'}\n",
      "{'image': '/static/portals/free-to-use/public-domain/dogs/27_11145v.jpg', 'link': '/resource/ggbain.11145/', 'title': 'Amb. Myron T. Herrick & wife'}\n",
      "{'image': '/static/portals/free-to-use/public-domain/dogs/28_16691v.jpg', 'link': '/resource/ggbain.16691/', 'title': 'Willie Ritchie'}\n",
      "{'image': '/static/portals/free-to-use/public-domain/dogs/29_26131v.jpg', 'link': '/resource/ggbain.26131/', 'title': 'Frank Stanton & Prince of Princeton'}\n"
     ]
    }
   ],
   "source": [
    "for k in collection_json['content']['set']['items']:\n",
    "    print(k)"
   ]
  },
  {
   "cell_type": "code",
   "execution_count": 38,
   "metadata": {},
   "outputs": [
    {
     "data": {
      "text/plain": [
       "28"
      ]
     },
     "execution_count": 38,
     "metadata": {},
     "output_type": "execute_result"
    }
   ],
   "source": [
    "len(collection_json['content']['set']['items'])"
   ]
  },
  {
   "cell_type": "code",
   "execution_count": 39,
   "metadata": {},
   "outputs": [
    {
     "data": {
      "text/plain": [
       "dict_keys(['image', 'link', 'title'])"
      ]
     },
     "execution_count": 39,
     "metadata": {},
     "output_type": "execute_result"
    }
   ],
   "source": [
    "collection_json['content']['set']['items'][0].keys()"
   ]
  },
  {
   "cell_type": "code",
   "execution_count": 40,
   "metadata": {},
   "outputs": [
    {
     "name": "stdout",
     "output_type": "stream",
     "text": [
      "wrote data/collection_set_list_rlk_0.csv\n"
     ]
    }
   ],
   "source": [
    "collection_set_list = os.path.join('data','collection_set_list_rlk_0.csv')\n",
    "headers = ['image','link','title']\n",
    "\n",
    "with open(collection_set_list, 'w', encoding='utf-8', newline='') as f:\n",
    "    writer = csv.DictWriter(f, fieldnames=headers)\n",
    "    writer.writeheader()\n",
    "    for item in collection_json['content']['set']['items']:\n",
    "        \n",
    "        # clean up errant spaces in the title fields\n",
    "        item['title'] = item['title'].rstrip()\n",
    "        writer.writerow(item)\n",
    "    print('wrote',collection_set_list)"
   ]
  },
  {
   "cell_type": "code",
   "execution_count": 41,
   "metadata": {},
   "outputs": [],
   "source": [
    "# update endpoint info\n",
    "endpoint = 'https://www.loc.gov'\n",
    "parameters = {\n",
    "    'fo' : 'json'\n",
    "}"
   ]
  },
  {
   "cell_type": "code",
   "execution_count": 42,
   "metadata": {},
   "outputs": [
    {
     "name": "stdout",
     "output_type": "stream",
     "text": [
      "data/ftu_dogs_metadata_rlk exists\n"
     ]
    }
   ],
   "source": [
    "#   NAME CHANGE FOR FOLDER\n",
    "\n",
    "# run this cell to confirm that you have a location for the JSON files\n",
    "item_metadata_directory = os.path.join('data','ftu_dogs_metadata_rlk')\n",
    "\n",
    "if os.path.isdir(item_metadata_directory):\n",
    "    print(item_metadata_directory,'exists')\n",
    "else:\n",
    "    os.mkdir(item_metadata_directory)\n",
    "    print('created',item_metadata_directory)"
   ]
  },
  {
   "cell_type": "code",
   "execution_count": 43,
   "metadata": {},
   "outputs": [
    {
     "name": "stdout",
     "output_type": "stream",
     "text": [
      "requested https://www.loc.gov/resource/gottlieb.04271.0/?fo=json 200\n",
      "wrote data/ftu_dogs_metadata_rlk/item_metadata-gottlieb.04271.0.json\n",
      "requested https://www.loc.gov/resource/sousa.200031428.0/?fo=json 200\n",
      "wrote data/ftu_dogs_metadata_rlk/item_metadata-sousa.200031428.0.json\n",
      "requested https://www.loc.gov/resource/cph.3b21894/?fo=json 200\n",
      "wrote data/ftu_dogs_metadata_rlk/item_metadata-cph.3b21894.json\n",
      "requested https://www.loc.gov/resource/gottlieb.04241.0/?fo=json 200\n",
      "wrote data/ftu_dogs_metadata_rlk/item_metadata-gottlieb.04241.0.json\n",
      "requested https://www.loc.gov/resource/ppmsc.01592/?fo=json 200\n",
      "wrote data/ftu_dogs_metadata_rlk/item_metadata-ppmsc.01592.json\n",
      "requested https://www.loc.gov/resource/ppmsc.05664/?fo=json 200\n",
      "wrote data/ftu_dogs_metadata_rlk/item_metadata-ppmsc.05664.json\n",
      "requested https://www.loc.gov/resource/ppmsc.05665/?fo=json 200\n",
      "wrote data/ftu_dogs_metadata_rlk/item_metadata-ppmsc.05665.json\n",
      "requested https://www.loc.gov/resource/cai.2a12829/?fo=json 200\n",
      "wrote data/ftu_dogs_metadata_rlk/item_metadata-cai.2a12829.json\n",
      "requested https://www.loc.gov/resource/ggbain.27023/?fo=json 200\n",
      "wrote data/ftu_dogs_metadata_rlk/item_metadata-ggbain.27023.json\n",
      "requested https://www.loc.gov/resource/ppmsca.34970/?fo=json 200\n",
      "wrote data/ftu_dogs_metadata_rlk/item_metadata-ppmsca.34970.json\n",
      "requested https://www.loc.gov/resource/ppmsca.37480/?fo=json 200\n",
      "wrote data/ftu_dogs_metadata_rlk/item_metadata-ppmsca.37480.json\n",
      "requested https://www.loc.gov/resource/gottlieb.01111.0/?fo=json 200\n",
      "wrote data/ftu_dogs_metadata_rlk/item_metadata-gottlieb.01111.0.json\n",
      "requested https://www.loc.gov/resource/hec.05628/?fo=json 200\n",
      "wrote data/ftu_dogs_metadata_rlk/item_metadata-hec.05628.json\n",
      "requested https://www.loc.gov/resource/ppmsc.05667/?fo=json 200\n",
      "wrote data/ftu_dogs_metadata_rlk/item_metadata-ppmsc.05667.json\n",
      "requested https://www.loc.gov/resource/pga.07635/?fo=json 200\n",
      "wrote data/ftu_dogs_metadata_rlk/item_metadata-pga.07635.json\n",
      "requested https://www.loc.gov/resource/ggbain.17751/?fo=json 200\n",
      "wrote data/ftu_dogs_metadata_rlk/item_metadata-ggbain.17751.json\n",
      "requested https://www.loc.gov/resource/ggbain.18296/?fo=json 200\n",
      "wrote data/ftu_dogs_metadata_rlk/item_metadata-ggbain.18296.json\n",
      "requested https://www.loc.gov/resource/ggbain.19461/?fo=json 200\n",
      "wrote data/ftu_dogs_metadata_rlk/item_metadata-ggbain.19461.json\n",
      "requested https://www.loc.gov/resource/ggbain.20728/?fo=json 200\n",
      "wrote data/ftu_dogs_metadata_rlk/item_metadata-ggbain.20728.json\n",
      "requested https://www.loc.gov/resource/ggbain.21168/?fo=json 200\n",
      "wrote data/ftu_dogs_metadata_rlk/item_metadata-ggbain.21168.json\n",
      "requested https://www.loc.gov/resource/ggbain.21426/?fo=json 200\n",
      "wrote data/ftu_dogs_metadata_rlk/item_metadata-ggbain.21426.json\n",
      "requested https://www.loc.gov/resource/ggbain.24645/?fo=json 200\n",
      "wrote data/ftu_dogs_metadata_rlk/item_metadata-ggbain.24645.json\n",
      "requested https://www.loc.gov/resource/ggbain.10973/?fo=json 200\n",
      "wrote data/ftu_dogs_metadata_rlk/item_metadata-ggbain.10973.json\n",
      "requested https://www.loc.gov/resource/ggbain.11087/?fo=json 200\n",
      "wrote data/ftu_dogs_metadata_rlk/item_metadata-ggbain.11087.json\n",
      "requested https://www.loc.gov/resource/ggbain.11088/?fo=json 200\n",
      "wrote data/ftu_dogs_metadata_rlk/item_metadata-ggbain.11088.json\n",
      "requested https://www.loc.gov/resource/ggbain.11145/?fo=json 200\n",
      "wrote data/ftu_dogs_metadata_rlk/item_metadata-ggbain.11145.json\n",
      "requested https://www.loc.gov/resource/ggbain.16691/?fo=json 200\n",
      "wrote data/ftu_dogs_metadata_rlk/item_metadata-ggbain.16691.json\n",
      "requested https://www.loc.gov/resource/ggbain.26131/?fo=json 200\n",
      "wrote data/ftu_dogs_metadata_rlk/item_metadata-ggbain.26131.json\n",
      "--- mini LOG ---\n",
      "items requested: 28\n",
      "errors: 0\n",
      "files written: 28\n"
     ]
    }
   ],
   "source": [
    "item_count = 0\n",
    "error_count = 0\n",
    "file_count = 0\n",
    "\n",
    "data_directory = 'data'\n",
    "item_metadata_directory = 'ftu_dogs_metadata_rlk'\n",
    "item_metadata_file_start = 'item_metadata'\n",
    "json_suffix = '.json'\n",
    "\n",
    "collection_set_list = os.path.join('data','collection_set_list_rlk.csv')\n",
    "\n",
    "with open(collection_set_list, 'r', encoding='utf-8', newline='') as f:\n",
    "    reader = csv.DictReader(f, fieldnames=headers)\n",
    "    for item in reader:\n",
    "        if item['link'] == 'link':\n",
    "            continue\n",
    "        # these resource links could redirect to item pages, but currently don't work\n",
    "        if '?' in item['link']:\n",
    "            resource_ID = item['link']\n",
    "            short_ID = item['link'].split('/')[2]\n",
    "            item_metadata = requests.get(endpoint + resource_ID + '&fo=json')\n",
    "            print('requested',item_metadata.url,item_metadata.status_code)\n",
    "            if item_metadata.status_code != 200:\n",
    "                print('requested',item_metadata.url,item_metadata.status_code)\n",
    "                error_count += 1\n",
    "                continue\n",
    "            try:\n",
    "                item_metadata.json()\n",
    "            except: #basically this catches all of the highsmith photos with hhh in the ID\n",
    "                error_count += 1\n",
    "                print('no json found')\n",
    "                continue\n",
    "            fout = os.path.join(data_directory, item_metadata_directory, str(item_metadata_file_start + '-' + short_ID + json_suffix))\n",
    "            with open(fout, 'w', encoding='utf-8') as json_file:\n",
    "                json_file.write(json.dumps(item_metadata.json()['item']))\n",
    "                file_count += 1\n",
    "                print('wrote', fout)\n",
    "            item_count += 1\n",
    "        else:\n",
    "            resource_ID = item['link']\n",
    "            short_ID = item['link'].split('/')[2]\n",
    "            item_metadata = requests.get(endpoint + resource_ID, params=parameters)\n",
    "            print('requested',item_metadata.url,item_metadata.status_code)\n",
    "            if item_metadata.status_code != 200:\n",
    "                print('requested',item_metadata.url,item_metadata.status_code)\n",
    "                error_count += 1\n",
    "                continue\n",
    "            try:\n",
    "                item_metadata.json()\n",
    "            except:\n",
    "                error_count += 1\n",
    "                print('no json found')\n",
    "                continue\n",
    "            fout = os.path.join(data_directory, item_metadata_directory, str(item_metadata_file_start + '-' + short_ID + json_suffix))\n",
    "            with open(fout, 'w', encoding='utf-8') as json_file:\n",
    "                json_file.write(json.dumps(item_metadata.json()['item']))\n",
    "                file_count += 1\n",
    "                print('wrote', fout)\n",
    "            item_count += 1\n",
    "\n",
    "print('--- mini LOG ---')\n",
    "print('items requested:',item_count)\n",
    "print('errors:',error_count)\n",
    "print('files written:',file_count)"
   ]
  },
  {
   "cell_type": "markdown",
   "metadata": {},
   "source": [
    "TRANSFORMATION PART 1: Testing"
   ]
  },
  {
   "cell_type": "code",
   "execution_count": 44,
   "metadata": {},
   "outputs": [
    {
     "name": "stdout",
     "output_type": "stream",
     "text": [
      "/Users/raynaketchum/Documents/umich/SI676/networked-services-labs\n"
     ]
    }
   ],
   "source": [
    "current_loc = os.getcwd()\n",
    "\n",
    "print(current_loc)"
   ]
  },
  {
   "cell_type": "code",
   "execution_count": 45,
   "metadata": {},
   "outputs": [
    {
     "name": "stdout",
     "output_type": "stream",
     "text": [
      "data/ftu_dogs_metadata_rlk\n"
     ]
    }
   ],
   "source": [
    "metadata_file_path = os.path.join('data','ftu_dogs_metadata_rlk')\n",
    "\n",
    "print(metadata_file_path)"
   ]
  },
  {
   "cell_type": "code",
   "execution_count": 46,
   "metadata": {},
   "outputs": [
    {
     "name": "stdout",
     "output_type": "stream",
     "text": [
      "data/ftu_dogs_metadata_rlk/item_metadata-cai.2a12829.json\n",
      "data/ftu_dogs_metadata_rlk/item_metadata-ggbain.11087.json\n",
      "data/ftu_dogs_metadata_rlk/item_metadata-cph.3b21894.json\n",
      "data/ftu_dogs_metadata_rlk/item_metadata-ggbain.21426.json\n",
      "data/ftu_dogs_metadata_rlk/item_metadata-gottlieb.01111.0.json\n",
      "data/ftu_dogs_metadata_rlk/item_metadata-ppmsc.05667.json\n",
      "data/ftu_dogs_metadata_rlk/item_metadata-ggbain.24645.json\n",
      "data/ftu_dogs_metadata_rlk/item_metadata-ggbain.21168.json\n",
      "data/ftu_dogs_metadata_rlk/item_metadata-ppmsc.01592.json\n",
      "data/ftu_dogs_metadata_rlk/item_metadata-ggbain.27023.json\n",
      "data/ftu_dogs_metadata_rlk/item_metadata-hec.05628.json\n",
      "data/ftu_dogs_metadata_rlk/item_metadata-sousa.200031428.0.json\n",
      "data/ftu_dogs_metadata_rlk/item_metadata-ggbain.18296.json\n",
      "data/ftu_dogs_metadata_rlk/item_metadata-ggbain.20728.json\n",
      "data/ftu_dogs_metadata_rlk/item_metadata-ggbain.26131.json\n",
      "data/ftu_dogs_metadata_rlk/item_metadata-gottlieb.04241.0.json\n",
      "data/ftu_dogs_metadata_rlk/item_metadata-ggbain.17751.json\n",
      "data/ftu_dogs_metadata_rlk/item_metadata-ppmsca.37480.json\n",
      "data/ftu_dogs_metadata_rlk/item_metadata-ggbain.11145.json\n",
      "data/ftu_dogs_metadata_rlk/item_metadata-ppmsc.05664.json\n",
      "data/ftu_dogs_metadata_rlk/item_metadata-ppmsca.34970.json\n",
      "data/ftu_dogs_metadata_rlk/item_metadata-pga.07635.json\n",
      "data/ftu_dogs_metadata_rlk/item_metadata-ggbain.16691.json\n",
      "data/ftu_dogs_metadata_rlk/item_metadata-gottlieb.04271.0.json\n",
      "data/ftu_dogs_metadata_rlk/item_metadata-ggbain.19461.json\n",
      "data/ftu_dogs_metadata_rlk/item_metadata-ggbain.11088.json\n",
      "data/ftu_dogs_metadata_rlk/item_metadata-ggbain.10973.json\n",
      "data/ftu_dogs_metadata_rlk/item_metadata-ppmsc.05665.json\n",
      "found 28\n"
     ]
    }
   ],
   "source": [
    "file_count = 0\n",
    "\n",
    "for file in glob.glob('data/ftu_dogs_metadata_rlk/item_metadata-*.json'):\n",
    "    file_count += 1\n",
    "    print(file)\n",
    "\n",
    "print('found', file_count)"
   ]
  },
  {
   "cell_type": "code",
   "execution_count": 47,
   "metadata": {},
   "outputs": [],
   "source": [
    "list_of_item_metadata_files = list()\n",
    "for file in glob.glob('data/ftu_dogs_metadata_rlk/item_metadata-*.json'):\n",
    "    list_of_item_metadata_files.append(file)"
   ]
  },
  {
   "cell_type": "code",
   "execution_count": 48,
   "metadata": {},
   "outputs": [
    {
     "data": {
      "text/plain": [
       "28"
      ]
     },
     "execution_count": 48,
     "metadata": {},
     "output_type": "execute_result"
    }
   ],
   "source": [
    "len(list_of_item_metadata_files)"
   ]
  },
  {
   "cell_type": "code",
   "execution_count": 49,
   "metadata": {},
   "outputs": [
    {
     "name": "stdout",
     "output_type": "stream",
     "text": [
      "data/ftu_dogs_metadata_rlk/item_metadata-cai.2a12829.json\n",
      "data/ftu_dogs_metadata_rlk/item_metadata-cph.3b21894.json\n",
      "data/ftu_dogs_metadata_rlk/item_metadata-ggbain.10973.json\n",
      "data/ftu_dogs_metadata_rlk/item_metadata-ggbain.11087.json\n",
      "data/ftu_dogs_metadata_rlk/item_metadata-ggbain.11088.json\n",
      "data/ftu_dogs_metadata_rlk/item_metadata-ggbain.11145.json\n",
      "data/ftu_dogs_metadata_rlk/item_metadata-ggbain.16691.json\n",
      "data/ftu_dogs_metadata_rlk/item_metadata-ggbain.17751.json\n",
      "data/ftu_dogs_metadata_rlk/item_metadata-ggbain.18296.json\n",
      "data/ftu_dogs_metadata_rlk/item_metadata-ggbain.19461.json\n",
      "data/ftu_dogs_metadata_rlk/item_metadata-ggbain.20728.json\n",
      "data/ftu_dogs_metadata_rlk/item_metadata-ggbain.21168.json\n",
      "data/ftu_dogs_metadata_rlk/item_metadata-ggbain.21426.json\n",
      "data/ftu_dogs_metadata_rlk/item_metadata-ggbain.24645.json\n",
      "data/ftu_dogs_metadata_rlk/item_metadata-ggbain.26131.json\n",
      "data/ftu_dogs_metadata_rlk/item_metadata-ggbain.27023.json\n",
      "data/ftu_dogs_metadata_rlk/item_metadata-gottlieb.01111.0.json\n",
      "data/ftu_dogs_metadata_rlk/item_metadata-gottlieb.04241.0.json\n",
      "data/ftu_dogs_metadata_rlk/item_metadata-gottlieb.04271.0.json\n",
      "data/ftu_dogs_metadata_rlk/item_metadata-hec.05628.json\n",
      "data/ftu_dogs_metadata_rlk/item_metadata-pga.07635.json\n",
      "data/ftu_dogs_metadata_rlk/item_metadata-ppmsc.01592.json\n",
      "data/ftu_dogs_metadata_rlk/item_metadata-ppmsc.05664.json\n",
      "data/ftu_dogs_metadata_rlk/item_metadata-ppmsc.05665.json\n",
      "data/ftu_dogs_metadata_rlk/item_metadata-ppmsc.05667.json\n",
      "data/ftu_dogs_metadata_rlk/item_metadata-ppmsca.34970.json\n",
      "data/ftu_dogs_metadata_rlk/item_metadata-ppmsca.37480.json\n",
      "data/ftu_dogs_metadata_rlk/item_metadata-sousa.200031428.0.json\n"
     ]
    }
   ],
   "source": [
    "list_of_item_metadata_files.sort()\n",
    "\n",
    "for file in list_of_item_metadata_files:\n",
    "    print(file)"
   ]
  },
  {
   "cell_type": "code",
   "execution_count": 50,
   "metadata": {},
   "outputs": [
    {
     "name": "stdout",
     "output_type": "stream",
     "text": [
      "file: data/ftu_dogs_metadata_rlk/item_metadata-cai.2a12829.json \n",
      "\n",
      "_version_ : 1709975129956548608\n",
      "access_advisory : Restricted access: Materials in this collection are often extremely fragile; most originals cannot be served.\n",
      "access_restricted : False\n",
      "aka : ['http://www.loc.gov/pictures/collection/cai/item/2010716169/', 'http://www.loc.gov/item/2010716169/', 'http://www.loc.gov/pictures/item/2010716169/', 'http://hdl.loc.gov/loc.pnp/cai.2a12829', 'http://www.loc.gov/resource/cai.2a12829/', 'http://lccn.loc.gov/2010716169']\n",
      "call_number : CAI - Gibson, no. 26 (D size) [P&P]\n",
      "campaigns : []\n",
      "contributor_names : ['Gibson, Charles Dana, 1867-1944, artist']\n",
      "contributors : [{'gibson, charles dana': 'https://www.loc.gov/search/?fa=contributor:gibson,+charles+dana&fo=json'}]\n",
      "control_number : \n",
      "created : 2016-04-20 12:39:14\n",
      "created_published : ['[1903?]']\n",
      "created_published_date : [1903?]\n",
      "creator : Gibson, Charles Dana, 1867-1944, artist.\n",
      "date : 1903\n",
      "dates : [{'1903': 'https://www.loc.gov/search/?dates=1903/1903&fo=json'}]\n",
      "description : ['1 drawing : pen and ink.']\n",
      "digital_id : ['cai 2a12829 //hdl.loc.gov/loc.pnp/cai.2a12829']\n",
      "digitized : True\n",
      "display_offsite : True\n",
      "extract_timestamp : 2021-09-01T22:48:09.921Z\n",
      "extract_urls : ['http://www.loc.gov/pictures/collection/cai/item/2010716169/#cai', 'http://lccn.loc.gov/2010716169#catalog']\n",
      "format : [{'photo, print, drawing': 'https://www.loc.gov/search/?fa=original_format:photo,+print,+drawing&fo=json'}]\n",
      "format_headings : ['Drawings.', 'Periodical illustrations.']\n",
      "group : ['cai', 'catalog', 'cabinet-of-american-illustration', 'main-catalog']\n",
      "hassegments : False\n",
      "id : http://www.loc.gov/item/2010716169/\n",
      "image_url : ['https://tile.loc.gov/storage-services/service/pnp/cai/2a12000/2a12800/2a12829_150px.jpg', 'https://tile.loc.gov/storage-services/service/pnp/cai/2a12000/2a12800/2a12829_150px.jpg#h=147&w=150', 'https://tile.loc.gov/storage-services/service/pnp/cai/2a12000/2a12800/2a12829t.gif#h=147&w=150', 'https://tile.loc.gov/storage-services/service/pnp/cai/2a12000/2a12800/2a12829r.jpg#h=626&w=640']\n",
      "index : 1\n",
      "item : {'access_advisory': 'Restricted access: Materials in this collection are often extremely fragile; most originals cannot be served.', 'call_number': 'CAI - Gibson, no. 26 (D size) [P&P]', 'contributors': ['Gibson, Charles Dana, 1867-1944, artist.'], 'control_number': '2010716169', 'created': '2016-04-20 12:39:14', 'created_published': '[1903?]', 'created_published_date': '[1903?]', 'creator': 'Gibson, Charles Dana, 1867-1944, artist.', 'creators': [{'link': '//www.loc.gov/pictures/related/?fi=name&q=Gibson%2C%20Charles%20Dana%2C%201867-1944&co=cai', 'role': 'artist', 'title': 'Gibson, Charles Dana, 1867-1944'}], 'date': '[1903?]', 'digital_id': ['cai 2a12829 //hdl.loc.gov/loc.pnp/cai.2a12829'], 'display_offsite': True, 'format': ['still image'], 'formats': [{'link': '//www.loc.gov/pictures/related/?fi=format&q=Drawings.&co=cai', 'title': 'Drawings.'}, {'link': '//www.loc.gov/pictures/related/?fi=format&q=Periodical%20illustrations.&co=cai', 'title': 'Periodical illustrations.'}], 'id': '2010716169', 'language': ['eng'], 'link': '//www.loc.gov/pictures/item/2010716169/', 'marc': '//www.loc.gov/pictures/item/2010716169/marc/', 'medium': ['1 drawing : pen and ink.'], 'medium_brief': '1 drawing :', 'mediums': ['1 drawing : pen and ink.'], 'modified': '2016-04-20 12:39:14', 'notes': ['(DLC/PP-1935:0059).', 'Forms part of: Cabinet of American illustration (Library of Congress).', \"Published in: Collier's weekly, 30:20-21 (March 28, 1903).\"], 'part_of': 'Cabinet of American illustration (Library of Congress)', 'repository': 'Library of Congress Prints and Photographs Division Washington, D.C. 20540 USA http://hdl.loc.gov/loc.pnp/pp.print', 'resource_links': ['//hdl.loc.gov/loc.pnp/cai.2a12829'], 'restriction': 'Restricted access: Materials in this collection are often extremely fragile; most originals cannot be served.', 'rights_advisory': 'No known restrictions on publication.', 'rights_information': 'No known restrictions on publication.', 'service_low': 'https://tile.loc.gov/storage-services/service/pnp/cai/2a12000/2a12800/2a12829_150px.jpg', 'service_medium': 'https://tile.loc.gov/storage-services/service/pnp/cai/2a12000/2a12800/2a12829r.jpg', 'sort_date': '1903', 'source_created': '2006-01-23 00:00:00', 'source_modified': '2011-10-25 16:46:41', 'subject_headings': ['Children.', 'Courtship.', 'Interiors.', 'Mothers.', 'Pets.', 'Women.'], 'subjects': ['Children', 'Courtship', 'Interiors', 'Mothers', 'Pets', 'Women'], 'thumb_gallery': 'https://tile.loc.gov/storage-services/service/pnp/cai/2a12000/2a12800/2a12829_150px.jpg', 'title': 'Some women prefer dogs'}\n",
      "language : ['english']\n",
      "languages : [{'english': 'https://www.loc.gov/search/?fa=language:english&fo=json'}]\n",
      "library_of_congress_control_number : 2010716169\n",
      "link : //www.loc.gov/pictures/item/2010716169/\n",
      "marc : //www.loc.gov/pictures/item/2010716169/marc/\n",
      "medium : ['1 drawing : pen and ink.']\n",
      "medium_brief : 1 drawing :\n",
      "mime_type : ['image/gif', 'image/jpg', 'image/tif', 'image/jpeg']\n",
      "modified : 2016-04-20 12:39:14\n",
      "notes : ['(DLC/PP-1935:0059).', 'Forms part of: Cabinet of American illustration (Library of Congress).', \"Published in: Collier's weekly, 30:20-21 (March 28, 1903).\"]\n",
      "online_format : ['image']\n",
      "original_format : ['photo, print, drawing']\n",
      "other_formats : [{'label': 'MARCXML Record', 'link': 'https://lccn.loc.gov/2010716169/marcxml'}, {'label': 'MODS Record', 'link': 'https://lccn.loc.gov/2010716169/mods'}, {'label': 'Dublin Core Record', 'link': 'https://lccn.loc.gov/2010716169/dc'}]\n",
      "other_title : []\n",
      "partof : [{'count': 3932, 'title': 'cabinet of american illustration', 'url': 'https://www.loc.gov/collections/cabinet-of-american-illustration/?fo=json'}, {'count': 1024984, 'title': 'prints and photographs division', 'url': 'https://www.loc.gov/search/?fa=partof:prints+and+photographs+division&fo=json'}, {'count': 1348238, 'title': 'catalog', 'url': 'https://www.loc.gov/search/?fa=partof:catalog&fo=json'}]\n",
      "related : {'neighbors': '//www.loc.gov/pictures/related/?&co=cai&pk=2010716169&st=gallery&sb=call_number#focus'}\n",
      "repository : ['Library of Congress Prints and Photographs Division Washington, D.C. 20540 USA http://hdl.loc.gov/loc.pnp/pp.print']\n",
      "reproductions : []\n",
      "resource_links : ['//hdl.loc.gov/loc.pnp/cai.2a12829']\n",
      "resources : [{'caption': 'digital file from intermediary roll film copy', 'files': 1, 'image': 'https://tile.loc.gov/storage-services/service/pnp/cai/2a12000/2a12800/2a12829_150px.jpg', 'url': 'https://www.loc.gov/resource/cai.2a12829/'}]\n",
      "restriction : Restricted access: Materials in this collection are often extremely fragile; most originals cannot be served.\n",
      "rights : ['<p>The Library of Congress does not&nbsp;own rights to material  in its collections. Therefore, it does not license or charge permission fees  for use of such material and cannot grant or deny permission to publish or  otherwise distribute the material. </p>\\n<p>Ultimately, it is the researcher\\'s obligation to assess copyright or other use restrictions and  obtain permission from third parties when necessary before publishing or  otherwise distributing materials found in the Library\\'s collections. </p>\\n<p>For information about reproducing,  publishing, and citing material from this collection, as well as access to the  original items, see: <a href=\"//www.loc.gov/rr/print/res/111_cai.html\">Cabinet of American Illustration - Rights and Restrictions Information</a> </p>\\n \\n']\n",
      "rights_advisory : No known restrictions on publication.\n",
      "rights_information : No known restrictions on publication.\n",
      "score : 8.847126\n",
      "shelf_id : CAI - Gibson, no. 26 (D size) [P&P]\n",
      "site : ['pictures', 'catalog']\n",
      "sort_date : 1903\n",
      "source_collection : Cabinet of American illustration (Library of Congress)\n",
      "source_created : 2006-01-23 00:00:00\n",
      "source_modified : 2011-10-25 16:46:41\n",
      "subject : ['mothers', 'interiors', 'periodical illustrations', 'drawings', 'pets', 'courtship', 'children', 'women']\n",
      "subject_headings : ['Children', 'Courtship', 'Interiors', 'Mothers', 'Pets', 'Women']\n",
      "subjects : [{'children': 'https://www.loc.gov/search/?fa=subject:children&fo=json'}, {'courtship': 'https://www.loc.gov/search/?fa=subject:courtship&fo=json'}, {'drawings': 'https://www.loc.gov/search/?fa=subject:drawings&fo=json'}, {'interiors': 'https://www.loc.gov/search/?fa=subject:interiors&fo=json'}, {'mothers': 'https://www.loc.gov/search/?fa=subject:mothers&fo=json'}, {'periodical illustrations': 'https://www.loc.gov/search/?fa=subject:periodical+illustrations&fo=json'}, {'pets': 'https://www.loc.gov/search/?fa=subject:pets&fo=json'}, {'women': 'https://www.loc.gov/search/?fa=subject:women&fo=json'}]\n",
      "thumb_gallery : https://tile.loc.gov/storage-services/service/pnp/cai/2a12000/2a12800/2a12829_150px.jpg\n",
      "timestamp : 2021-09-04T12:42:38.971Z\n",
      "title : Some women prefer dogs\n",
      "type : ['photo, print, drawing']\n",
      "unrestricted : True\n",
      "url : https://www.loc.gov/item/2010716169/\n"
     ]
    }
   ],
   "source": [
    "# try first with one file, can you open the json, can you see what elements are in the json?\n",
    "with open(list_of_item_metadata_files[0], 'r', encoding='utf-8') as item:\n",
    "    # what are we looking at?\n",
    "    print('file:',list_of_item_metadata_files[0],'\\n')\n",
    "    \n",
    "    # load the item data\n",
    "    item_data = json.load(item)\n",
    "    \n",
    "    for element in item_data.keys():\n",
    "        print(element,':',item_data[element])"
   ]
  },
  {
   "cell_type": "code",
   "execution_count": 51,
   "metadata": {},
   "outputs": [
    {
     "data": {
      "text/plain": [
       "dict_keys(['_version_', 'access_advisory', 'access_restricted', 'aka', 'call_number', 'campaigns', 'contributor_names', 'contributors', 'control_number', 'created', 'created_published', 'created_published_date', 'creator', 'date', 'dates', 'description', 'digital_id', 'digitized', 'display_offsite', 'extract_timestamp', 'extract_urls', 'format', 'format_headings', 'group', 'hassegments', 'id', 'image_url', 'index', 'item', 'language', 'languages', 'library_of_congress_control_number', 'link', 'marc', 'medium', 'medium_brief', 'mime_type', 'modified', 'notes', 'online_format', 'original_format', 'other_formats', 'other_title', 'partof', 'related', 'repository', 'reproductions', 'resource_links', 'resources', 'restriction', 'rights', 'rights_advisory', 'rights_information', 'score', 'shelf_id', 'site', 'sort_date', 'source_collection', 'source_created', 'source_modified', 'subject', 'subject_headings', 'subjects', 'thumb_gallery', 'timestamp', 'title', 'type', 'unrestricted', 'url'])"
      ]
     },
     "execution_count": 51,
     "metadata": {},
     "output_type": "execute_result"
    }
   ],
   "source": [
    "item_data.keys()"
   ]
  },
  {
   "cell_type": "code",
   "execution_count": null,
   "metadata": {},
   "outputs": [],
   "source": []
  },
  {
   "cell_type": "code",
   "execution_count": 52,
   "metadata": {},
   "outputs": [
    {
     "name": "stdout",
     "output_type": "stream",
     "text": [
      "\n",
      "date: 1903 <class 'str'>\n"
     ]
    }
   ],
   "source": [
    "print('\\ndate:',item_data['date'], type(item_data['date']))\n"
   ]
  },
  {
   "cell_type": "code",
   "execution_count": 53,
   "metadata": {},
   "outputs": [
    {
     "name": "stdout",
     "output_type": "stream",
     "text": [
      "\n",
      "format: {'photo, print, drawing': 'https://www.loc.gov/search/?fa=original_format:photo,+print,+drawing&fo=json'} <class 'list'>\n"
     ]
    }
   ],
   "source": [
    "print('\\nformat:',item_data['format'][0], type(item_data['format']))"
   ]
  },
  {
   "cell_type": "markdown",
   "metadata": {},
   "source": [
    "TEST: TRY IT WITH ONE EXAMPLE "
   ]
  },
  {
   "cell_type": "code",
   "execution_count": 54,
   "metadata": {},
   "outputs": [
    {
     "name": "stdout",
     "output_type": "stream",
     "text": [
      "created row dictionary: {'source_file': 'data/ftu_dogs_metadata_rlk/item_metadata-sousa.200031428.0.json', 'item_id': '2010716169', 'title': 'Some women prefer dogs', 'date': '1903', 'source_url': 'https://www.loc.gov/item/2010716169/', 'phys_format': {'photo, print, drawing': 'https://www.loc.gov/search/?fa=original_format:photo,+print,+drawing&fo=json'}, 'subjects': {'children': 'https://www.loc.gov/search/?fa=subject:children&fo=json'}, 'rights': 'No known restrictions on publication.'}\n",
      "wrote collection_items_data_rlk.csv\n"
     ]
    }
   ],
   "source": [
    "collection_info_csv = 'collection_items_data_rlk.csv'\n",
    "\n",
    "headers = ['source_file', 'item_id', 'title', 'date', 'source_url', 'phys_format', 'subjects', 'rights'\n",
    "]\n",
    "\n",
    "with open(list_of_item_metadata_files[0], 'r', encoding='utf-8') as data:\n",
    "    item_data = json.load(data)\n",
    "\n",
    "    source_file = str(file)\n",
    "    try:\n",
    "        item_id = item_data['library_of_congress_control_number']\n",
    "    except:\n",
    "        item_id = item_data['url'].split('/')[-2]\n",
    "    title = item_data['title']\n",
    "    date = item_data['date']\n",
    "    source_url = item_data['url']\n",
    "    try:\n",
    "        phys_format = item_data['format'][0]\n",
    "    except:\n",
    "        phys_format = 'Not found'\n",
    "    try:\n",
    "        subjects = item_data['subjects'][0]\n",
    "    except:\n",
    "        subjects = 'Not found'\n",
    "    mime_type = item_data['mime_type']\n",
    "    try:\n",
    "        rights = item_data['rights_information']\n",
    "    except:\n",
    "        rights = 'Undetermined'\n",
    "    \n",
    "    \n",
    "    row_dict = dict()\n",
    "    # look for the item metadata, assign it to the dictionary; \n",
    "    # start with some basic elements likely (already enumerated in the headers list) :\n",
    "    # source file\n",
    "    row_dict['source_file'] = source_file\n",
    "    # identifier\n",
    "    row_dict['item_id'] = item_id\n",
    "    # title\n",
    "    row_dict['title'] = title\n",
    "    # date\n",
    "    row_dict['date'] = date\n",
    "    # link\n",
    "    row_dict['source_url'] = source_url\n",
    "    # format\n",
    "    row_dict['phys_format'] = phys_format\n",
    "    # digital format\n",
    "    row_dict['subjects'] = subjects\n",
    "    #rights\n",
    "    row_dict['rights'] = rights\n",
    "    print('created row dictionary:',row_dict)\n",
    "\n",
    "    # write to the csv\n",
    "    with open(collection_info_csv, 'w', encoding='utf-8') as fout:\n",
    "        writer = csv.DictWriter(fout, fieldnames=headers)\n",
    "        writer.writeheader()\n",
    "        writer.writerow(row_dict)\n",
    "        print('wrote',collection_info_csv)"
   ]
  },
  {
   "cell_type": "markdown",
   "metadata": {},
   "source": [
    "Developing the structure of the CSV file \n",
    "\n",
    "Find a direct url to a good image file for the item. "
   ]
  },
  {
   "cell_type": "markdown",
   "metadata": {},
   "source": [
    "HEADERS!"
   ]
  },
  {
   "cell_type": "code",
   "execution_count": 55,
   "metadata": {},
   "outputs": [
    {
     "name": "stdout",
     "output_type": "stream",
     "text": [
      "https://tile.loc.gov/storage-services/service/pnp/cai/2a12000/2a12800/2a12829r.jpg#h=626&w=640\n"
     ]
    }
   ],
   "source": [
    "collection_info_csv = 'collection_items_data_rlk.csv'\n",
    "\n",
    "# set up a list for the columns in your csv; in future, this should be more automated but this works for now as you set up the crosswalk\n",
    "headers = ['source_file', 'item_id', 'title', 'date', 'source_url', 'phys_format', 'subjects', 'rights']\n",
    "\n",
    "# try first with one file\n",
    "with open(list_of_item_metadata_files[0], 'r', encoding='utf-8') as data:\n",
    "    # load the item data\n",
    "    item_data = json.load(data)\n",
    "    \n",
    "    print(item_data['image_url'][3])"
   ]
  },
  {
   "cell_type": "markdown",
   "metadata": {},
   "source": [
    "Transformation Part 2"
   ]
  },
  {
   "cell_type": "code",
   "execution_count": 56,
   "metadata": {},
   "outputs": [
    {
     "name": "stdout",
     "output_type": "stream",
     "text": [
      "removed data/collection_items_data.csv\n"
     ]
    }
   ],
   "source": [
    "items_data_file = os.path.join(data_directory, 'collection_items_data.csv')\n",
    "\n",
    "if os.path.isfile(items_data_file):\n",
    "    os.unlink(items_data_file)\n",
    "    print('removed',items_data_file)\n",
    "\n",
    "# clear row_dict\n",
    "row_dict = ()"
   ]
  },
  {
   "cell_type": "code",
   "execution_count": 57,
   "metadata": {},
   "outputs": [
    {
     "name": "stdout",
     "output_type": "stream",
     "text": [
      "2022-12-01\n"
     ]
    }
   ],
   "source": [
    "from datetime import date\n",
    "\n",
    "date_string_for_today = date.today().strftime('%Y-%m-%d') # see https://docs.python.org/3/library/datetime.html#strftime-strptime-behavior\n",
    "\n",
    "print(date_string_for_today)"
   ]
  },
  {
   "cell_type": "code",
   "execution_count": 58,
   "metadata": {},
   "outputs": [
    {
     "name": "stdout",
     "output_type": "stream",
     "text": [
      "opening data/ftu_dogs_metadata_rlk/item_metadata-cai.2a12829.json\n",
      "adding 2010716169\n",
      "opening data/ftu_dogs_metadata_rlk/item_metadata-cph.3b21894.json\n",
      "adding 2003677476\n",
      "opening data/ftu_dogs_metadata_rlk/item_metadata-ggbain.10973.json\n",
      "adding 2014690955\n",
      "opening data/ftu_dogs_metadata_rlk/item_metadata-ggbain.11087.json\n",
      "adding 2014691174\n",
      "opening data/ftu_dogs_metadata_rlk/item_metadata-ggbain.11088.json\n",
      "adding 2014691175\n",
      "opening data/ftu_dogs_metadata_rlk/item_metadata-ggbain.11145.json\n",
      "adding 2014691232\n",
      "opening data/ftu_dogs_metadata_rlk/item_metadata-ggbain.16691.json\n",
      "adding 2014696845\n",
      "opening data/ftu_dogs_metadata_rlk/item_metadata-ggbain.17751.json\n",
      "adding 2014698005\n",
      "opening data/ftu_dogs_metadata_rlk/item_metadata-ggbain.18296.json\n",
      "adding 2014698333\n",
      "opening data/ftu_dogs_metadata_rlk/item_metadata-ggbain.19461.json\n",
      "adding 2014699393\n",
      "opening data/ftu_dogs_metadata_rlk/item_metadata-ggbain.20728.json\n",
      "adding 2014700662\n",
      "opening data/ftu_dogs_metadata_rlk/item_metadata-ggbain.21168.json\n",
      "adding 2014701106\n",
      "opening data/ftu_dogs_metadata_rlk/item_metadata-ggbain.21426.json\n",
      "adding 2014701364\n",
      "opening data/ftu_dogs_metadata_rlk/item_metadata-ggbain.24645.json\n",
      "adding 2014704827\n",
      "opening data/ftu_dogs_metadata_rlk/item_metadata-ggbain.26131.json\n",
      "adding 2014706300\n",
      "opening data/ftu_dogs_metadata_rlk/item_metadata-ggbain.27023.json\n",
      "adding 2014707186\n",
      "opening data/ftu_dogs_metadata_rlk/item_metadata-gottlieb.01111.0.json\n",
      "adding gottlieb.01111\n",
      "opening data/ftu_dogs_metadata_rlk/item_metadata-gottlieb.04241.0.json\n",
      "adding gottlieb.04241\n",
      "opening data/ftu_dogs_metadata_rlk/item_metadata-gottlieb.04271.0.json\n",
      "adding gottlieb.04271\n",
      "opening data/ftu_dogs_metadata_rlk/item_metadata-hec.05628.json\n",
      "adding 2016866260\n",
      "opening data/ftu_dogs_metadata_rlk/item_metadata-pga.07635.json\n",
      "adding 2003672857\n",
      "opening data/ftu_dogs_metadata_rlk/item_metadata-ppmsc.01592.json\n",
      "adding 99614317\n",
      "opening data/ftu_dogs_metadata_rlk/item_metadata-ppmsc.05664.json\n",
      "adding 2001697922\n",
      "opening data/ftu_dogs_metadata_rlk/item_metadata-ppmsc.05665.json\n",
      "adding 2001697923\n",
      "opening data/ftu_dogs_metadata_rlk/item_metadata-ppmsc.05667.json\n",
      "adding 2001697925\n",
      "opening data/ftu_dogs_metadata_rlk/item_metadata-ppmsca.34970.json\n",
      "adding 2013645726\n",
      "opening data/ftu_dogs_metadata_rlk/item_metadata-ppmsca.37480.json\n",
      "adding 2014645463\n",
      "opening data/ftu_dogs_metadata_rlk/item_metadata-sousa.200031428.0.json\n",
      "adding sousa.200031428\n",
      "\n",
      "\n",
      "--- LOG ---\n",
      "wrote data/collection_items_data.csv\n",
      "with 28 items\n",
      "0 errors (info not written)\n"
     ]
    }
   ],
   "source": [
    "collection_info_csv = os.path.join('data','collection_items_data.csv')\n",
    "file_count = 0\n",
    "items_written = 0\n",
    "error_count = 0\n",
    "\n",
    "headers = ['item_type', 'date_uploaded', 'source_file', 'item_id', 'title', 'date', 'source_url', 'phys_format', 'subjects', 'rights', \"image_url\" ]\n",
    "\n",
    "for file in list_of_item_metadata_files:\n",
    "    file_count += 1\n",
    "    print('opening',file)\n",
    "    with open(file, 'r', encoding='utf-8') as item:\n",
    "        # load the item data\n",
    "        try:\n",
    "            item_data = json.load(item)\n",
    "        except:\n",
    "            print('error loading',file)\n",
    "            error_count += 1\n",
    "            continue\n",
    "\n",
    "        # extract/name the data you want\n",
    "        # item type\n",
    "        item_type = 'Item'\n",
    "        # date uplaoded\n",
    "        date_uploaded = date_string_for_today\n",
    "        # for checking purposes, add in the source of the info\n",
    "        source_file = str(file)\n",
    "        # make sure there's some unique and stable identifier\n",
    "        try:\n",
    "            item_id = item_data['library_of_congress_control_number']\n",
    "        except:\n",
    "            item_id = item_data['url'].split('/')[-2]\n",
    "        title = item_data['title']\n",
    "        try:\n",
    "            date = item_data['date']\n",
    "        except:\n",
    "            date = 'n.d.'\n",
    "        source_url = item_data['url']\n",
    "        try:\n",
    "            phys_format = item_data['format'][0]\n",
    "        except:\n",
    "            phys_format = 'Not found'\n",
    "        try:\n",
    "            subjects = item_data['subjects'][0]\n",
    "        except:\n",
    "            subjects = 'Not found'\n",
    "        try:\n",
    "            rights = item_data['rights_information']\n",
    "        except:\n",
    "            rights = 'Undetermined'\n",
    "        try:\n",
    "            image_url = item_data['image_url'][0]\n",
    "        except:\n",
    "            image_url = 'Not Found'\n",
    "\n",
    "         # dictionary for the rows\n",
    "        row_dict = dict()\n",
    "\n",
    "        # look for the item metadata, assign it to the dictionary;\n",
    "        # start with some basic elements likely (already enumerated in the headers list) :\n",
    "        # item type\n",
    "        row_dict['item_type'] = item_type\n",
    "        # date uploaded\n",
    "        row_dict['date_uploaded'] = date_uploaded\n",
    "        # source filename\n",
    "        row_dict['source_file'] = source_file\n",
    "        # identifier\n",
    "        row_dict['item_id'] = item_id\n",
    "        # title\n",
    "        row_dict['title'] = title\n",
    "        # date\n",
    "        row_dict['date'] = date\n",
    "        # link\n",
    "        row_dict['source_url'] = source_url\n",
    "        # format\n",
    "        row_dict['phys_format'] = phys_format\n",
    "        # digital format\n",
    "        row_dict['subjects'] = subjects\n",
    "        #rights\n",
    "        row_dict['rights'] = rights\n",
    "        #image\n",
    "        row_dict['image_url'] = image_url\n",
    "\n",
    "\n",
    "        # write to the csv\n",
    "        with open(collection_info_csv, 'a', encoding='utf-8') as fout:\n",
    "            writer = csv.DictWriter(fout, fieldnames=headers)\n",
    "            if items_written == 0:\n",
    "                writer.writeheader()\n",
    "            writer.writerow(row_dict)\n",
    "            items_written += 1\n",
    "            print('adding',item_id)\n",
    "\n",
    "print('\\n\\n--- LOG ---')\n",
    "print('wrote',collection_info_csv)\n",
    "print('with',items_written,'items')\n",
    "print(error_count,'errors (info not written)')\n"
   ]
  },
  {
   "cell_type": "markdown",
   "metadata": {},
   "source": []
  }
 ],
 "metadata": {
  "kernelspec": {
   "display_name": "Python 3.9.6 64-bit",
   "language": "python",
   "name": "python3"
  },
  "language_info": {
   "codemirror_mode": {
    "name": "ipython",
    "version": 3
   },
   "file_extension": ".py",
   "mimetype": "text/x-python",
   "name": "python",
   "nbconvert_exporter": "python",
   "pygments_lexer": "ipython3",
   "version": "3.9.6"
  },
  "orig_nbformat": 4,
  "vscode": {
   "interpreter": {
    "hash": "aee8b7b246df8f9039afb4144a1f6fd8d2ca17a180786b69acc140d282b71a49"
   }
  }
 },
 "nbformat": 4,
 "nbformat_minor": 2
}
