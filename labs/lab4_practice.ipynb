{
 "cells": [
  {
   "cell_type": "code",
   "execution_count": 123,
   "metadata": {},
   "outputs": [],
   "source": [
    "import os\n",
    "import os.path\n",
    "import shutil\n"
   ]
  },
  {
   "cell_type": "code",
   "execution_count": 124,
   "metadata": {},
   "outputs": [
    {
     "data": {
      "text/plain": [
       "'/Users/raynaketchum/Air_Documents/umich/SI676/networked-services-labs-main 2'"
      ]
     },
     "execution_count": 124,
     "metadata": {},
     "output_type": "execute_result"
    }
   ],
   "source": [
    "os.getcwd()"
   ]
  },
  {
   "cell_type": "code",
   "execution_count": 125,
   "metadata": {},
   "outputs": [],
   "source": [
    "cur_dir = os.getcwd()"
   ]
  },
  {
   "cell_type": "code",
   "execution_count": 126,
   "metadata": {},
   "outputs": [
    {
     "name": "stdout",
     "output_type": "stream",
     "text": [
      "/Users/raynaketchum/Air_Documents/umich/SI676/networked-services-labs-main 2\n"
     ]
    }
   ],
   "source": [
    "print(cur_dir)"
   ]
  },
  {
   "cell_type": "code",
   "execution_count": 127,
   "metadata": {},
   "outputs": [
    {
     "data": {
      "text/plain": [
       "str"
      ]
     },
     "execution_count": 127,
     "metadata": {},
     "output_type": "execute_result"
    }
   ],
   "source": [
    "type(cur_dir)"
   ]
  },
  {
   "cell_type": "code",
   "execution_count": 128,
   "metadata": {},
   "outputs": [],
   "source": [
    "webfiles_dir = os.path.join(cur_dir, 'data', 'webfiles-samples')"
   ]
  },
  {
   "cell_type": "code",
   "execution_count": 129,
   "metadata": {},
   "outputs": [
    {
     "data": {
      "text/plain": [
       "str"
      ]
     },
     "execution_count": 129,
     "metadata": {},
     "output_type": "execute_result"
    }
   ],
   "source": [
    "type(webfiles_dir)"
   ]
  },
  {
   "cell_type": "code",
   "execution_count": 130,
   "metadata": {},
   "outputs": [
    {
     "data": {
      "text/plain": [
       "True"
      ]
     },
     "execution_count": 130,
     "metadata": {},
     "output_type": "execute_result"
    }
   ],
   "source": [
    "os.path.isdir(webfiles_dir)"
   ]
  },
  {
   "cell_type": "code",
   "execution_count": 137,
   "metadata": {},
   "outputs": [
    {
     "data": {
      "text/plain": [
       "['video',\n",
       " '.DS_Store',\n",
       " 'pdf',\n",
       " 'image',\n",
       " 'audio',\n",
       " 'web-files-small-metadata.csv',\n",
       " 'presentation']"
      ]
     },
     "execution_count": 137,
     "metadata": {},
     "output_type": "execute_result"
    }
   ],
   "source": [
    "os.listdir(webfiles_dir)"
   ]
  },
  {
   "cell_type": "code",
   "execution_count": 140,
   "metadata": {},
   "outputs": [
    {
     "name": "stdout",
     "output_type": "stream",
     "text": [
      "<class 'str'>\n"
     ]
    }
   ],
   "source": [
    "print(type(os.path.join(webfiles_dir, 'video')))"
   ]
  },
  {
   "cell_type": "code",
   "execution_count": 141,
   "metadata": {},
   "outputs": [
    {
     "data": {
      "text/plain": [
       "True"
      ]
     },
     "execution_count": 141,
     "metadata": {},
     "output_type": "execute_result"
    }
   ],
   "source": [
    "os.path.isdir(os.path.join(webfiles_dir, 'video'))"
   ]
  },
  {
   "cell_type": "code",
   "execution_count": 131,
   "metadata": {},
   "outputs": [],
   "source": [
    "contents = os.listdir(webfiles_dir)"
   ]
  },
  {
   "cell_type": "code",
   "execution_count": 148,
   "metadata": {},
   "outputs": [
    {
     "name": "stdout",
     "output_type": "stream",
     "text": [
      "video is directory\n",
      ".DS_Store NOT a dir\n",
      "pdf is directory\n",
      "image is directory\n",
      "audio is directory\n",
      "web-files-small-metadata.csv NOT a dir\n",
      "presentation is directory\n"
     ]
    }
   ],
   "source": [
    "for item in contents: \n",
    "    if (os.path.isdir(os.path.join(webfiles_dir, item))):\n",
    "        print(item, 'is directory')\n",
    "    else: \n",
    "        print(item,'NOT a dir')"
   ]
  },
  {
   "cell_type": "code",
   "execution_count": 150,
   "metadata": {},
   "outputs": [
    {
     "name": "stdout",
     "output_type": "stream",
     "text": [
      "/Users/raynaketchum/Air_Documents/umich/SI676/networked-services-labs-main 2/data/webfiles-samples/video it worked!\n",
      "/Users/raynaketchum/Air_Documents/umich/SI676/networked-services-labs-main 2/data/webfiles-samples/pdf it worked!\n",
      "/Users/raynaketchum/Air_Documents/umich/SI676/networked-services-labs-main 2/data/webfiles-samples/image it worked!\n",
      "/Users/raynaketchum/Air_Documents/umich/SI676/networked-services-labs-main 2/data/webfiles-samples/audio it worked!\n",
      "/Users/raynaketchum/Air_Documents/umich/SI676/networked-services-labs-main 2/data/webfiles-samples/presentation it worked!\n"
     ]
    }
   ],
   "source": [
    "for item in contents: \n",
    "    if (os.path.isdir(os.path.join(webfiles_dir, item))):\n",
    "        item_dir = os.path.join(webfiles_dir, item)\n",
    "        print(item_dir, \"it worked!\")\n",
    "    else:\n",
    "        pass"
   ]
  },
  {
   "cell_type": "code",
   "execution_count": 152,
   "metadata": {},
   "outputs": [
    {
     "name": "stdout",
     "output_type": "stream",
     "text": [
      "['vlwhcssc.asx', '04-04-21full.asf', 'glmp_cig.EQ.wm.p20.t12z', 'oct17cc.asx']\n",
      "['01-1480.pdf', 'file.pdf', 'Chapter03.pdf', 'PFCHEJ.pdf', 'HR2021 commtext.pdf']\n",
      "['13080t.jpg', 'orca.via_.moc_.noaa_.jpg', 'k7989-7x.jpg', 'm237a2f.gif', '1005107061.tif']\n",
      "['11-3250JohnsonvFolinoEtAl.wma', 'NEWSLINE_802AF71F439D401585C6FCB02F358307.mp3', 'mj_telework_exchange_final_100710.mp3', '000727.ram']\n",
      "['BudgetandGrants012710.ppt', 'ADAEMPLOYMENTTaxIncentives.ppt', 'Non-FTE-Trainee-Activities-060109.ppt']\n"
     ]
    }
   ],
   "source": [
    "for item in contents:\n",
    "    if (os.path.isdir(os.path.join(webfiles_dir, item))):\n",
    "        item_dir = os.path.join(webfiles_dir, item)\n",
    "        print(os.listdir(item_dir))\n",
    "    else:\n",
    "        pass"
   ]
  }
 ],
 "metadata": {
  "kernelspec": {
   "display_name": "Python 3.9.12 ('base')",
   "language": "python",
   "name": "python3"
  },
  "language_info": {
   "codemirror_mode": {
    "name": "ipython",
    "version": 3
   },
   "file_extension": ".py",
   "mimetype": "text/x-python",
   "name": "python",
   "nbconvert_exporter": "python",
   "pygments_lexer": "ipython3",
   "version": "3.9.12"
  },
  "orig_nbformat": 4,
  "vscode": {
   "interpreter": {
    "hash": "fb59787a1ebc17cf4afa93632e1e028071f6174288cf186e0672318603beedbc"
   }
  }
 },
 "nbformat": 4,
 "nbformat_minor": 2
}
