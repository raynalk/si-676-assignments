{
 "cells": [
  {
   "cell_type": "markdown",
   "metadata": {},
   "source": [
    "Class Activities Sep 28, 2022"
   ]
  },
  {
   "cell_type": "code",
   "execution_count": 1,
   "metadata": {},
   "outputs": [],
   "source": [
    "import os.path"
   ]
  },
  {
   "cell_type": "code",
   "execution_count": 2,
   "metadata": {},
   "outputs": [
    {
     "data": {
      "text/plain": [
       "'/Users/raynaketchum/Air_Documents/umich/SI676/networked-services-labs'"
      ]
     },
     "execution_count": 2,
     "metadata": {},
     "output_type": "execute_result"
    }
   ],
   "source": [
    "os.getcwd()"
   ]
  },
  {
   "cell_type": "code",
   "execution_count": 3,
   "metadata": {},
   "outputs": [
    {
     "data": {
      "text/plain": [
       "['video',\n",
       " 'pdf',\n",
       " 'image',\n",
       " 'audio',\n",
       " 'web-files-small-metadata.csv',\n",
       " 'presentation']"
      ]
     },
     "execution_count": 3,
     "metadata": {},
     "output_type": "execute_result"
    }
   ],
   "source": [
    "path_to_data_dir = os.path.join('data', 'webfiles-samples')\n",
    "# works from current working directory\n",
    "\n",
    "os.listdir(path_to_data_dir)\n",
    "# lists what's in the dir"
   ]
  },
  {
   "cell_type": "code",
   "execution_count": 4,
   "metadata": {},
   "outputs": [
    {
     "data": {
      "text/plain": [
       "<posix.ScandirIterator at 0x7fdf18ac3260>"
      ]
     },
     "execution_count": 4,
     "metadata": {},
     "output_type": "execute_result"
    }
   ],
   "source": [
    "os.scandir(path_to_data_dir)"
   ]
  },
  {
   "cell_type": "code",
   "execution_count": 5,
   "metadata": {},
   "outputs": [
    {
     "name": "stdout",
     "output_type": "stream",
     "text": [
      "<DirEntry 'video'>\n",
      "<DirEntry 'pdf'>\n",
      "<DirEntry 'image'>\n",
      "<DirEntry 'audio'>\n",
      "<DirEntry 'web-files-small-metadata.csv'>\n",
      "<DirEntry 'presentation'>\n"
     ]
    }
   ],
   "source": [
    "for item in os.scandir(path_to_data_dir):\n",
    "    print(item)\n",
    "    #gives us the object in the directory, not a literal list.\n",
    "    #we can work with these. "
   ]
  },
  {
   "cell_type": "code",
   "execution_count": 15,
   "metadata": {},
   "outputs": [
    {
     "name": "stdout",
     "output_type": "stream",
     "text": [
      "Looking at /Users/raynaketchum/Air_Documents/umich/SI676/networked-services-labs/data/webfiles-samples/web-files-small-metadata.csv:\n",
      " filename: web-files-small-metadata.csv\n",
      " file extention: .csv\n",
      " file size: 9069\n"
     ]
    }
   ],
   "source": [
    "for entry in os.scandir(path_to_data_dir):\n",
    "    if os.path.isfile(entry):\n",
    "        absolute_path = os.path.abspath(entry)\n",
    "        filename = os.path.basename(entry)\n",
    "        file_extention = os.path.splitext(entry)[1] #relative path, file extention\n",
    "        #[1] is the file extention part of the tuple\n",
    "        file_size_bytes = os.path.getsize(entry)\n",
    "print(f'Looking at {absolute_path}:\\n filename: {filename}\\n file extention: {file_extention}\\n file size: {file_size_bytes}')\n"
   ]
  },
  {
   "cell_type": "markdown",
   "metadata": {},
   "source": [
    "#Using and extracting the date and information\n"
   ]
  },
  {
   "cell_type": "code",
   "execution_count": 18,
   "metadata": {},
   "outputs": [],
   "source": [
    "from datetime import datetime\n",
    "#redundant but importance bc 'datetime' is a module inside of vocab datetime. Just do it. "
   ]
  },
  {
   "cell_type": "code",
   "execution_count": 16,
   "metadata": {},
   "outputs": [
    {
     "name": "stdout",
     "output_type": "stream",
     "text": [
      "1664372497.1430416\n"
     ]
    }
   ],
   "source": [
    "for entry in os.scandir(path_to_data_dir):\n",
    "    if os.path.isfile(entry):\n",
    "        absolute_path = os.path.abspath(entry)\n",
    "        filename = os.path.basename(entry)\n",
    "        file_extention = os.path.splitext(entry)[1] #relative path, file extention\n",
    "        #[1] is the file extention part of the tuple\n",
    "        file_size_bytes = os.path.getsize(entry)\n",
    "        print(os.path.getmtime(entry))\n"
   ]
  },
  {
   "cell_type": "code",
   "execution_count": 19,
   "metadata": {},
   "outputs": [
    {
     "name": "stdout",
     "output_type": "stream",
     "text": [
      "2022-09-28 09:41:37.143042\n"
     ]
    }
   ],
   "source": [
    "for entry in os.scandir(path_to_data_dir):\n",
    "    if os.path.isfile(entry):\n",
    "        absolute_path = os.path.abspath(entry)\n",
    "        filename = os.path.basename(entry)\n",
    "        file_extention = os.path.splitext(entry)[1] #relative path, file extention\n",
    "        #[1] is the file extention part of the tuple\n",
    "        file_size_bytes = os.path.getsize(entry)\n",
    "        print(datetime.fromtimestamp(os.path.getmtime(entry)))\n",
    "        #proves a relative date, last time it was modified"
   ]
  },
  {
   "cell_type": "code",
   "execution_count": 23,
   "metadata": {},
   "outputs": [
    {
     "name": "stdout",
     "output_type": "stream",
     "text": [
      "2022-09-28T09:09:1664372497\n"
     ]
    }
   ],
   "source": [
    "for entry in os.scandir(path_to_data_dir):\n",
    "    if os.path.isfile(entry):\n",
    "        absolute_path = os.path.abspath(entry)\n",
    "        filename = os.path.basename(entry)\n",
    "        file_extention = os.path.splitext(entry)[1] #relative path, file extention\n",
    "        #[1] is the file extention part of the tuple\n",
    "        file_size_bytes = os.path.getsize(entry)\n",
    "        print(datetime.strftime(datetime.fromtimestamp(os.path.getmtime(entry)), \"%Y-%m-%dT%H:%m:%s\"))"
   ]
  },
  {
   "cell_type": "markdown",
   "metadata": {},
   "source": [
    "# Using os.walk()"
   ]
  },
  {
   "cell_type": "code",
   "execution_count": 28,
   "metadata": {},
   "outputs": [
    {
     "data": {
      "text/plain": [
       "'data/webfiles-samples'"
      ]
     },
     "execution_count": 28,
     "metadata": {},
     "output_type": "execute_result"
    }
   ],
   "source": [
    "os.getcwd()\n",
    "path_to_data_dir"
   ]
  },
  {
   "cell_type": "code",
   "execution_count": 35,
   "metadata": {},
   "outputs": [
    {
     "name": "stdout",
     "output_type": "stream",
     "text": [
      "/Users/raynaketchum/Air_Documents/umich/SI676/networked-services-labs/data/webfiles-samples/web-files-small-metadata.csv\n",
      "/Users/raynaketchum/Air_Documents/umich/SI676/networked-services-labs/data/webfiles-samples/video/vlwhcssc.asx\n",
      "/Users/raynaketchum/Air_Documents/umich/SI676/networked-services-labs/data/webfiles-samples/video/04-04-21full.asf\n",
      "/Users/raynaketchum/Air_Documents/umich/SI676/networked-services-labs/data/webfiles-samples/video/glmp_cig.EQ.wm.p20.t12z\n",
      "/Users/raynaketchum/Air_Documents/umich/SI676/networked-services-labs/data/webfiles-samples/video/oct17cc.asx\n",
      "/Users/raynaketchum/Air_Documents/umich/SI676/networked-services-labs/data/webfiles-samples/pdf/01-1480.pdf\n",
      "/Users/raynaketchum/Air_Documents/umich/SI676/networked-services-labs/data/webfiles-samples/pdf/file.pdf\n",
      "/Users/raynaketchum/Air_Documents/umich/SI676/networked-services-labs/data/webfiles-samples/pdf/Chapter03.pdf\n",
      "/Users/raynaketchum/Air_Documents/umich/SI676/networked-services-labs/data/webfiles-samples/pdf/PFCHEJ.pdf\n",
      "/Users/raynaketchum/Air_Documents/umich/SI676/networked-services-labs/data/webfiles-samples/pdf/HR2021 commtext.pdf\n",
      "/Users/raynaketchum/Air_Documents/umich/SI676/networked-services-labs/data/webfiles-samples/image/13080t.jpg\n",
      "/Users/raynaketchum/Air_Documents/umich/SI676/networked-services-labs/data/webfiles-samples/image/orca.via_.moc_.noaa_.jpg\n",
      "/Users/raynaketchum/Air_Documents/umich/SI676/networked-services-labs/data/webfiles-samples/image/k7989-7x.jpg\n",
      "/Users/raynaketchum/Air_Documents/umich/SI676/networked-services-labs/data/webfiles-samples/image/m237a2f.gif\n",
      "/Users/raynaketchum/Air_Documents/umich/SI676/networked-services-labs/data/webfiles-samples/image/1005107061.tif\n",
      "/Users/raynaketchum/Air_Documents/umich/SI676/networked-services-labs/data/webfiles-samples/audio/11-3250JohnsonvFolinoEtAl.wma\n",
      "/Users/raynaketchum/Air_Documents/umich/SI676/networked-services-labs/data/webfiles-samples/audio/NEWSLINE_802AF71F439D401585C6FCB02F358307.mp3\n",
      "/Users/raynaketchum/Air_Documents/umich/SI676/networked-services-labs/data/webfiles-samples/audio/mj_telework_exchange_final_100710.mp3\n",
      "/Users/raynaketchum/Air_Documents/umich/SI676/networked-services-labs/data/webfiles-samples/audio/000727.ram\n",
      "/Users/raynaketchum/Air_Documents/umich/SI676/networked-services-labs/data/webfiles-samples/presentation/BudgetandGrants012710.ppt\n",
      "/Users/raynaketchum/Air_Documents/umich/SI676/networked-services-labs/data/webfiles-samples/presentation/ADAEMPLOYMENTTaxIncentives.ppt\n",
      "/Users/raynaketchum/Air_Documents/umich/SI676/networked-services-labs/data/webfiles-samples/presentation/Non-FTE-Trainee-Activities-060109.ppt\n"
     ]
    }
   ],
   "source": [
    "for folderName, subfolders, filenames in os.walk(path_to_data_dir):\n",
    "    for file in filenames: \n",
    "        print(os.path.join(os.path.abspath(folderName), file))"
   ]
  }
 ],
 "metadata": {
  "kernelspec": {
   "display_name": "Python 3.9.12 ('base')",
   "language": "python",
   "name": "python3"
  },
  "language_info": {
   "codemirror_mode": {
    "name": "ipython",
    "version": 3
   },
   "file_extension": ".py",
   "mimetype": "text/x-python",
   "name": "python",
   "nbconvert_exporter": "python",
   "pygments_lexer": "ipython3",
   "version": "3.9.12"
  },
  "orig_nbformat": 4,
  "vscode": {
   "interpreter": {
    "hash": "fb59787a1ebc17cf4afa93632e1e028071f6174288cf186e0672318603beedbc"
   }
  }
 },
 "nbformat": 4,
 "nbformat_minor": 2
}
