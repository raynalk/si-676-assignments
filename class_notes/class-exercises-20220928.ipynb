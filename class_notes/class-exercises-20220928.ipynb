{
 "cells": [
  {
   "cell_type": "markdown",
   "metadata": {},
   "source": [
    "# Class activities Sep 28, 2022\n",
    "Things we did in class."
   ]
  },
  {
   "cell_type": "code",
   "execution_count": 1,
   "metadata": {},
   "outputs": [],
   "source": [
    "import os.path "
   ]
  },
  {
   "cell_type": "code",
   "execution_count": 2,
   "metadata": {},
   "outputs": [
    {
     "data": {
      "text/plain": [
       "'/Users/jajohnst/Desktop/networked-services-labs-2022'"
      ]
     },
     "execution_count": 2,
     "metadata": {},
     "output_type": "execute_result"
    }
   ],
   "source": [
    "os.getcwd()"
   ]
  },
  {
   "cell_type": "code",
   "execution_count": 3,
   "metadata": {},
   "outputs": [
    {
     "data": {
      "text/plain": [
       "['video',\n",
       " '.DS_Store',\n",
       " 'pdf',\n",
       " 'image',\n",
       " 'audio',\n",
       " 'web-files-small-metadata.csv',\n",
       " 'presentation']"
      ]
     },
     "execution_count": 3,
     "metadata": {},
     "output_type": "execute_result"
    }
   ],
   "source": [
    "path_to_data_dir = os.path.join('data','webfiles-samples')\n",
    "\n",
    "os.listdir(path_to_data_dir)"
   ]
  },
  {
   "cell_type": "code",
   "execution_count": 4,
   "metadata": {},
   "outputs": [
    {
     "data": {
      "text/plain": [
       "<posix.ScandirIterator at 0x108176f10>"
      ]
     },
     "execution_count": 4,
     "metadata": {},
     "output_type": "execute_result"
    }
   ],
   "source": [
    "os.scandir(path_to_data_dir)"
   ]
  },
  {
   "cell_type": "code",
   "execution_count": 5,
   "metadata": {},
   "outputs": [
    {
     "name": "stdout",
     "output_type": "stream",
     "text": [
      "<DirEntry 'video'>\n",
      "<DirEntry '.DS_Store'>\n",
      "<DirEntry 'pdf'>\n",
      "<DirEntry 'image'>\n",
      "<DirEntry 'audio'>\n",
      "<DirEntry 'web-files-small-metadata.csv'>\n",
      "<DirEntry 'presentation'>\n"
     ]
    }
   ],
   "source": [
    "for item in os.scandir(path_to_data_dir):\n",
    "    print(item)"
   ]
  },
  {
   "cell_type": "code",
   "execution_count": 13,
   "metadata": {},
   "outputs": [
    {
     "name": "stdout",
     "output_type": "stream",
     "text": [
      "Looking at /Users/jajohnst/Desktop/networked-services-labs-2022/data/webfiles-samples/web-files-small-metadata.csv:\n",
      "filename: web-files-small-metadata.csv\n",
      "file extension: .csv\n",
      "file size: 9069\n"
     ]
    }
   ],
   "source": [
    "for entry in os.scandir(path_to_data_dir):\n",
    "    if os.path.isfile(entry):\n",
    "        absolute_path = os.path.abspath(entry)\n",
    "        filename = os.path.basename(entry)\n",
    "        file_extension = os.path.splitext(entry)[1]\n",
    "        file_size_bytes = os.path.getsize(entry)\n",
    "print(f'Looking at {absolute_path}:\\nfilename: {filename}\\nfile extension: {file_extension}\\nfile size: {file_size_bytes}')"
   ]
  },
  {
   "cell_type": "markdown",
   "metadata": {},
   "source": [
    "# Using and extracting the date information"
   ]
  },
  {
   "cell_type": "code",
   "execution_count": 14,
   "metadata": {},
   "outputs": [],
   "source": [
    "from datetime import datetime"
   ]
  },
  {
   "cell_type": "code",
   "execution_count": 15,
   "metadata": {},
   "outputs": [
    {
     "name": "stdout",
     "output_type": "stream",
     "text": [
      "1663731437.4485967\n",
      "1662429312.824961\n"
     ]
    }
   ],
   "source": [
    "for entry in os.scandir(path_to_data_dir):\n",
    "    if os.path.isfile(entry):\n",
    "        absolute_path = os.path.abspath(entry)\n",
    "        filename = os.path.basename(entry)\n",
    "        file_extension = os.path.splitext(entry)[1]\n",
    "        file_size_bytes = os.path.getsize(entry)\n",
    "        print(os.path.getmtime(entry))\n"
   ]
  },
  {
   "cell_type": "code",
   "execution_count": 16,
   "metadata": {},
   "outputs": [
    {
     "name": "stdout",
     "output_type": "stream",
     "text": [
      "2022-09-20 23:37:17.448597\n",
      "2022-09-05 21:55:12.824961\n"
     ]
    }
   ],
   "source": [
    "for entry in os.scandir(path_to_data_dir):\n",
    "    if os.path.isfile(entry):\n",
    "        absolute_path = os.path.abspath(entry)\n",
    "        filename = os.path.basename(entry)\n",
    "        file_extension = os.path.splitext(entry)[1]\n",
    "        file_size_bytes = os.path.getsize(entry)\n",
    "        print(datetime.fromtimestamp(os.path.getmtime(entry)))\n"
   ]
  },
  {
   "cell_type": "code",
   "execution_count": 19,
   "metadata": {},
   "outputs": [
    {
     "name": "stdout",
     "output_type": "stream",
     "text": [
      "2022-09-20T23:09:1663731437\n",
      "2022-09-05T21:09:1662429312\n"
     ]
    }
   ],
   "source": [
    "for entry in os.scandir(path_to_data_dir):\n",
    "    if os.path.isfile(entry):\n",
    "        absolute_path = os.path.abspath(entry)\n",
    "        filename = os.path.basename(entry)\n",
    "        file_extension = os.path.splitext(entry)[1]\n",
    "        file_size_bytes = os.path.getsize(entry)\n",
    "        print(datetime.strftime(datetime.fromtimestamp(os.path.getmtime(entry)), \"%Y-%m-%dT%H:%m:%s\"))\n"
   ]
  },
  {
   "cell_type": "markdown",
   "metadata": {},
   "source": [
    "# Using os.walk()"
   ]
  },
  {
   "cell_type": "code",
   "execution_count": 20,
   "metadata": {},
   "outputs": [
    {
     "data": {
      "text/plain": [
       "'data/webfiles-samples'"
      ]
     },
     "execution_count": 20,
     "metadata": {},
     "output_type": "execute_result"
    }
   ],
   "source": [
    "path_to_data_dir"
   ]
  },
  {
   "cell_type": "code",
   "execution_count": 21,
   "metadata": {},
   "outputs": [
    {
     "name": "stdout",
     "output_type": "stream",
     "text": [
      "data/webfiles-samples ['video', 'pdf', 'image', 'audio', 'presentation'] web-files-small-metadata.csv\n",
      "data/webfiles-samples/video [] web-files-small-metadata.csv\n",
      "data/webfiles-samples/pdf [] web-files-small-metadata.csv\n",
      "data/webfiles-samples/image [] web-files-small-metadata.csv\n",
      "data/webfiles-samples/audio [] web-files-small-metadata.csv\n",
      "data/webfiles-samples/presentation [] web-files-small-metadata.csv\n"
     ]
    }
   ],
   "source": [
    "for folderName, subfolders, filenames in os.walk(path_to_data_dir):\n",
    "    print(folderName, subfolders, filename)"
   ]
  },
  {
   "cell_type": "code",
   "execution_count": 25,
   "metadata": {},
   "outputs": [
    {
     "name": "stdout",
     "output_type": "stream",
     "text": [
      "/Users/jajohnst/Desktop/networked-services-labs-2022/data/webfiles-samples/.DS_Store\n",
      "/Users/jajohnst/Desktop/networked-services-labs-2022/data/webfiles-samples/web-files-small-metadata.csv\n",
      "/Users/jajohnst/Desktop/networked-services-labs-2022/data/webfiles-samples/video/vlwhcssc.asx\n",
      "/Users/jajohnst/Desktop/networked-services-labs-2022/data/webfiles-samples/video/04-04-21full.asf\n",
      "/Users/jajohnst/Desktop/networked-services-labs-2022/data/webfiles-samples/video/glmp_cig.EQ.wm.p20.t12z\n",
      "/Users/jajohnst/Desktop/networked-services-labs-2022/data/webfiles-samples/video/oct17cc.asx\n",
      "/Users/jajohnst/Desktop/networked-services-labs-2022/data/webfiles-samples/pdf/01-1480.pdf\n",
      "/Users/jajohnst/Desktop/networked-services-labs-2022/data/webfiles-samples/pdf/file.pdf\n",
      "/Users/jajohnst/Desktop/networked-services-labs-2022/data/webfiles-samples/pdf/Chapter03.pdf\n",
      "/Users/jajohnst/Desktop/networked-services-labs-2022/data/webfiles-samples/pdf/PFCHEJ.pdf\n",
      "/Users/jajohnst/Desktop/networked-services-labs-2022/data/webfiles-samples/pdf/HR2021 commtext.pdf\n",
      "/Users/jajohnst/Desktop/networked-services-labs-2022/data/webfiles-samples/image/13080t.jpg\n",
      "/Users/jajohnst/Desktop/networked-services-labs-2022/data/webfiles-samples/image/orca.via_.moc_.noaa_.jpg\n",
      "/Users/jajohnst/Desktop/networked-services-labs-2022/data/webfiles-samples/image/k7989-7x.jpg\n",
      "/Users/jajohnst/Desktop/networked-services-labs-2022/data/webfiles-samples/image/m237a2f.gif\n",
      "/Users/jajohnst/Desktop/networked-services-labs-2022/data/webfiles-samples/image/1005107061.tif\n",
      "/Users/jajohnst/Desktop/networked-services-labs-2022/data/webfiles-samples/audio/11-3250JohnsonvFolinoEtAl.wma\n",
      "/Users/jajohnst/Desktop/networked-services-labs-2022/data/webfiles-samples/audio/NEWSLINE_802AF71F439D401585C6FCB02F358307.mp3\n",
      "/Users/jajohnst/Desktop/networked-services-labs-2022/data/webfiles-samples/audio/mj_telework_exchange_final_100710.mp3\n",
      "/Users/jajohnst/Desktop/networked-services-labs-2022/data/webfiles-samples/audio/000727.ram\n",
      "/Users/jajohnst/Desktop/networked-services-labs-2022/data/webfiles-samples/presentation/BudgetandGrants012710.ppt\n",
      "/Users/jajohnst/Desktop/networked-services-labs-2022/data/webfiles-samples/presentation/ADAEMPLOYMENTTaxIncentives.ppt\n",
      "/Users/jajohnst/Desktop/networked-services-labs-2022/data/webfiles-samples/presentation/Non-FTE-Trainee-Activities-060109.ppt\n"
     ]
    }
   ],
   "source": [
    "for folderName, subfolders, filenames in os.walk(path_to_data_dir):\n",
    "    for file in filenames:\n",
    "        print(os.path.join(os.path.abspath(folderName), file))"
   ]
  }
 ],
 "metadata": {
  "kernelspec": {
   "display_name": "Python 3.9.6 64-bit",
   "language": "python",
   "name": "python3"
  },
  "language_info": {
   "codemirror_mode": {
    "name": "ipython",
    "version": 3
   },
   "file_extension": ".py",
   "mimetype": "text/x-python",
   "name": "python",
   "nbconvert_exporter": "python",
   "pygments_lexer": "ipython3",
   "version": "3.9.6"
  },
  "orig_nbformat": 4,
  "vscode": {
   "interpreter": {
    "hash": "31f2aee4e71d21fbe5cf8b01ff0e069b9275f58929596ceb00d14d90e3e16cd6"
   }
  }
 },
 "nbformat": 4,
 "nbformat_minor": 2
}
