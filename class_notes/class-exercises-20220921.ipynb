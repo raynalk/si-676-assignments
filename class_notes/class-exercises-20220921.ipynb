{
 "cells": [
  {
   "cell_type": "markdown",
   "id": "cd343fe1-98e5-4106-9f38-509fa8854f09",
   "metadata": {},
   "source": [
    "# Class exercises Sep 21\n",
    "\n",
    "In class stuff with python!"
   ]
  },
  {
   "cell_type": "code",
   "execution_count": 1,
   "id": "be4b010f-81af-461f-9207-9b810ce2eba8",
   "metadata": {},
   "outputs": [],
   "source": [
    "import os\n",
    "import os.path\n",
    "import shutil"
   ]
  },
  {
   "cell_type": "markdown",
   "id": "824fcee1-3c09-4738-93bc-67e07a5a1e92",
   "metadata": {},
   "source": [
    "# File navigation"
   ]
  },
  {
   "cell_type": "code",
   "execution_count": 2,
   "id": "665fbf3e-e146-4514-ad13-71e84507accf",
   "metadata": {},
   "outputs": [
    {
     "data": {
      "text/plain": [
       "'/Users/jajohnst/Desktop/networked-services-labs-2022'"
      ]
     },
     "execution_count": 2,
     "metadata": {},
     "output_type": "execute_result"
    }
   ],
   "source": [
    "os.getcwd()"
   ]
  },
  {
   "cell_type": "code",
   "execution_count": 3,
   "id": "7f39b6fe-8601-4bd6-907e-b207740df285",
   "metadata": {},
   "outputs": [],
   "source": [
    "os.chdir('data')"
   ]
  },
  {
   "cell_type": "code",
   "execution_count": 4,
   "id": "da7918a9-8880-4b66-9123-c965880c44c0",
   "metadata": {},
   "outputs": [
    {
     "data": {
      "text/plain": [
       "'/Users/jajohnst/Desktop/networked-services-labs-2022/data'"
      ]
     },
     "execution_count": 4,
     "metadata": {},
     "output_type": "execute_result"
    }
   ],
   "source": [
    "os.getcwd()"
   ]
  },
  {
   "cell_type": "code",
   "execution_count": 5,
   "id": "169e62fc-f908-4c79-9c35-87122bf32dfa",
   "metadata": {},
   "outputs": [],
   "source": [
    "os.chdir('..')"
   ]
  },
  {
   "cell_type": "code",
   "execution_count": 6,
   "id": "0bf2b6b5-240f-4d1a-873f-72204d767393",
   "metadata": {},
   "outputs": [
    {
     "data": {
      "text/plain": [
       "'/Users/jajohnst/Desktop/networked-services-labs-2022'"
      ]
     },
     "execution_count": 6,
     "metadata": {},
     "output_type": "execute_result"
    }
   ],
   "source": [
    "os.getcwd()"
   ]
  },
  {
   "cell_type": "code",
   "execution_count": 7,
   "id": "25ac0a1d-1507-4415-8a27-3a748f2da00a",
   "metadata": {},
   "outputs": [
    {
     "name": "stdout",
     "output_type": "stream",
     "text": [
      "/Users/jajohnst/Desktop/networked-services-labs-2022\n"
     ]
    }
   ],
   "source": [
    "cur_loc = os.getcwd()\n",
    "\n",
    "print(cur_loc)"
   ]
  },
  {
   "cell_type": "code",
   "execution_count": 8,
   "id": "7846a596-46d2-422e-9d08-664f78fc8d49",
   "metadata": {},
   "outputs": [
    {
     "data": {
      "text/plain": [
       "str"
      ]
     },
     "execution_count": 8,
     "metadata": {},
     "output_type": "execute_result"
    }
   ],
   "source": [
    "type(cur_loc)"
   ]
  },
  {
   "cell_type": "code",
   "execution_count": 9,
   "id": "d76b537e-f442-4b0a-9733-76745d987e9d",
   "metadata": {},
   "outputs": [],
   "source": [
    "webfiles_dir = os.path.join(cur_loc, 'data', 'webfiles-samples')"
   ]
  },
  {
   "cell_type": "code",
   "execution_count": 10,
   "id": "a07b3561-85e3-41dc-8c32-c43373a1fb55",
   "metadata": {},
   "outputs": [
    {
     "name": "stdout",
     "output_type": "stream",
     "text": [
      "/Users/jajohnst/Desktop/networked-services-labs-2022/data/webfiles-samples\n"
     ]
    }
   ],
   "source": [
    "print(webfiles_dir)"
   ]
  },
  {
   "cell_type": "code",
   "execution_count": 11,
   "id": "b4d96544-6f75-4ac3-834d-ff46e96ed869",
   "metadata": {},
   "outputs": [
    {
     "data": {
      "text/plain": [
       "str"
      ]
     },
     "execution_count": 11,
     "metadata": {},
     "output_type": "execute_result"
    }
   ],
   "source": [
    "type(webfiles_dir)"
   ]
  },
  {
   "cell_type": "code",
   "execution_count": 13,
   "id": "9dbe0e6c-da71-454a-bd93-5ae4e1ec1815",
   "metadata": {},
   "outputs": [
    {
     "data": {
      "text/plain": [
       "True"
      ]
     },
     "execution_count": 13,
     "metadata": {},
     "output_type": "execute_result"
    }
   ],
   "source": [
    "os.path.isdir(webfiles_dir)"
   ]
  },
  {
   "cell_type": "code",
   "execution_count": 15,
   "id": "0461555d-8d79-4844-ad48-dd0a10489ac6",
   "metadata": {},
   "outputs": [
    {
     "data": {
      "text/plain": [
       "False"
      ]
     },
     "execution_count": 15,
     "metadata": {},
     "output_type": "execute_result"
    }
   ],
   "source": [
    "os.path.isfile(webfiles_dir)"
   ]
  },
  {
   "cell_type": "code",
   "execution_count": 16,
   "id": "36441aa1-2ec7-4755-8f9b-9a737eaba203",
   "metadata": {},
   "outputs": [
    {
     "name": "stdout",
     "output_type": "stream",
     "text": [
      "/Users/jajohnst/Desktop/networked-services-labs-2022/data/webfiles-samples/web-files-small-metadata.csv\n"
     ]
    }
   ],
   "source": [
    "path_to_file = os.path.join(webfiles_dir, 'web-files-small-metadata.csv')\n",
    "\n",
    "print(path_to_file)"
   ]
  },
  {
   "cell_type": "code",
   "execution_count": 17,
   "id": "fbaef0e8-5eba-42f3-9842-7119b1e396ad",
   "metadata": {},
   "outputs": [
    {
     "data": {
      "text/plain": [
       "True"
      ]
     },
     "execution_count": 17,
     "metadata": {},
     "output_type": "execute_result"
    }
   ],
   "source": [
    "os.path.isfile(path_to_file)"
   ]
  },
  {
   "cell_type": "markdown",
   "id": "70a2e201-2c7d-41c2-be7e-876f13bb459c",
   "metadata": {},
   "source": [
    "# File open & close"
   ]
  },
  {
   "cell_type": "code",
   "execution_count": 18,
   "id": "5f3b6c8f-402b-4b2c-9481-e8246fdfc8ea",
   "metadata": {},
   "outputs": [],
   "source": [
    "line = 'Metadata is fun! And its Wednesday (for bad grammar)'\n",
    "\n",
    "fout = open('quote-out.txt', 'w')\n",
    "\n",
    "fout.write(line)\n",
    "\n",
    "fout.close()"
   ]
  },
  {
   "cell_type": "code",
   "execution_count": 21,
   "id": "1efb3893-2c81-4617-b6db-cc91dba3249f",
   "metadata": {},
   "outputs": [
    {
     "data": {
      "text/plain": [
       "True"
      ]
     },
     "execution_count": 21,
     "metadata": {},
     "output_type": "execute_result"
    }
   ],
   "source": [
    "os.path.isfile('quote-out.txt')"
   ]
  },
  {
   "cell_type": "code",
   "execution_count": 22,
   "id": "ba0c904e-bff5-437a-810f-09e19cc51f3e",
   "metadata": {},
   "outputs": [
    {
     "name": "stdout",
     "output_type": "stream",
     "text": [
      "Metadata is fun! And its Wednesday (for bad grammar)\n"
     ]
    }
   ],
   "source": [
    "# similar to cat in the terminal/shell\n",
    "with open('quote-out.txt', 'r') as f:\n",
    "    print(f.read())"
   ]
  },
  {
   "cell_type": "code",
   "execution_count": 23,
   "id": "9f232b2e-21be-4fed-ab38-7a56e8d3f57d",
   "metadata": {},
   "outputs": [
    {
     "name": "stdout",
     "output_type": "stream",
     "text": [
      "Metadata is fun! And its Wednesday (for bad grammar)\n"
     ]
    }
   ],
   "source": [
    "with open('quote-out.txt', 'r') as f:\n",
    "    for line in f:\n",
    "        print(line)"
   ]
  },
  {
   "cell_type": "markdown",
   "id": "03a35e8c-4b36-4494-affe-386b139beca9",
   "metadata": {},
   "source": [
    "# Interacting with Files, with paths!"
   ]
  },
  {
   "cell_type": "code",
   "execution_count": 28,
   "id": "cbf68b4f-cee1-4b3d-9eb6-72d0b1395649",
   "metadata": {},
   "outputs": [
    {
     "data": {
      "text/plain": [
       "<_io.TextIOWrapper name='quote-out.txt' mode='w' encoding='UTF-8'>"
      ]
     },
     "execution_count": 28,
     "metadata": {},
     "output_type": "execute_result"
    }
   ],
   "source": [
    "fout"
   ]
  },
  {
   "cell_type": "code",
   "execution_count": 33,
   "id": "bb057a84-cb3a-4c40-bff7-eeeb8f718a3c",
   "metadata": {},
   "outputs": [],
   "source": [
    "path_to_file \n",
    "\n",
    "#fname = 'web-files-small-metadata.csv'\n",
    "\n",
    "file_list = list()\n",
    "\n",
    "# let's open the csv and read lines from it\n",
    "with open(path_to_file, 'r') as f:\n",
    "    for line in f:\n",
    "        file_list.append(line)"
   ]
  },
  {
   "cell_type": "code",
   "execution_count": 42,
   "id": "7f0fccd3-f79f-4cb3-a563-a90dfabf6fbf",
   "metadata": {},
   "outputs": [
    {
     "data": {
      "text/plain": [
       "'/Users/jajohnst/Desktop/networked-services-labs-2022/data/webfiles-samples'"
      ]
     },
     "execution_count": 42,
     "metadata": {},
     "output_type": "execute_result"
    }
   ],
   "source": [
    "webfiles_dir"
   ]
  },
  {
   "cell_type": "code",
   "execution_count": 43,
   "id": "92d2a0f5-9d1f-4d46-b2e6-7246f96f7376",
   "metadata": {},
   "outputs": [
    {
     "data": {
      "text/plain": [
       "['video',\n",
       " '.DS_Store',\n",
       " 'pdf',\n",
       " 'image',\n",
       " 'audio',\n",
       " '.ipynb_checkpoints',\n",
       " 'web-files-small-metadata.csv',\n",
       " 'presentation']"
      ]
     },
     "execution_count": 43,
     "metadata": {},
     "output_type": "execute_result"
    }
   ],
   "source": [
    "os.listdir(webfiles_dir)"
   ]
  },
  {
   "cell_type": "code",
   "execution_count": 44,
   "id": "4aa7002c-b7a0-4bd6-856a-bb18bc531daa",
   "metadata": {},
   "outputs": [
    {
     "name": "stdout",
     "output_type": "stream",
     "text": [
      "video\n",
      ".DS_Store\n",
      "pdf\n",
      "image\n",
      "audio\n",
      ".ipynb_checkpoints\n",
      "web-files-small-metadata.csv\n",
      "presentation\n"
     ]
    }
   ],
   "source": [
    "contents = os.listdir(webfiles_dir)\n",
    "\n",
    "for item in contents:\n",
    "    print(item)"
   ]
  },
  {
   "cell_type": "code",
   "execution_count": 46,
   "id": "f3e242ea-6ce8-4ae2-9978-9b0de1d1c0d7",
   "metadata": {},
   "outputs": [
    {
     "name": "stdout",
     "output_type": "stream",
     "text": [
      "video not a file\n",
      ".DS_Store is a file\n",
      "pdf not a file\n",
      "image not a file\n",
      "audio not a file\n",
      ".ipynb_checkpoints not a file\n",
      "web-files-small-metadata.csv not a file\n",
      "presentation not a file\n"
     ]
    }
   ],
   "source": [
    "for item in contents:\n",
    "    if os.path.isfile(item):\n",
    "        print(item,'is a file')\n",
    "    else:\n",
    "        print(item,'not a file')"
   ]
  },
  {
   "cell_type": "code",
   "execution_count": 50,
   "id": "c412c26c-46cd-4b42-86d1-0075f450113a",
   "metadata": {},
   "outputs": [
    {
     "data": {
      "text/plain": [
       "'/Users/jajohnst/Desktop/networked-services-labs-2022'"
      ]
     },
     "execution_count": 50,
     "metadata": {},
     "output_type": "execute_result"
    }
   ],
   "source": [
    "os.getcwd()"
   ]
  },
  {
   "cell_type": "code",
   "execution_count": 48,
   "id": "8a7db0e2-6ca8-4515-b98e-0317038ca23d",
   "metadata": {},
   "outputs": [
    {
     "name": "stdout",
     "output_type": "stream",
     "text": [
      "Looking at: <DirEntry 'video'>\n",
      "Looking at: <DirEntry '.DS_Store'>\n",
      "Looking at: <DirEntry 'pdf'>\n",
      "Looking at: <DirEntry 'image'>\n",
      "Looking at: <DirEntry 'audio'>\n",
      "Looking at: <DirEntry '.ipynb_checkpoints'>\n",
      "Looking at: <DirEntry 'web-files-small-metadata.csv'>\n",
      "Looking at: <DirEntry 'presentation'>\n"
     ]
    }
   ],
   "source": [
    "with os.scandir(webfiles_dir) as items_list:\n",
    "    for entry in items_list:\n",
    "        print('Looking at:',entry)"
   ]
  }
 ],
 "metadata": {
  "kernelspec": {
   "display_name": "Python 3.9.6 64-bit",
   "language": "python",
   "name": "python3"
  },
  "language_info": {
   "codemirror_mode": {
    "name": "ipython",
    "version": 3
   },
   "file_extension": ".py",
   "mimetype": "text/x-python",
   "name": "python",
   "nbconvert_exporter": "python",
   "pygments_lexer": "ipython3",
   "version": "3.9.6"
  },
  "vscode": {
   "interpreter": {
    "hash": "aee8b7b246df8f9039afb4144a1f6fd8d2ca17a180786b69acc140d282b71a49"
   }
  }
 },
 "nbformat": 4,
 "nbformat_minor": 5
}
