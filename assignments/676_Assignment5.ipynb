{
 "cells": [
  {
   "cell_type": "code",
   "execution_count": 1,
   "metadata": {},
   "outputs": [],
   "source": [
    "import csv\n",
    "import json\n",
    "import requests\n",
    "\n",
    "import glob\n",
    "import os\n",
    "from os.path import join"
   ]
  },
  {
   "cell_type": "code",
   "execution_count": 2,
   "metadata": {},
   "outputs": [],
   "source": [
    "endpoint = 'https://www.loc.gov/free-to-use'\n",
    "parameters = {\n",
    "    'fo' : 'json'\n",
    "}"
   ]
  },
  {
   "cell_type": "code",
   "execution_count": 3,
   "metadata": {},
   "outputs": [],
   "source": [
    "collection = 'birds'"
   ]
  },
  {
   "cell_type": "code",
   "execution_count": 4,
   "metadata": {},
   "outputs": [],
   "source": [
    "collection_list_response = requests.get(endpoint + '/' + collection, params=parameters)"
   ]
  },
  {
   "cell_type": "code",
   "execution_count": 5,
   "metadata": {},
   "outputs": [
    {
     "data": {
      "text/plain": [
       "'https://www.loc.gov/free-to-use/birds?fo=json'"
      ]
     },
     "execution_count": 5,
     "metadata": {},
     "output_type": "execute_result"
    }
   ],
   "source": [
    "collection_list_response.url"
   ]
  },
  {
   "cell_type": "code",
   "execution_count": 6,
   "metadata": {},
   "outputs": [],
   "source": [
    "collection_json = collection_list_response.json()"
   ]
  },
  {
   "cell_type": "code",
   "execution_count": 7,
   "metadata": {},
   "outputs": [
    {
     "data": {
      "text/plain": [
       "dict_keys(['breadcrumbs', 'content', 'content_is_post', 'description', 'expert_resources', 'next', 'next_sibling', 'options', 'pages', 'portal', 'previous', 'previous_sibling', 'site_type', 'timestamp', 'title', 'type'])"
      ]
     },
     "execution_count": 7,
     "metadata": {},
     "output_type": "execute_result"
    }
   ],
   "source": [
    "collection_json.keys()"
   ]
  },
  {
   "cell_type": "code",
   "execution_count": 8,
   "metadata": {},
   "outputs": [
    {
     "name": "stdout",
     "output_type": "stream",
     "text": [
      "{'image': '/static/portals/free-to-use/public-domain/birds/birds-1.jpg', 'link': '/resource/gtfy.01168/', 'title': 'Bird watcher, Central Park. Photo by Bernard Gotfryd, 1970-1980. Prints & Photographs Division'}\n",
      "{'image': '/static/portals/free-to-use/public-domain/birds/birds-2.jpg', 'link': '/resource/cph.3a49143/', 'title': \"The Humming-Bird ... ; the Cuckow. In: Cock Robin's Death and Funeral, 1780. Rare Book Division\"}\n",
      "{'image': '/static/portals/free-to-use/public-domain/birds/birds-3.jpg', 'link': '/resource/cph.3b52232/', 'title': 'Summer red bird. Tanager. Color engraving by R. Havell, after drawing by John J. Audubon. Elephant folio, 1827-1838. Rare Book Division'}\n",
      "{'image': '/static/portals/free-to-use/public-domain/birds/birds-4.jpg', 'link': '/resource/jpd.02954/', 'title': 'Minowa kanasugi mikawashima. (Red-crowned crane) Color woodcut, 1857. Prints & Photographs Division'}\n",
      "{'image': '/static/portals/free-to-use/public-domain/birds/birds-5.jpg', 'link': '/resource/ds.10210/', 'title': 'Big Bird of Sesame Street at the Library of Congress Bicentennial. Photo, 2000. Prints & Photographs Division'}\n",
      "{'image': '/static/portals/free-to-use/public-domain/birds/birds-6.jpg', 'link': '/resource/cph.3g05259/', 'title': 'The habeas corpus, or The wild geese flying away with Fox to America. British political cartoon, 1782. Prints & Photographs Division'}\n",
      "{'image': '/static/portals/free-to-use/public-domain/birds/birds-7.jpg', 'link': '/resource/cph.3b52391/', 'title': 'Indigo Bird. Color engraving by R. Havell, after drawing by John J. Audubon. Elephant folio, 1827-1838. Rare Book Division'}\n",
      "{'image': '/static/portals/free-to-use/public-domain/birds/birds-8.jpg', 'link': '/resource/cph.3b52385/', 'title': 'Bird of Washington. Color engraving by R. Havell, after drawing by John J. Audubon. Elephant folio, 1827-1838. Rare Book Division'}\n",
      "{'image': '/static/portals/free-to-use/public-domain/birds/birds-9.jpg', 'link': '/resource/cph.3b52381/', 'title': 'Mountain Mocking Bird and Varied Thrush. Color engraving by R. Havell, after drawing by John J. Audubon. Elephant folio, 1827-1838. Rare Book Division'}\n",
      "{'image': '/static/portals/free-to-use/public-domain/birds/birds-10.jpg', 'link': '/resource/cph.3b52227/', 'title': 'Rose-breasted grosbeak. Color engraving by R. Havell, after drawing by John J. Audubon. Elephant folio, 1827-1838. Rare Book Division'}\n",
      "{'image': '/static/portals/free-to-use/public-domain/birds/birds-11.jpg', 'link': '/resource/ppmsca.26467/', 'title': 'Civil War envelope showing an eagle carrying an American flag in its claw and a serpent in its beak with motto \"The early bird catches the worm\" below. By John S. Trimble, 1861-65. Prints & Photographs Division'}\n",
      "{'image': '/static/portals/free-to-use/public-domain/birds/birds-12.jpg', 'link': '/resource/ihas.100004017.0/?sp=1', 'title': 'Singing of Birds. Sheet music cover, 1871. Music Division'}\n",
      "{'image': '/static/portals/free-to-use/public-domain/birds/birds-13.jpg', 'link': '/resource/ppmsca.45460/', 'title': \"Parr's Swiss styles bird cage. Lithograph, 1872. Prints & Photographs Division\"}\n",
      "{'image': '/static/portals/free-to-use/public-domain/birds/birds-14.jpg', 'link': '/resource/pga.12180/', 'title': 'Yellow bird perched on rose stems. Chromolithograph by L. Prang, 1873. Prints & Photographs Division'}\n",
      "{'image': '/static/portals/free-to-use/public-domain/birds/birds-15.jpg', 'link': '/resource/pga.12062/', 'title': '1. King bird. 2. Great crested flycatcher. 3. Pewee flycatcher or phœbe. Lithograph by L. Prang, 1874. Prints & Photographs Division'}\n",
      "{'image': '/static/portals/free-to-use/public-domain/birds/birds-16.jpg', 'link': '/resource/ppmsca.44290/', 'title': 'Ice Bird. Chromolithograph, 1876. Prints & Photographs Division'}\n",
      "{'image': '/static/portals/free-to-use/public-domain/birds/birds-17.jpg', 'link': '/resource/ppmsca.44137/', 'title': \"Lloyd's pictorial chart of birds. Hand-colored engraving, 1876. Prints & Photographs Division\"}\n",
      "{'image': '/static/portals/free-to-use/public-domain/birds/birds-18.jpg', 'link': '/resource/ppmsca.45466/', 'title': 'Canary bird cage. Lithograph, 1877. Prints & Photographs Division'}\n",
      "{'image': '/static/portals/free-to-use/public-domain/birds/birds-19.jpg', 'link': '/resource/pga.14162/', 'title': \"Apple blossoms and bird's nest / after Mrs. O.E. Whitney. Chromolithograph by L. Prang, 1878. Prints & Photographs Division\"}\n",
      "{'image': '/static/portals/free-to-use/public-domain/birds/birds-20.jpg', 'link': '/resource/ds.12960/', 'title': 'The mallard duck Anas boschas (Linnæus). In: Upland game birds and water fowl of the United States, by  A. Pope Jr., 1878. Prints & Photographs Division'}\n",
      "{'image': '/static/portals/free-to-use/public-domain/birds/birds-21.jpg', 'link': '/resource/pga.14182/', 'title': 'Bird on a stalk, singing. Chromolithograph by L. Prang, 1883. Prints & Photographs Division'}\n",
      "{'image': '/static/portals/free-to-use/public-domain/birds/birds-22.jpg', 'link': '/resource/ds.05086/', 'title': 'The cruelties of fashion - \"fine feathers make fine birds.\" Drawing by John Hyde, published in Frank Leslie\\'s Illustrated Newspaper, 1883. Prints & Photographs Division\\n'}\n",
      "{'image': '/static/portals/free-to-use/public-domain/birds/birds-23.jpg', 'link': '/resource/pga.12102/', 'title': '\"In February.\" Illustration for \"Baby\\'s Lullaby Book ... by Charles Stuart Pratt,\" 1888. Prints & Photographs Division\\n'}\n",
      "{'image': '/static/portals/free-to-use/public-domain/birds/birds-24.jpg', 'link': '/resource/ppmsca.44352/', 'title': 'School and family charts, by Marcius Willson and N.A. Calkins. ... Aves, or birds, classification of birds. Hand-colored engraving, 1890. Prints & Photographs Division'}\n",
      "{'image': '/static/portals/free-to-use/public-domain/birds/birds-25.jpg', 'link': '/resource/ppmsca.44525/', 'title': 'Early Birds. Chromolithograph, 1892. Prints & Photographs Division'}\n",
      "{'image': '/static/portals/free-to-use/public-domain/birds/birds-26.jpg', 'link': '/resource/ds.04698/', 'title': 'Peacocks. Crayon drawings by James McNeill Whistler, 1900. Prints & Photographs Division'}\n",
      "{'image': '/static/portals/free-to-use/public-domain/birds/birds-27.jpg', 'link': '/resource/stereo.1s26898/', 'title': 'Flamingos in Maharaja’s aviary, Jaipur, India. Stereograph by H.C. White, 1907. Prints & Photographs Division'}\n",
      "{'image': '/static/portals/free-to-use/public-domain/birds/birds-28.jpg', 'link': '/resource/cai.2a14845/', 'title': \"The swallow and the raven. Ink drawing by E. Boyd Smith. Published in: Aesop's Fables, New York: The Century Co., 1911. Prints & Photographs Division\"}\n",
      "{'image': '/static/portals/free-to-use/public-domain/birds/birds-29.jpg', 'link': '/resource/agc.7a00162/', 'title': 'Scene from \"Sanctuary, A Bird Masque,\" by Percy MacKaye, at the Meriden Bird Club sanctuary dedication in New Hampshire. Photo by Arnold Genthe, 1913.\\n'}\n",
      "{'image': '/static/portals/free-to-use/public-domain/birds/birds-30.jpg', 'link': '/resource/ds.09801/', 'title': 'Showing how the pigeons are part of the U.S. Army They too have to have their identification tag ...,  Fort Lucy, France. Photo by U.S. Army Signal Corps, 1918. Prints & Photographs Division'}\n",
      "{'image': '/static/portals/free-to-use/public-domain/birds/birds-31.jpg', 'link': '/resource/det.4a26643/', 'title': 'Mexican wild turkey. Photo of drawing by Louis Agassiz. Detroit Publishing Co., 1912-1920. Prints & Photographs Division'}\n",
      "{'image': '/static/portals/free-to-use/public-domain/birds/birds-32.jpg', 'link': '/resource/npcc.29781/', 'title': 'American Forestry Assn. Bird House contest. Photo by National Photo Co., 1/19/21. Prints & Photographs Division'}\n",
      "{'image': '/static/portals/free-to-use/public-domain/birds/birds-33.jpg', 'link': '/resource/acd.2a09222/', 'title': 'Critical moments. Drawing by Herbert Johnson, 1921. Prints & Photographs Division'}\n",
      "{'image': '/static/portals/free-to-use/public-domain/birds/birds-34.jpg', 'link': '/resource/hec.41473/', 'title': 'Swan at a zoo(?). Photo by Harris & Ewing, 1921. Prints & Photographs Division'}\n",
      "{'image': '/static/portals/free-to-use/public-domain/birds/birds-35.jpg', 'link': '/resource/acd.2a07586/', 'title': 'The bird-lover. Ink drawing by John C. Conacher, 1922. Prints & Photographs Division'}\n",
      "{'image': '/static/portals/free-to-use/public-domain/birds/birds-36.jpg', 'link': '/resource/hec.29933/', 'title': 'Birds. Photo by Harris & Ewing, 1915-1923. Prints & Photographs Division'}\n",
      "{'image': '/static/portals/free-to-use/public-domain/birds/birds-37.jpg', 'link': '/resource/hec.42940/', 'title': 'Group of boys with bird houses; White House in background. Washington, D.C.] Photo by Harris & Ewing, 1923. Prints & Photographs Division\\n'}\n",
      "{'image': '/static/portals/free-to-use/public-domain/birds/birds-38.jpg', 'link': '/resource/ppmsca.15504/', 'title': 'Bookplate for ornithologist Ruthven Deane. Hand-colored etching by Sidney L. Smith, 1924. Prints & Photographs Division'}\n",
      "{'image': '/static/portals/free-to-use/public-domain/birds/birds-39.jpg', 'link': '/resource/cph.3f05606/', 'title': 'Visit the zoo. Poster by Louise Welsh, 1936 or 1937. Prints & Photographs Division'}\n",
      "{'image': '/static/portals/free-to-use/public-domain/birds/birds-40.jpg', 'link': '/resource/fsa.8b20226/', 'title': 'Southeast Missouri Farms. Sharecropper family with pet bird in shack home. La Forge project, Missouri. Photo by Russell Lee, 1938. Prints & Photographs Division'}\n",
      "{'image': '/static/portals/free-to-use/public-domain/birds/birds-41.jpg', 'link': '/resource/fsa.8b22903/', 'title': 'Spanish-American FSA (Farm Security Administration) client feeding her chickens near Taos, New Mexico. Photo by Russell Lee, 1939. Prints & Photographs Division'}\n",
      "{'image': '/static/portals/free-to-use/public-domain/birds/birds-42.jpg', 'link': '/resource/fsa.8c01083/', 'title': 'Incubator and baby chicks. Photo by Russell Lee, 1941. Prints & Photographs Division'}\n",
      "{'image': '/static/portals/free-to-use/public-domain/birds/birds-43.jpg', 'link': '/resource/ppmsca.69888/', 'title': 'Man and woman feeding pigeons.Photo by Angelo Rizzuto, 1954. Prints & Photographs Division'}\n",
      "{'image': '/static/portals/free-to-use/public-domain/birds/birds-44.jpg', 'link': '/resource/ppmsca.42039/', 'title': 'Peace. Poster with a dove and olive branch, 1970s. Prints & Photographs Division'}\n",
      "{'image': '/static/portals/free-to-use/public-domain/birds/birds-45.jpg', 'link': '/resource/highsm.14944/', 'title': 'Residents of Parrot Jungle and Gardens, south of Miami, Florida. Photo by Carol M. Highsmith, 1980s-20060. Prints & Photographs Division'}\n",
      "{'image': '/static/portals/free-to-use/public-domain/birds/birds-46.jpg', 'link': '/resource/highsm.14976/', 'title': 'This pier in the Florida Keys, often becomes a virtual bird sanctuary. Photo by Carol M. Highsmith, 1980s-2006. Prints & Photographs Division'}\n",
      "{'image': '/static/portals/free-to-use/public-domain/birds/birds-47.jpg', 'link': '/resource/highsm.33347/', 'title': 'This is Cheyenne, a seven-year-old female bald eagle, Colorado. Photo by Carol M. Highsmith, 2015. Prints & Photographs Division'}\n",
      "{'image': '/static/portals/free-to-use/public-domain/birds/birds-48.jpg', 'link': '/resource/highsm.54225/', 'title': 'Burrowing owl, Arizona. Photo by Carol M. Highsmith, 2018. Prints & Photographs Division'}\n"
     ]
    }
   ],
   "source": [
    "for k in collection_json['content']['set']['items']:\n",
    "    print(k)"
   ]
  },
  {
   "cell_type": "code",
   "execution_count": 9,
   "metadata": {},
   "outputs": [
    {
     "data": {
      "text/plain": [
       "48"
      ]
     },
     "execution_count": 9,
     "metadata": {},
     "output_type": "execute_result"
    }
   ],
   "source": [
    "len(collection_json['content']['set']['items'])"
   ]
  },
  {
   "cell_type": "code",
   "execution_count": 10,
   "metadata": {},
   "outputs": [
    {
     "data": {
      "text/plain": [
       "dict_keys(['image', 'link', 'title'])"
      ]
     },
     "execution_count": 10,
     "metadata": {},
     "output_type": "execute_result"
    }
   ],
   "source": [
    "collection_json['content']['set']['items'][0].keys()"
   ]
  },
  {
   "cell_type": "code",
   "execution_count": 11,
   "metadata": {},
   "outputs": [
    {
     "name": "stdout",
     "output_type": "stream",
     "text": [
      "wrote data/collection_set_list.csv\n"
     ]
    }
   ],
   "source": [
    "collection_set_list = os.path.join('data','collection_set_list.csv')\n",
    "headers = ['image','link','title']\n",
    "\n",
    "with open(collection_set_list, 'w', encoding='utf-8', newline='') as f:\n",
    "    writer = csv.DictWriter(f, fieldnames=headers)\n",
    "    writer.writeheader()\n",
    "    for item in collection_json['content']['set']['items']:\n",
    "        \n",
    "        # clean up errant spaces in the title fields\n",
    "        item['title'] = item['title'].rstrip()\n",
    "        writer.writerow(item)\n",
    "    print('wrote',collection_set_list)"
   ]
  },
  {
   "cell_type": "code",
   "execution_count": 12,
   "metadata": {},
   "outputs": [],
   "source": [
    "# update endpoint info\n",
    "endpoint = 'https://www.loc.gov'\n",
    "parameters = {\n",
    "    'fo' : 'json'\n",
    "}"
   ]
  },
  {
   "cell_type": "code",
   "execution_count": 13,
   "metadata": {},
   "outputs": [
    {
     "name": "stdout",
     "output_type": "stream",
     "text": [
      "data/ftu_birds_metadata exists\n"
     ]
    }
   ],
   "source": [
    "#   NAME CHANGE FOR FOLDER\n",
    "\n",
    "# run this cell to confirm that you have a location for the JSON files\n",
    "item_metadata_directory = os.path.join('data','ftu_birds_metadata')\n",
    "\n",
    "if os.path.isdir(item_metadata_directory):\n",
    "    print(item_metadata_directory,'exists')\n",
    "else:\n",
    "    os.mkdir(item_metadata_directory)\n",
    "    print('created',item_metadata_directory)"
   ]
  },
  {
   "cell_type": "code",
   "execution_count": 14,
   "metadata": {},
   "outputs": [
    {
     "name": "stdout",
     "output_type": "stream",
     "text": [
      "requested https://www.loc.gov/resource/gtfy.01168/?fo=json 200\n",
      "wrote data/ftu_birds_metadata/item_metadata-gtfy.01168.json\n",
      "requested https://www.loc.gov/resource/cph.3a49143/?fo=json 200\n",
      "wrote data/ftu_birds_metadata/item_metadata-cph.3a49143.json\n",
      "requested https://www.loc.gov/resource/cph.3b52232/?fo=json 200\n",
      "wrote data/ftu_birds_metadata/item_metadata-cph.3b52232.json\n",
      "requested https://www.loc.gov/resource/jpd.02954/?fo=json 200\n",
      "wrote data/ftu_birds_metadata/item_metadata-jpd.02954.json\n",
      "requested https://www.loc.gov/resource/ds.10210/?fo=json 200\n",
      "wrote data/ftu_birds_metadata/item_metadata-ds.10210.json\n",
      "requested https://www.loc.gov/resource/cph.3g05259/?fo=json 200\n",
      "wrote data/ftu_birds_metadata/item_metadata-cph.3g05259.json\n",
      "requested https://www.loc.gov/resource/cph.3b52391/?fo=json 200\n",
      "wrote data/ftu_birds_metadata/item_metadata-cph.3b52391.json\n",
      "requested https://www.loc.gov/resource/cph.3b52385/?fo=json 200\n",
      "wrote data/ftu_birds_metadata/item_metadata-cph.3b52385.json\n",
      "requested https://www.loc.gov/resource/cph.3b52381/?fo=json 200\n",
      "wrote data/ftu_birds_metadata/item_metadata-cph.3b52381.json\n",
      "requested https://www.loc.gov/resource/cph.3b52227/?fo=json 200\n",
      "wrote data/ftu_birds_metadata/item_metadata-cph.3b52227.json\n",
      "requested https://www.loc.gov/resource/ppmsca.26467/?fo=json 200\n",
      "wrote data/ftu_birds_metadata/item_metadata-ppmsca.26467.json\n",
      "requested https://www.loc.gov/resource/ihas.100004017.0/?sp=1&fo=json 200\n",
      "wrote data/ftu_birds_metadata/item_metadata-ihas.100004017.0.json\n",
      "requested https://www.loc.gov/resource/ppmsca.45460/?fo=json 200\n",
      "wrote data/ftu_birds_metadata/item_metadata-ppmsca.45460.json\n",
      "requested https://www.loc.gov/resource/pga.12180/?fo=json 200\n",
      "wrote data/ftu_birds_metadata/item_metadata-pga.12180.json\n",
      "requested https://www.loc.gov/resource/pga.12062/?fo=json 200\n",
      "wrote data/ftu_birds_metadata/item_metadata-pga.12062.json\n",
      "requested https://www.loc.gov/resource/ppmsca.44290/?fo=json 200\n",
      "wrote data/ftu_birds_metadata/item_metadata-ppmsca.44290.json\n",
      "requested https://www.loc.gov/resource/ppmsca.44137/?fo=json 200\n",
      "wrote data/ftu_birds_metadata/item_metadata-ppmsca.44137.json\n",
      "requested https://www.loc.gov/resource/ppmsca.45466/?fo=json 200\n",
      "wrote data/ftu_birds_metadata/item_metadata-ppmsca.45466.json\n",
      "requested https://www.loc.gov/resource/pga.14162/?fo=json 200\n",
      "wrote data/ftu_birds_metadata/item_metadata-pga.14162.json\n",
      "requested https://www.loc.gov/resource/ds.12960/?fo=json 200\n",
      "wrote data/ftu_birds_metadata/item_metadata-ds.12960.json\n",
      "requested https://www.loc.gov/resource/pga.14182/?fo=json 200\n",
      "wrote data/ftu_birds_metadata/item_metadata-pga.14182.json\n",
      "requested https://www.loc.gov/resource/ds.05086/?fo=json 200\n",
      "wrote data/ftu_birds_metadata/item_metadata-ds.05086.json\n",
      "requested https://www.loc.gov/resource/pga.12102/?fo=json 200\n",
      "wrote data/ftu_birds_metadata/item_metadata-pga.12102.json\n",
      "requested https://www.loc.gov/resource/ppmsca.44352/?fo=json 200\n",
      "wrote data/ftu_birds_metadata/item_metadata-ppmsca.44352.json\n",
      "requested https://www.loc.gov/resource/ppmsca.44525/?fo=json 200\n",
      "wrote data/ftu_birds_metadata/item_metadata-ppmsca.44525.json\n",
      "requested https://www.loc.gov/resource/ds.04698/?fo=json 200\n",
      "wrote data/ftu_birds_metadata/item_metadata-ds.04698.json\n",
      "requested https://www.loc.gov/resource/stereo.1s26898/?fo=json 200\n",
      "wrote data/ftu_birds_metadata/item_metadata-stereo.1s26898.json\n",
      "requested https://www.loc.gov/resource/cai.2a14845/?fo=json 200\n",
      "wrote data/ftu_birds_metadata/item_metadata-cai.2a14845.json\n",
      "requested https://www.loc.gov/resource/agc.7a00162/?fo=json 200\n",
      "wrote data/ftu_birds_metadata/item_metadata-agc.7a00162.json\n",
      "requested https://www.loc.gov/resource/ds.09801/?fo=json 200\n",
      "wrote data/ftu_birds_metadata/item_metadata-ds.09801.json\n",
      "requested https://www.loc.gov/resource/det.4a26643/?fo=json 200\n",
      "wrote data/ftu_birds_metadata/item_metadata-det.4a26643.json\n",
      "requested https://www.loc.gov/resource/npcc.29781/?fo=json 200\n",
      "wrote data/ftu_birds_metadata/item_metadata-npcc.29781.json\n",
      "requested https://www.loc.gov/resource/acd.2a09222/?fo=json 200\n",
      "wrote data/ftu_birds_metadata/item_metadata-acd.2a09222.json\n",
      "requested https://www.loc.gov/resource/hec.41473/?fo=json 200\n",
      "wrote data/ftu_birds_metadata/item_metadata-hec.41473.json\n",
      "requested https://www.loc.gov/resource/acd.2a07586/?fo=json 200\n",
      "wrote data/ftu_birds_metadata/item_metadata-acd.2a07586.json\n",
      "requested https://www.loc.gov/resource/hec.29933/?fo=json 200\n",
      "wrote data/ftu_birds_metadata/item_metadata-hec.29933.json\n",
      "requested https://www.loc.gov/resource/hec.42940/?fo=json 200\n",
      "wrote data/ftu_birds_metadata/item_metadata-hec.42940.json\n",
      "requested https://www.loc.gov/resource/ppmsca.15504/?fo=json 200\n",
      "wrote data/ftu_birds_metadata/item_metadata-ppmsca.15504.json\n",
      "requested https://www.loc.gov/resource/cph.3f05606/?fo=json 200\n",
      "wrote data/ftu_birds_metadata/item_metadata-cph.3f05606.json\n",
      "requested https://www.loc.gov/resource/fsa.8b20226/?fo=json 200\n",
      "wrote data/ftu_birds_metadata/item_metadata-fsa.8b20226.json\n",
      "requested https://www.loc.gov/resource/fsa.8b22903/?fo=json 200\n",
      "wrote data/ftu_birds_metadata/item_metadata-fsa.8b22903.json\n",
      "requested https://www.loc.gov/resource/fsa.8c01083/?fo=json 200\n",
      "wrote data/ftu_birds_metadata/item_metadata-fsa.8c01083.json\n",
      "requested https://www.loc.gov/resource/ppmsca.69888/?fo=json 200\n",
      "wrote data/ftu_birds_metadata/item_metadata-ppmsca.69888.json\n",
      "requested https://www.loc.gov/resource/ppmsca.42039/?fo=json 200\n",
      "wrote data/ftu_birds_metadata/item_metadata-ppmsca.42039.json\n",
      "requested https://www.loc.gov/resource/highsm.14944/?fo=json 200\n",
      "wrote data/ftu_birds_metadata/item_metadata-highsm.14944.json\n",
      "requested https://www.loc.gov/resource/highsm.14976/?fo=json 200\n",
      "wrote data/ftu_birds_metadata/item_metadata-highsm.14976.json\n",
      "requested https://www.loc.gov/resource/highsm.33347/?fo=json 200\n",
      "wrote data/ftu_birds_metadata/item_metadata-highsm.33347.json\n",
      "requested https://www.loc.gov/resource/highsm.54225/?fo=json 200\n",
      "wrote data/ftu_birds_metadata/item_metadata-highsm.54225.json\n",
      "--- mini LOG ---\n",
      "items requested: 48\n",
      "errors: 0\n",
      "files written: 48\n"
     ]
    }
   ],
   "source": [
    "item_count = 0\n",
    "error_count = 0\n",
    "file_count = 0\n",
    "\n",
    "data_directory = 'data'\n",
    "item_metadata_directory = 'ftu_birds_metadata'\n",
    "item_metadata_file_start = 'item_metadata'\n",
    "json_suffix = '.json'\n",
    "\n",
    "collection_set_list = os.path.join('data','collection_set_list.csv')\n",
    "\n",
    "with open(collection_set_list, 'r', encoding='utf-8', newline='') as f:\n",
    "    reader = csv.DictReader(f, fieldnames=headers)\n",
    "    for item in reader:\n",
    "        if item['link'] == 'link':\n",
    "            continue\n",
    "        # these resource links could redirect to item pages, but currently don't work\n",
    "        if '?' in item['link']:\n",
    "            resource_ID = item['link']\n",
    "            short_ID = item['link'].split('/')[2]\n",
    "            item_metadata = requests.get(endpoint + resource_ID + '&fo=json')\n",
    "            print('requested',item_metadata.url,item_metadata.status_code)\n",
    "            if item_metadata.status_code != 200:\n",
    "                print('requested',item_metadata.url,item_metadata.status_code)\n",
    "                error_count += 1\n",
    "                continue\n",
    "            try:\n",
    "                item_metadata.json()\n",
    "            except: #basically this catches all of the highsmith photos with hhh in the ID\n",
    "                error_count += 1\n",
    "                print('no json found')\n",
    "                continue\n",
    "            fout = os.path.join(data_directory, item_metadata_directory, str(item_metadata_file_start + '-' + short_ID + json_suffix))\n",
    "            with open(fout, 'w', encoding='utf-8') as json_file:\n",
    "                json_file.write(json.dumps(item_metadata.json()['item']))\n",
    "                file_count += 1\n",
    "                print('wrote', fout)\n",
    "            item_count += 1\n",
    "        else:\n",
    "            resource_ID = item['link']\n",
    "            short_ID = item['link'].split('/')[2]\n",
    "            item_metadata = requests.get(endpoint + resource_ID, params=parameters)\n",
    "            print('requested',item_metadata.url,item_metadata.status_code)\n",
    "            if item_metadata.status_code != 200:\n",
    "                print('requested',item_metadata.url,item_metadata.status_code)\n",
    "                error_count += 1\n",
    "                continue\n",
    "            try:\n",
    "                item_metadata.json()\n",
    "            except:\n",
    "                error_count += 1\n",
    "                print('no json found')\n",
    "                continue\n",
    "            fout = os.path.join(data_directory, item_metadata_directory, str(item_metadata_file_start + '-' + short_ID + json_suffix))\n",
    "            with open(fout, 'w', encoding='utf-8') as json_file:\n",
    "                json_file.write(json.dumps(item_metadata.json()['item']))\n",
    "                file_count += 1\n",
    "                print('wrote', fout)\n",
    "            item_count += 1\n",
    "\n",
    "print('--- mini LOG ---')\n",
    "print('items requested:',item_count)\n",
    "print('errors:',error_count)\n",
    "print('files written:',file_count)"
   ]
  },
  {
   "cell_type": "markdown",
   "metadata": {},
   "source": [
    "TRANSFORMATION PART 1: Testing"
   ]
  },
  {
   "cell_type": "code",
   "execution_count": 15,
   "metadata": {},
   "outputs": [
    {
     "name": "stdout",
     "output_type": "stream",
     "text": [
      "/Users/raynaketchum/Documents/umich/SI676/networked-services-labs\n"
     ]
    }
   ],
   "source": [
    "current_loc = os.getcwd()\n",
    "\n",
    "print(current_loc)"
   ]
  },
  {
   "cell_type": "code",
   "execution_count": 16,
   "metadata": {},
   "outputs": [
    {
     "name": "stdout",
     "output_type": "stream",
     "text": [
      "data/ftu_birds_metadata\n"
     ]
    }
   ],
   "source": [
    "metadata_file_path = os.path.join('data','ftu_birds_metadata')\n",
    "\n",
    "print(metadata_file_path)"
   ]
  },
  {
   "cell_type": "code",
   "execution_count": 18,
   "metadata": {},
   "outputs": [
    {
     "name": "stdout",
     "output_type": "stream",
     "text": [
      "data/ftu_birds_metadata/item_metadata-ppmsca.45466.json\n",
      "data/ftu_birds_metadata/item_metadata-fsa.8b22903.json\n",
      "data/ftu_birds_metadata/item_metadata-hec.42940.json\n",
      "data/ftu_birds_metadata/item_metadata-stereo.1s26898.json\n",
      "data/ftu_birds_metadata/item_metadata-cph.3g05259.json\n",
      "data/ftu_birds_metadata/item_metadata-ppmsca.26467.json\n",
      "data/ftu_birds_metadata/item_metadata-cph.3b52227.json\n",
      "data/ftu_birds_metadata/item_metadata-det.4a26643.json\n",
      "data/ftu_birds_metadata/item_metadata-ds.12960.json\n",
      "data/ftu_birds_metadata/item_metadata-fsa.8b20226.json\n",
      "data/ftu_birds_metadata/item_metadata-cph.3b52381.json\n",
      "data/ftu_birds_metadata/item_metadata-ihas.100004017.0.json\n",
      "data/ftu_birds_metadata/item_metadata-ds.04698.json\n",
      "data/ftu_birds_metadata/item_metadata-ppmsca.44352.json\n",
      "data/ftu_birds_metadata/item_metadata-highsm.33347.json\n",
      "data/ftu_birds_metadata/item_metadata-highsm.14976.json\n",
      "data/ftu_birds_metadata/item_metadata-agc.7a00162.json\n",
      "data/ftu_birds_metadata/item_metadata-gtfy.01168.json\n",
      "data/ftu_birds_metadata/item_metadata-cph.3b52391.json\n",
      "data/ftu_birds_metadata/item_metadata-ppmsca.45460.json\n",
      "data/ftu_birds_metadata/item_metadata-pga.14162.json\n",
      "data/ftu_birds_metadata/item_metadata-ppmsca.44525.json\n",
      "data/ftu_birds_metadata/item_metadata-ppmsca.69888.json\n",
      "data/ftu_birds_metadata/item_metadata-pga.12062.json\n",
      "data/ftu_birds_metadata/item_metadata-hec.41473.json\n",
      "data/ftu_birds_metadata/item_metadata-ppmsca.42039.json\n",
      "data/ftu_birds_metadata/item_metadata-acd.2a07586.json\n",
      "data/ftu_birds_metadata/item_metadata-cph.3b52385.json\n",
      "data/ftu_birds_metadata/item_metadata-npcc.29781.json\n",
      "data/ftu_birds_metadata/item_metadata-acd.2a09222.json\n",
      "data/ftu_birds_metadata/item_metadata-ppmsca.44290.json\n",
      "data/ftu_birds_metadata/item_metadata-fsa.8c01083.json\n",
      "data/ftu_birds_metadata/item_metadata-hec.29933.json\n",
      "data/ftu_birds_metadata/item_metadata-cai.2a14845.json\n",
      "data/ftu_birds_metadata/item_metadata-ppmsca.44137.json\n",
      "data/ftu_birds_metadata/item_metadata-ppmsca.15504.json\n",
      "data/ftu_birds_metadata/item_metadata-highsm.54225.json\n",
      "data/ftu_birds_metadata/item_metadata-cph.3a49143.json\n",
      "data/ftu_birds_metadata/item_metadata-highsm.14944.json\n",
      "data/ftu_birds_metadata/item_metadata-cph.3f05606.json\n",
      "data/ftu_birds_metadata/item_metadata-pga.14182.json\n",
      "data/ftu_birds_metadata/item_metadata-ds.05086.json\n",
      "data/ftu_birds_metadata/item_metadata-ds.10210.json\n",
      "data/ftu_birds_metadata/item_metadata-pga.12102.json\n",
      "data/ftu_birds_metadata/item_metadata-pga.12180.json\n",
      "data/ftu_birds_metadata/item_metadata-jpd.02954.json\n",
      "data/ftu_birds_metadata/item_metadata-ds.09801.json\n",
      "data/ftu_birds_metadata/item_metadata-cph.3b52232.json\n",
      "found 48\n"
     ]
    }
   ],
   "source": [
    "file_count = 0\n",
    "\n",
    "for file in glob.glob('data/ftu_birds_metadata/item_metadata-*.json'):\n",
    "    file_count += 1\n",
    "    print(file)\n",
    "\n",
    "print('found', file_count)"
   ]
  },
  {
   "cell_type": "code",
   "execution_count": 19,
   "metadata": {},
   "outputs": [],
   "source": [
    "list_of_item_metadata_files = list()\n",
    "for file in glob.glob('data/ftu_birds_metadata/item_metadata-*.json'):\n",
    "    list_of_item_metadata_files.append(file)"
   ]
  },
  {
   "cell_type": "code",
   "execution_count": 20,
   "metadata": {},
   "outputs": [
    {
     "data": {
      "text/plain": [
       "48"
      ]
     },
     "execution_count": 20,
     "metadata": {},
     "output_type": "execute_result"
    }
   ],
   "source": [
    "len(list_of_item_metadata_files)"
   ]
  },
  {
   "cell_type": "code",
   "execution_count": 21,
   "metadata": {},
   "outputs": [
    {
     "name": "stdout",
     "output_type": "stream",
     "text": [
      "data/ftu_birds_metadata/item_metadata-acd.2a07586.json\n",
      "data/ftu_birds_metadata/item_metadata-acd.2a09222.json\n",
      "data/ftu_birds_metadata/item_metadata-agc.7a00162.json\n",
      "data/ftu_birds_metadata/item_metadata-cai.2a14845.json\n",
      "data/ftu_birds_metadata/item_metadata-cph.3a49143.json\n",
      "data/ftu_birds_metadata/item_metadata-cph.3b52227.json\n",
      "data/ftu_birds_metadata/item_metadata-cph.3b52232.json\n",
      "data/ftu_birds_metadata/item_metadata-cph.3b52381.json\n",
      "data/ftu_birds_metadata/item_metadata-cph.3b52385.json\n",
      "data/ftu_birds_metadata/item_metadata-cph.3b52391.json\n",
      "data/ftu_birds_metadata/item_metadata-cph.3f05606.json\n",
      "data/ftu_birds_metadata/item_metadata-cph.3g05259.json\n",
      "data/ftu_birds_metadata/item_metadata-det.4a26643.json\n",
      "data/ftu_birds_metadata/item_metadata-ds.04698.json\n",
      "data/ftu_birds_metadata/item_metadata-ds.05086.json\n",
      "data/ftu_birds_metadata/item_metadata-ds.09801.json\n",
      "data/ftu_birds_metadata/item_metadata-ds.10210.json\n",
      "data/ftu_birds_metadata/item_metadata-ds.12960.json\n",
      "data/ftu_birds_metadata/item_metadata-fsa.8b20226.json\n",
      "data/ftu_birds_metadata/item_metadata-fsa.8b22903.json\n",
      "data/ftu_birds_metadata/item_metadata-fsa.8c01083.json\n",
      "data/ftu_birds_metadata/item_metadata-gtfy.01168.json\n",
      "data/ftu_birds_metadata/item_metadata-hec.29933.json\n",
      "data/ftu_birds_metadata/item_metadata-hec.41473.json\n",
      "data/ftu_birds_metadata/item_metadata-hec.42940.json\n",
      "data/ftu_birds_metadata/item_metadata-highsm.14944.json\n",
      "data/ftu_birds_metadata/item_metadata-highsm.14976.json\n",
      "data/ftu_birds_metadata/item_metadata-highsm.33347.json\n",
      "data/ftu_birds_metadata/item_metadata-highsm.54225.json\n",
      "data/ftu_birds_metadata/item_metadata-ihas.100004017.0.json\n",
      "data/ftu_birds_metadata/item_metadata-jpd.02954.json\n",
      "data/ftu_birds_metadata/item_metadata-npcc.29781.json\n",
      "data/ftu_birds_metadata/item_metadata-pga.12062.json\n",
      "data/ftu_birds_metadata/item_metadata-pga.12102.json\n",
      "data/ftu_birds_metadata/item_metadata-pga.12180.json\n",
      "data/ftu_birds_metadata/item_metadata-pga.14162.json\n",
      "data/ftu_birds_metadata/item_metadata-pga.14182.json\n",
      "data/ftu_birds_metadata/item_metadata-ppmsca.15504.json\n",
      "data/ftu_birds_metadata/item_metadata-ppmsca.26467.json\n",
      "data/ftu_birds_metadata/item_metadata-ppmsca.42039.json\n",
      "data/ftu_birds_metadata/item_metadata-ppmsca.44137.json\n",
      "data/ftu_birds_metadata/item_metadata-ppmsca.44290.json\n",
      "data/ftu_birds_metadata/item_metadata-ppmsca.44352.json\n",
      "data/ftu_birds_metadata/item_metadata-ppmsca.44525.json\n",
      "data/ftu_birds_metadata/item_metadata-ppmsca.45460.json\n",
      "data/ftu_birds_metadata/item_metadata-ppmsca.45466.json\n",
      "data/ftu_birds_metadata/item_metadata-ppmsca.69888.json\n",
      "data/ftu_birds_metadata/item_metadata-stereo.1s26898.json\n"
     ]
    }
   ],
   "source": [
    "list_of_item_metadata_files.sort()\n",
    "\n",
    "for file in list_of_item_metadata_files:\n",
    "    print(file)"
   ]
  },
  {
   "cell_type": "code",
   "execution_count": 22,
   "metadata": {},
   "outputs": [
    {
     "name": "stdout",
     "output_type": "stream",
     "text": [
      "file: data/ftu_birds_metadata/item_metadata-acd.2a07586.json \n",
      "\n",
      "_version_ : 1709975316943863808\n",
      "access_restricted : False\n",
      "aka : ['https://www.loc.gov/pictures/item/2016680132/', 'http://www.loc.gov/item/2016680132/', 'http://www.loc.gov/pictures/item/2016680132/', 'https://www.loc.gov/pictures/collection/acd/item/2016680132/', 'http://www.loc.gov/pictures/collection/acd/item/2016680132/', 'http://www.loc.gov/resource/acd.2a07586/', 'http://lccn.loc.gov/2016680132', 'http://hdl.loc.gov/loc.pnp/acd.2a07586']\n",
      "call_number : CD 1 - Conacher, no. 121 (B size)\n",
      "campaigns : []\n",
      "contributor_names : ['Conacher, John C., 1876-1947, artist', 'Life Publishing Company, copyright claimant', 'Life Publishing Company, publisher']\n",
      "contributors : [{'conacher, john c.': 'https://www.loc.gov/search/?fa=contributor:conacher,+john+c.&fo=json'}, {'life publishing company': 'https://www.loc.gov/search/?fa=contributor:life+publishing+company&fo=json'}]\n",
      "control_number : \n",
      "created : 2020-06-24T17:39:34Z\n",
      "created_published : ['c1922.']\n",
      "created_published_date : c1922.\n",
      "date : 1922\n",
      "dates : [{'1922': 'https://www.loc.gov/search/?dates=1922/1922&fo=json'}]\n",
      "description : ['1 drawing.']\n",
      "digital_id : ['acd 2a07586 //hdl.loc.gov/loc.pnp/acd.2a07586']\n",
      "digitized : True\n",
      "display_offsite : True\n",
      "extract_timestamp : 2021-09-01T22:25:54.053Z\n",
      "extract_urls : ['http://www.loc.gov/pictures/collection/acd/item/2016680132/#acd', 'http://lccn.loc.gov/2016680132#catalog']\n",
      "format : [{'photo, print, drawing': 'https://www.loc.gov/search/?fa=original_format:photo,+print,+drawing&fo=json'}]\n",
      "format_headings : ['Cartoons (Commentary)--American.', 'Drawings.', 'Periodical illustrations--American.']\n",
      "genre : ['Cartoons (Commentary)--American', 'Periodical illustrations--American', 'Drawings']\n",
      "group : ['acd', 'catalog', 'cartoon-drawings', 'main-catalog']\n",
      "hassegments : False\n",
      "id : http://www.loc.gov/item/2016680132/\n",
      "image_url : ['https://tile.loc.gov/storage-services/service/pnp/acd/2a07000/2a07500/2a07586t.gif#h=90&w=150', 'https://tile.loc.gov/storage-services/service/pnp/acd/2a07000/2a07500/2a07586r.jpg#h=383&w=640']\n",
      "index : 1\n",
      "item : {'call_number': 'CD 1 - Conacher, no. 121 (B size)', 'contributor_names': ['Life Publishing Company, copyright claimant ', 'Life Publishing Company, publisher '], 'contributors': ['Conacher, John C., 1876-1947, artist.', 'Life Publishing Company, copyright claimant, publisher.'], 'control_number': '2016680132', 'created': '2020-06-24T17:39:34Z', 'created_published': 'c1922.', 'created_published_date': 'c1922.', 'creators': [{'link': 'https://www.loc.gov/pictures/related/?fi=name&q=Conacher%2C%20John%20C.%2C%201876-1947&co=acd', 'role': 'artist', 'title': 'Conacher, John C., 1876-1947'}, {'link': 'https://www.loc.gov/pictures/related/?fi=name&q=Life%20Publishing%20Company&co=acd', 'role': 'copyright claimant', 'title': 'Life Publishing Company'}, {'link': 'https://www.loc.gov/pictures/related/?fi=name&q=Life%20Publishing%20Company&co=acd', 'role': 'publisher', 'title': 'Life Publishing Company'}], 'date': 'c1922.', 'digital_id': ['acd 2a07586 //hdl.loc.gov/loc.pnp/acd.2a07586'], 'display_offsite': True, 'format': ['still image'], 'formats': [{'link': 'https://www.loc.gov/pictures/related/?fi=format&q=Cartoons%20%28Commentary%29--American.&co=acd', 'title': 'Cartoons (Commentary)--American.'}, {'link': 'https://www.loc.gov/pictures/related/?fi=format&q=Drawings.&co=acd', 'title': 'Drawings.'}, {'link': 'https://www.loc.gov/pictures/related/?fi=format&q=Periodical%20illustrations--American.&co=acd', 'title': 'Periodical illustrations--American.'}], 'genre': ['Cartoons (Commentary)--American', 'Periodical illustrations--American', 'Drawings'], 'id': '2016680132', 'language': ['eng'], 'link': 'https://www.loc.gov/pictures/item/2016680132/', 'marc': 'https://www.loc.gov/pictures/item/2016680132/marc/', 'medium': ['1 drawing.'], 'medium_brief': '1 drawing.', 'mediums': ['1 drawing.'], 'modified': '2020-06-24T17:39:34Z', 'notes': ['Title on verso.', '(DLC/PP-1950:R4.121)', 'Published in: Life magazine.', 'This catalog record contains preliminary or unverified data from a project done in BRS software, ca. 1985.', 'mm / 860224.'], 'number_former_id': ['https://www.loc.gov/item/2016680132', 'https://www.loc.gov/item/acd1996002156/PP'], 'other_control_numbers': ['19208067', 'acd1996002156/PP'], 'part_of': 'Cartoon Drawings (Library of Congress)', 'repository': 'Library of Congress Prints and Photographs Division Washington, D.C. 20540 USA http://hdl.loc.gov/loc.pnp/pp.print', 'resource_links': ['//hdl.loc.gov/loc.pnp/acd.2a07586'], 'rights_advisory': 'No known restrictions on publication.', 'rights_information': 'No known restrictions on publication.', 'service_low': 'https://tile.loc.gov/storage-services/service/pnp/acd/2a07000/2a07500/2a07586_150px.jpg', 'service_medium': 'https://tile.loc.gov/storage-services/service/pnp/acd/2a07000/2a07500/2a07586r.jpg', 'sort_date': '1922', 'source_collection': ['Cartoon Drawings (Library of Congress)'], 'source_created': '1997-06-25T00:00:00Z', 'source_modified': '2020-06-03T16:01:37Z', 'subject_headings': ['Bird watching'], 'subjects': ['Bird watching'], 'thumb_gallery': 'https://tile.loc.gov/storage-services/service/pnp/acd/2a07000/2a07500/2a07586_150px.jpg', 'title': 'The bird-lover'}\n",
      "language : ['english']\n",
      "languages : [{'english': 'https://www.loc.gov/search/?fa=language:english&fo=json'}]\n",
      "library_of_congress_control_number : 2016680132\n",
      "link : https://www.loc.gov/pictures/item/2016680132/\n",
      "marc : https://www.loc.gov/pictures/item/2016680132/marc/\n",
      "medium : ['1 drawing.']\n",
      "medium_brief : 1 drawing.\n",
      "mime_type : ['image/gif', 'image/jpg', 'image/tif']\n",
      "modified : 2020-06-24T17:39:34Z\n",
      "notes : ['Title on verso.', '(DLC/PP-1950:R4.121)', 'Published in: Life magazine.', 'This catalog record contains preliminary or unverified data from a project done in BRS software, ca. 1985.', 'mm / 860224.']\n",
      "number : ['2016680132', '2020-06-03t16:01:37', 'sheet', 'http://www.loc.gov/item/2016680132', 'http://www.loc.gov/item/acd1996002156/pp', 'http://www.loc.gov/item/19208067']\n",
      "number_carrier_type : ['sheet']\n",
      "number_former_id : ['http://www.loc.gov/item/19208067', 'http://www.loc.gov/item/acd1996002156/pp', 'http://www.loc.gov/item/2016680132']\n",
      "number_lccn : ['2016680132']\n",
      "number_source_modified : ['2020-06-03t16:01:37']\n",
      "online_format : ['image']\n",
      "original_format : ['photo, print, drawing']\n",
      "other_control_numbers : ['19208067', 'acd1996002156/PP']\n",
      "other_formats : [{'label': 'MARCXML Record', 'link': 'https://lccn.loc.gov/2016680132/marcxml'}, {'label': 'MODS Record', 'link': 'https://lccn.loc.gov/2016680132/mods'}, {'label': 'Dublin Core Record', 'link': 'https://lccn.loc.gov/2016680132/dc'}]\n",
      "other_title : []\n",
      "partof : [{'count': 6187, 'title': 'cartoon drawings', 'url': 'https://www.loc.gov/collections/cartoon-drawings/?fo=json'}, {'count': 1027570, 'title': 'prints and photographs division', 'url': 'https://www.loc.gov/search/?fa=partof:prints+and+photographs+division&fo=json'}, {'count': 1351340, 'title': 'catalog', 'url': 'https://www.loc.gov/search/?fa=partof:catalog&fo=json'}]\n",
      "related : {'neighbors': 'https://www.loc.gov/pictures/related/?&co=acd&pk=2016680132&st=gallery&sb=call_number#focus'}\n",
      "repository : ['Library of Congress Prints and Photographs Division Washington, D.C. 20540 USA http://hdl.loc.gov/loc.pnp/pp.print']\n",
      "reproductions : []\n",
      "resource_links : ['//hdl.loc.gov/loc.pnp/acd.2a07586']\n",
      "resources : [{'caption': 'digital file from intermediary roll film', 'files': 1, 'image': 'http://cdn.loc.govacd_150px.jpg', 'url': 'https://www.loc.gov/resource/acd.2a07586/'}]\n",
      "rights : ['<p>The Library of Congress does not&nbsp;own rights to material  in its collections. Therefore, it does not license or charge permission fees  for use of such material and cannot grant or deny permission to publish or  otherwise distribute the material. </p>\\n<p>Ultimately, it is the researcher\\'s obligation to assess copyright or other use restrictions and  obtain permission from third parties when necessary before publishing or  otherwise distributing materials found in the Library\\'s collections. </p>\\n<p>For information about reproducing,  publishing, and citing material from this collection, as well as access to the  original items, see: <a href=\"//www.loc.gov/rr/print/res/107_cd.html\">Cartoon Drawings - Rights and Restrictions Information</a> </p>\\n \\n']\n",
      "rights_advisory : No known restrictions on publication.\n",
      "rights_information : No known restrictions on publication.\n",
      "score : 8.24828\n",
      "shelf_id : CD 1 - Conacher, no. 121 (B size)\n",
      "site : ['pictures', 'catalog']\n",
      "sort_date : 1922\n",
      "source_collection : Cartoon Drawings (Library of Congress)\n",
      "source_created : 1997-06-25T00:00:00Z\n",
      "source_modified : 2020-06-03T16:01:37Z\n",
      "subject : ['bird watching', 'cartoons (commentary)', 'periodical illustrations', 'american', 'drawings']\n",
      "subject_headings : ['Bird watching']\n",
      "subjects : [{'american': 'https://www.loc.gov/search/?fa=subject:american&fo=json'}, {'bird watching': 'https://www.loc.gov/search/?fa=subject:bird+watching&fo=json'}, {'cartoons (commentary)': 'https://www.loc.gov/search/?fa=subject:cartoons+%28commentary%29&fo=json'}, {'drawings': 'https://www.loc.gov/search/?fa=subject:drawings&fo=json'}, {'periodical illustrations': 'https://www.loc.gov/search/?fa=subject:periodical+illustrations&fo=json'}]\n",
      "thumb_gallery : https://tile.loc.gov/storage-services/service/pnp/acd/2a07000/2a07500/2a07586_150px.jpg\n",
      "timestamp : 2021-09-04T12:45:38.422Z\n",
      "title : The bird-lover\n",
      "type : ['photo, print, drawing']\n",
      "unrestricted : True\n",
      "url : https://www.loc.gov/item/2016680132/\n"
     ]
    }
   ],
   "source": [
    "# try first with one file, can you open the json, can you see what elements are in the json?\n",
    "with open(list_of_item_metadata_files[0], 'r', encoding='utf-8') as item:\n",
    "    # what are we looking at?\n",
    "    print('file:',list_of_item_metadata_files[0],'\\n')\n",
    "    \n",
    "    # load the item data\n",
    "    item_data = json.load(item)\n",
    "    \n",
    "    for element in item_data.keys():\n",
    "        print(element,':',item_data[element])"
   ]
  },
  {
   "cell_type": "code",
   "execution_count": 23,
   "metadata": {},
   "outputs": [
    {
     "data": {
      "text/plain": [
       "dict_keys(['_version_', 'access_restricted', 'aka', 'call_number', 'campaigns', 'contributor_names', 'contributors', 'control_number', 'created', 'created_published', 'created_published_date', 'date', 'dates', 'description', 'digital_id', 'digitized', 'display_offsite', 'extract_timestamp', 'extract_urls', 'format', 'format_headings', 'genre', 'group', 'hassegments', 'id', 'image_url', 'index', 'item', 'language', 'languages', 'library_of_congress_control_number', 'link', 'marc', 'medium', 'medium_brief', 'mime_type', 'modified', 'notes', 'number', 'number_carrier_type', 'number_former_id', 'number_lccn', 'number_source_modified', 'online_format', 'original_format', 'other_control_numbers', 'other_formats', 'other_title', 'partof', 'related', 'repository', 'reproductions', 'resource_links', 'resources', 'rights', 'rights_advisory', 'rights_information', 'score', 'shelf_id', 'site', 'sort_date', 'source_collection', 'source_created', 'source_modified', 'subject', 'subject_headings', 'subjects', 'thumb_gallery', 'timestamp', 'title', 'type', 'unrestricted', 'url'])"
      ]
     },
     "execution_count": 23,
     "metadata": {},
     "output_type": "execute_result"
    }
   ],
   "source": [
    "item_data.keys()"
   ]
  },
  {
   "cell_type": "code",
   "execution_count": 24,
   "metadata": {},
   "outputs": [
    {
     "name": "stdout",
     "output_type": "stream",
     "text": [
      "\n",
      "date: 1922 <class 'str'>\n"
     ]
    }
   ],
   "source": [
    "print('\\ndate:',item_data['date'], type(item_data['date']))\n"
   ]
  },
  {
   "cell_type": "code",
   "execution_count": 25,
   "metadata": {},
   "outputs": [
    {
     "name": "stdout",
     "output_type": "stream",
     "text": [
      "\n",
      "format: {'photo, print, drawing': 'https://www.loc.gov/search/?fa=original_format:photo,+print,+drawing&fo=json'} <class 'list'>\n"
     ]
    }
   ],
   "source": [
    "print('\\nformat:',item_data['format'][0], type(item_data['format']))"
   ]
  },
  {
   "cell_type": "markdown",
   "metadata": {},
   "source": [
    "TEST: TRY IT WITH ONE EXAMPLE "
   ]
  },
  {
   "cell_type": "code",
   "execution_count": 26,
   "metadata": {},
   "outputs": [
    {
     "name": "stdout",
     "output_type": "stream",
     "text": [
      "created row dictionary: {'source_file': 'data/ftu_birds_metadata/item_metadata-stereo.1s26898.json', 'item_id': '2016680132', 'title': 'The bird-lover', 'date': '1922', 'source_url': 'https://www.loc.gov/item/2016680132/', 'phys_format': {'photo, print, drawing': 'https://www.loc.gov/search/?fa=original_format:photo,+print,+drawing&fo=json'}, 'subjects': {'american': 'https://www.loc.gov/search/?fa=subject:american&fo=json'}, 'rights': 'No known restrictions on publication.'}\n",
      "wrote collection_items_data.csv\n"
     ]
    }
   ],
   "source": [
    "collection_info_csv = 'collection_items_data.csv'\n",
    "\n",
    "headers = ['source_file', 'item_id', 'title', 'date', 'source_url', 'phys_format', 'subjects', 'rights'\n",
    "]\n",
    "\n",
    "with open(list_of_item_metadata_files[0], 'r', encoding='utf-8') as data:\n",
    "    item_data = json.load(data)\n",
    "\n",
    "    source_file = str(file)\n",
    "    try:\n",
    "        item_id = item_data['library_of_congress_control_number']\n",
    "    except:\n",
    "        item_id = item_data['url'].split('/')[-2]\n",
    "    title = item_data['title']\n",
    "    date = item_data['date']\n",
    "    source_url = item_data['url']\n",
    "    try:\n",
    "        phys_format = item_data['format'][0]\n",
    "    except:\n",
    "        phys_format = 'Not found'\n",
    "    try:\n",
    "        subjects = item_data['subjects'][0]\n",
    "    except:\n",
    "        subjects = 'Not found'\n",
    "    mime_type = item_data['mime_type']\n",
    "    try:\n",
    "        rights = item_data['rights_information']\n",
    "    except:\n",
    "        rights = 'Undetermined'\n",
    "    \n",
    "    \n",
    "    row_dict = dict()\n",
    "    # look for the item metadata, assign it to the dictionary; \n",
    "    # start with some basic elements likely (already enumerated in the headers list) :\n",
    "    # source file\n",
    "    row_dict['source_file'] = source_file\n",
    "    # identifier\n",
    "    row_dict['item_id'] = item_id\n",
    "    # title\n",
    "    row_dict['title'] = title\n",
    "    # date\n",
    "    row_dict['date'] = date\n",
    "    # link\n",
    "    row_dict['source_url'] = source_url\n",
    "    # format\n",
    "    row_dict['phys_format'] = phys_format\n",
    "    # digital format\n",
    "    row_dict['subjects'] = subjects\n",
    "    #rights\n",
    "    row_dict['rights'] = rights\n",
    "    print('created row dictionary:',row_dict)\n",
    "\n",
    "    # write to the csv\n",
    "    with open(collection_info_csv, 'w', encoding='utf-8') as fout:\n",
    "        writer = csv.DictWriter(fout, fieldnames=headers)\n",
    "        writer.writeheader()\n",
    "        writer.writerow(row_dict)\n",
    "        print('wrote',collection_info_csv)"
   ]
  },
  {
   "cell_type": "markdown",
   "metadata": {},
   "source": [
    "Developing the structure of the CSV file \n",
    "\n",
    "Find a direct url to a good image file for the item. "
   ]
  },
  {
   "cell_type": "markdown",
   "metadata": {},
   "source": [
    "HEADERS!"
   ]
  },
  {
   "cell_type": "code",
   "execution_count": 28,
   "metadata": {},
   "outputs": [
    {
     "ename": "IndexError",
     "evalue": "list index out of range",
     "output_type": "error",
     "traceback": [
      "\u001b[0;31m---------------------------------------------------------------------------\u001b[0m",
      "\u001b[0;31mIndexError\u001b[0m                                Traceback (most recent call last)",
      "Cell \u001b[0;32mIn [28], line 10\u001b[0m\n\u001b[1;32m      7\u001b[0m \u001b[39mwith\u001b[39;00m \u001b[39mopen\u001b[39m(list_of_item_metadata_files[\u001b[39m0\u001b[39m], \u001b[39m'\u001b[39m\u001b[39mr\u001b[39m\u001b[39m'\u001b[39m, encoding\u001b[39m=\u001b[39m\u001b[39m'\u001b[39m\u001b[39mutf-8\u001b[39m\u001b[39m'\u001b[39m) \u001b[39mas\u001b[39;00m data:\n\u001b[1;32m      8\u001b[0m     \u001b[39m# load the item data\u001b[39;00m\n\u001b[1;32m      9\u001b[0m     item_data \u001b[39m=\u001b[39m json\u001b[39m.\u001b[39mload(data)\n\u001b[0;32m---> 10\u001b[0m     \u001b[39mprint\u001b[39m(item_data[\u001b[39m'\u001b[39;49m\u001b[39mimage_url\u001b[39;49m\u001b[39m'\u001b[39;49m][\u001b[39m3\u001b[39;49m])\n",
      "\u001b[0;31mIndexError\u001b[0m: list index out of range"
     ]
    }
   ],
   "source": [
    "# collection_info_csv = 'collection_items_data.csv'\n",
    "\n",
    "# # set up a list for the columns in your csv; in future, this should be more automated but this works for now as you set up the crosswalk\n",
    "# headers = ['source_file', 'item_id', 'title', 'date', 'source_url', 'phys_format', 'subjects', 'rights']\n",
    "\n",
    "# # try first with one file\n",
    "# with open(list_of_item_metadata_files[0], 'r', encoding='utf-8') as data:\n",
    "#     # load the item data\n",
    "#     item_data = json.load(data)\n",
    "#     print(item_data['image_url'][3])"
   ]
  },
  {
   "cell_type": "markdown",
   "metadata": {},
   "source": [
    "Transformation Part 2"
   ]
  },
  {
   "cell_type": "code",
   "execution_count": 29,
   "metadata": {},
   "outputs": [],
   "source": [
    "items_data_file = os.path.join(data_directory, 'collection_items_data.csv')\n",
    "\n",
    "if os.path.isfile(items_data_file):\n",
    "    os.unlink(items_data_file)\n",
    "    print('removed',items_data_file)\n",
    "\n",
    "# clear row_dict\n",
    "row_dict = ()"
   ]
  },
  {
   "cell_type": "code",
   "execution_count": 30,
   "metadata": {},
   "outputs": [
    {
     "name": "stdout",
     "output_type": "stream",
     "text": [
      "2022-12-13\n"
     ]
    }
   ],
   "source": [
    "from datetime import date\n",
    "\n",
    "date_string_for_today = date.today().strftime('%Y-%m-%d') # see https://docs.python.org/3/library/datetime.html#strftime-strptime-behavior\n",
    "\n",
    "print(date_string_for_today)"
   ]
  },
  {
   "cell_type": "code",
   "execution_count": 31,
   "metadata": {},
   "outputs": [
    {
     "name": "stdout",
     "output_type": "stream",
     "text": [
      "opening data/ftu_birds_metadata/item_metadata-acd.2a07586.json\n",
      "adding 2016680132\n",
      "opening data/ftu_birds_metadata/item_metadata-acd.2a09222.json\n",
      "adding 2016681950\n",
      "opening data/ftu_birds_metadata/item_metadata-agc.7a00162.json\n",
      "adding 2018707354\n",
      "opening data/ftu_birds_metadata/item_metadata-cai.2a14845.json\n",
      "adding 2010718076\n",
      "opening data/ftu_birds_metadata/item_metadata-cph.3a49143.json\n",
      "adding 2006685856\n",
      "opening data/ftu_birds_metadata/item_metadata-cph.3b52227.json\n",
      "adding 2002718914\n",
      "opening data/ftu_birds_metadata/item_metadata-cph.3b52232.json\n",
      "adding 2002718919\n",
      "opening data/ftu_birds_metadata/item_metadata-cph.3b52381.json\n",
      "adding 2002718985\n",
      "opening data/ftu_birds_metadata/item_metadata-cph.3b52385.json\n",
      "adding 2002718989\n",
      "opening data/ftu_birds_metadata/item_metadata-cph.3b52391.json\n",
      "adding 2002718964\n",
      "opening data/ftu_birds_metadata/item_metadata-cph.3f05606.json\n",
      "adding 98518441\n",
      "opening data/ftu_birds_metadata/item_metadata-cph.3g05259.json\n",
      "adding 97515217\n",
      "opening data/ftu_birds_metadata/item_metadata-det.4a26643.json\n",
      "adding 2016817484\n",
      "opening data/ftu_birds_metadata/item_metadata-ds.04698.json\n",
      "adding 91729533\n",
      "opening data/ftu_birds_metadata/item_metadata-ds.05086.json\n",
      "adding 2014645364\n",
      "opening data/ftu_birds_metadata/item_metadata-ds.09801.json\n",
      "adding 2016651603\n",
      "opening data/ftu_birds_metadata/item_metadata-ds.10210.json\n",
      "adding 2017646181\n",
      "opening data/ftu_birds_metadata/item_metadata-ds.12960.json\n",
      "adding 2018663013\n",
      "opening data/ftu_birds_metadata/item_metadata-fsa.8b20226.json\n",
      "adding 2017781112\n",
      "opening data/ftu_birds_metadata/item_metadata-fsa.8b22903.json\n",
      "adding 2017784345\n",
      "opening data/ftu_birds_metadata/item_metadata-fsa.8c01083.json\n",
      "adding 2017789218\n",
      "opening data/ftu_birds_metadata/item_metadata-gtfy.01168.json\n",
      "adding 2020730709\n",
      "opening data/ftu_birds_metadata/item_metadata-hec.29933.json\n",
      "adding 2016884882\n",
      "opening data/ftu_birds_metadata/item_metadata-hec.41473.json\n",
      "adding 2016890719\n",
      "opening data/ftu_birds_metadata/item_metadata-hec.42940.json\n",
      "adding 2016892186\n",
      "opening data/ftu_birds_metadata/item_metadata-highsm.14944.json\n",
      "adding 2011633137\n",
      "opening data/ftu_birds_metadata/item_metadata-highsm.14976.json\n",
      "adding 2011633169\n",
      "opening data/ftu_birds_metadata/item_metadata-highsm.33347.json\n",
      "adding 2015633362\n",
      "opening data/ftu_birds_metadata/item_metadata-highsm.54225.json\n",
      "adding 2018702261\n",
      "opening data/ftu_birds_metadata/item_metadata-ihas.100004017.0.json\n",
      "adding ihas.100004017\n",
      "opening data/ftu_birds_metadata/item_metadata-jpd.02954.json\n",
      "adding 2009631893\n",
      "opening data/ftu_birds_metadata/item_metadata-npcc.29781.json\n",
      "adding 2016852380\n",
      "opening data/ftu_birds_metadata/item_metadata-pga.12062.json\n",
      "adding 2017660743\n",
      "opening data/ftu_birds_metadata/item_metadata-pga.12102.json\n",
      "adding 2017650211\n",
      "opening data/ftu_birds_metadata/item_metadata-pga.12180.json\n",
      "adding 2017650314\n",
      "opening data/ftu_birds_metadata/item_metadata-pga.14162.json\n",
      "adding 2016652316\n",
      "opening data/ftu_birds_metadata/item_metadata-pga.14182.json\n",
      "adding 2016652336\n",
      "opening data/ftu_birds_metadata/item_metadata-ppmsca.15504.json\n",
      "adding 2007683250\n",
      "opening data/ftu_birds_metadata/item_metadata-ppmsca.26467.json\n",
      "adding 2010648443\n",
      "opening data/ftu_birds_metadata/item_metadata-ppmsca.42039.json\n",
      "adding 2014646798\n",
      "opening data/ftu_birds_metadata/item_metadata-ppmsca.44137.json\n",
      "adding 2018694800\n",
      "opening data/ftu_birds_metadata/item_metadata-ppmsca.44290.json\n",
      "adding 2018694942\n",
      "opening data/ftu_birds_metadata/item_metadata-ppmsca.44352.json\n",
      "adding 2018695004\n",
      "opening data/ftu_birds_metadata/item_metadata-ppmsca.44525.json\n",
      "adding 2018695175\n",
      "opening data/ftu_birds_metadata/item_metadata-ppmsca.45460.json\n",
      "adding 2018696087\n",
      "opening data/ftu_birds_metadata/item_metadata-ppmsca.45466.json\n",
      "adding 2018696093\n",
      "opening data/ftu_birds_metadata/item_metadata-ppmsca.69888.json\n",
      "adding 2020636143\n",
      "opening data/ftu_birds_metadata/item_metadata-stereo.1s26898.json\n",
      "adding 2020681639\n",
      "\n",
      "\n",
      "--- LOG ---\n",
      "wrote data/collection_items_data.csv\n",
      "with 48 items\n",
      "0 errors (info not written)\n"
     ]
    }
   ],
   "source": [
    "collection_info_csv = os.path.join('data','collection_items_data.csv')\n",
    "file_count = 0\n",
    "items_written = 0\n",
    "error_count = 0\n",
    "\n",
    "headers = ['item_type', 'date_uploaded', 'source_file', 'item_id', 'title', 'date', 'source_url', 'phys_format', 'subjects', 'rights', \"image_url\" ]\n",
    "\n",
    "for file in list_of_item_metadata_files:\n",
    "    file_count += 1\n",
    "    print('opening',file)\n",
    "    with open(file, 'r', encoding='utf-8') as item:\n",
    "        # load the item data\n",
    "        try:\n",
    "            item_data = json.load(item)\n",
    "        except:\n",
    "            print('error loading',file)\n",
    "            error_count += 1\n",
    "            continue\n",
    "\n",
    "        # extract/name the data you want\n",
    "        # item type\n",
    "        item_type = 'Item'\n",
    "        # date uplaoded\n",
    "        date_uploaded = date_string_for_today\n",
    "        # for checking purposes, add in the source of the info\n",
    "        source_file = str(file)\n",
    "        # make sure there's some unique and stable identifier\n",
    "        try:\n",
    "            item_id = item_data['library_of_congress_control_number']\n",
    "        except:\n",
    "            item_id = item_data['url'].split('/')[-2]\n",
    "        title = item_data['title']\n",
    "        try:\n",
    "            date = item_data['date']\n",
    "        except:\n",
    "            date = 'n.d.'\n",
    "        source_url = item_data['url']\n",
    "        try:\n",
    "            phys_format = item_data['format'][0]\n",
    "        except:\n",
    "            phys_format = 'Not found'\n",
    "        try:\n",
    "            subjects = item_data['subjects'][0]\n",
    "        except:\n",
    "            subjects = 'Not found'\n",
    "        try:\n",
    "            rights = item_data['rights_information']\n",
    "        except:\n",
    "            rights = 'Undetermined'\n",
    "        try:\n",
    "            image_url = item_data['image_url'][0]\n",
    "        except:\n",
    "            image_url = 'Not Found'\n",
    "\n",
    "         # dictionary for the rows\n",
    "        row_dict = dict()\n",
    "\n",
    "        # look for the item metadata, assign it to the dictionary;\n",
    "        # start with some basic elements likely (already enumerated in the headers list) :\n",
    "        # item type\n",
    "        row_dict['item_type'] = item_type\n",
    "        # date uploaded\n",
    "        row_dict['date_uploaded'] = date_uploaded\n",
    "        # source filename\n",
    "        row_dict['source_file'] = source_file\n",
    "        # identifier\n",
    "        row_dict['item_id'] = item_id\n",
    "        # title\n",
    "        row_dict['title'] = title\n",
    "        # date\n",
    "        row_dict['date'] = date\n",
    "        # link\n",
    "        row_dict['source_url'] = source_url\n",
    "        # format\n",
    "        row_dict['phys_format'] = phys_format\n",
    "        # digital format\n",
    "        row_dict['subjects'] = subjects\n",
    "        #rights\n",
    "        row_dict['rights'] = rights\n",
    "        #image\n",
    "        row_dict['image_url'] = image_url\n",
    "\n",
    "\n",
    "        # write to the csv\n",
    "        with open(collection_info_csv, 'a', encoding='utf-8') as fout:\n",
    "            writer = csv.DictWriter(fout, fieldnames=headers)\n",
    "            if items_written == 0:\n",
    "                writer.writeheader()\n",
    "            writer.writerow(row_dict)\n",
    "            items_written += 1\n",
    "            print('adding',item_id)\n",
    "\n",
    "print('\\n\\n--- LOG ---')\n",
    "print('wrote',collection_info_csv)\n",
    "print('with',items_written,'items')\n",
    "print(error_count,'errors (info not written)')\n"
   ]
  },
  {
   "cell_type": "markdown",
   "metadata": {},
   "source": []
  }
 ],
 "metadata": {
  "kernelspec": {
   "display_name": "Python 3.9.6 64-bit",
   "language": "python",
   "name": "python3"
  },
  "language_info": {
   "codemirror_mode": {
    "name": "ipython",
    "version": 3
   },
   "file_extension": ".py",
   "mimetype": "text/x-python",
   "name": "python",
   "nbconvert_exporter": "python",
   "pygments_lexer": "ipython3",
   "version": "3.9.6"
  },
  "orig_nbformat": 4,
  "vscode": {
   "interpreter": {
    "hash": "aee8b7b246df8f9039afb4144a1f6fd8d2ca17a180786b69acc140d282b71a49"
   }
  }
 },
 "nbformat": 4,
 "nbformat_minor": 2
}
