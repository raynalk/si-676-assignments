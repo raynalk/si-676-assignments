{
 "cells": [
  {
   "cell_type": "code",
   "execution_count": 57,
   "metadata": {},
   "outputs": [],
   "source": [
    "from bs4 import BeautifulSoup\n"
   ]
  },
  {
   "cell_type": "code",
   "execution_count": 59,
   "metadata": {},
   "outputs": [],
   "source": [
    "from lxml import etree"
   ]
  },
  {
   "cell_type": "code",
   "execution_count": 60,
   "metadata": {},
   "outputs": [
    {
     "name": "stdout",
     "output_type": "stream",
     "text": [
      "running with lxml\n"
     ]
    }
   ],
   "source": [
    "try:\n",
    "\tfrom lxml import etree\n",
    "\tprint(\"running with lxml\")\n",
    "except:\n",
    "\tprint(\"no lxml\")\n"
   ]
  },
  {
   "cell_type": "code",
   "execution_count": 61,
   "metadata": {},
   "outputs": [],
   "source": [
    "import os.path\n",
    "import re"
   ]
  },
  {
   "cell_type": "markdown",
   "metadata": {},
   "source": [
    "Import and Parse the XML: '2018_lcswa_MODS_5.xml"
   ]
  },
  {
   "cell_type": "code",
   "execution_count": 8,
   "metadata": {},
   "outputs": [
    {
     "name": "stdout",
     "output_type": "stream",
     "text": [
      "<Element modsCollection at 0x7fcfe8d60bc0>\n"
     ]
    }
   ],
   "source": [
    "from lxml import etree\n",
    "from bs4 import BeautifulSoup\n",
    "import os.path\n",
    "import re\n",
    "\n",
    "# networked-services-labs/data/xml/2018_lcwa_MODS_5.xml\n",
    "# networked-services-labs/data/xml/2018_lcwa_MODS_5.xml\n",
    "# /Users/raynaketchum/Documents/umich/SI676/networked-services-labs/data/xml/2018_lcwa_MODS_25.xml\n",
    "\n",
    "rlk_filepath = os.path.join('/Users','raynaketchum','Documents','umich','SI676')\n",
    "MODS_5_collection = os.path.join(rlk_filepath, 'networked-services-labs','data','xml','2018_lcwa_MODS_5.xml') #relative, must be in the same folder Full path = /Users/raynaketchum/Documents/umich/SI676/networked-services-labs/data/xml/2018_lcwa_MODS_5.xml\n",
    "xml_collection = etree.parse(MODS_5_collection)\n",
    "mods = xml_collection.getroot()\n",
    "\n",
    "print(mods)"
   ]
  },
  {
   "cell_type": "code",
   "execution_count": 52,
   "metadata": {},
   "outputs": [
    {
     "name": "stdout",
     "output_type": "stream",
     "text": [
      "{http://www.loc.gov/mods/v3}mods\n",
      "{http://www.loc.gov/mods/v3}mods\n",
      "{http://www.loc.gov/mods/v3}mods\n",
      "{http://www.loc.gov/mods/v3}mods\n",
      "{http://www.loc.gov/mods/v3}mods\n"
     ]
    }
   ],
   "source": [
    "for element in mods: \n",
    "        print(element.tag)\n",
    "        "
   ]
  },
  {
   "cell_type": "markdown",
   "metadata": {},
   "source": [
    "Now, import using Beautiful Soup"
   ]
  },
  {
   "cell_type": "code",
   "execution_count": 53,
   "metadata": {},
   "outputs": [
    {
     "name": "stdout",
     "output_type": "stream",
     "text": [
      "\n",
      "lcwaN001023485999109353Slate Magazineengelectronictext/htmlborn digitalgeneraltextweb siteUnited StatesGeneral News on the Internet Web ArchiveSerial and Government Publications Divisionhttp://www.sl\n"
     ]
    }
   ],
   "source": [
    "soup_file = open(MODS_5_collection)\n",
    "\n",
    "soup = BeautifulSoup(soup_file, features='xml') #features='xml' required \n",
    "\n",
    "print(soup.text[:200])\n",
    "\n"
   ]
  },
  {
   "cell_type": "markdown",
   "metadata": {},
   "source": [
    "Beautiful Soup is better for pulling out CONTENT. Does not show tag names or attributes, just content\n",
    "\n",
    "etree shows the tags because they are seen as data \n",
    "\n"
   ]
  },
  {
   "cell_type": "code",
   "execution_count": 54,
   "metadata": {},
   "outputs": [
    {
     "name": "stdout",
     "output_type": "stream",
     "text": [
      "title Slate Magazine\n",
      "title General News on the Internet Web Archive\n",
      "title Serial and Government Publications Division\n",
      "title Raw Story\n",
      "title General News on the Internet Web Archive\n",
      "title Serial and Government Publications Division\n",
      "title Huffington Post\n",
      "title General News on the Internet Web Archive\n",
      "title Serial and Government Publications Division\n",
      "title BuzzFeed\n",
      "title General News on the Internet Web Archive\n",
      "title Serial and Government Publications Division\n",
      "title Drudge Report\n",
      "title General News on the Internet Web Archive\n",
      "title Serial and Government Publications Division\n"
     ]
    }
   ],
   "source": [
    "for tag in soup.find_all('title'):\n",
    "    print(tag.name, tag.text)\n"
   ]
  },
  {
   "cell_type": "code",
   "execution_count": 55,
   "metadata": {},
   "outputs": [
    {
     "name": "stdout",
     "output_type": "stream",
     "text": [
      "modsCollection\n",
      "mods\n",
      "identifier\n",
      "identifier\n",
      "identifier\n",
      "titleInfo\n",
      "title\n",
      "language\n",
      "languageTerm\n",
      "physicalDescription\n",
      "form\n",
      "internetMediaType\n",
      "digitalOrigin\n",
      "targetAudience\n",
      "typeOfResource\n",
      "genre\n",
      "originInfo\n",
      "place\n",
      "placeTerm\n",
      "abstract\n"
     ]
    }
   ],
   "source": [
    "#what are the tags that are in this tree \n",
    "\n",
    "for tag in soup.find_all(True, limit=20):\n",
    "    print(tag.name)"
   ]
  },
  {
   "cell_type": "code",
   "execution_count": 56,
   "metadata": {},
   "outputs": [
    {
     "name": "stdout",
     "output_type": "stream",
     "text": [
      "mods {'version': '3.4', 'xsi:schemaLocation': 'http://www.loc.gov/mods/v3 http://www.loc.gov/standards/mods/v3/mods-3-4.xsd', 'xmlns': 'http://www.loc.gov/mods/v3', 'xmlns:xlink': 'http://www.w3.org/1999/xlink', 'xmlns:xsi': 'http://www.w3.org/2001/XMLSchema-instance'}\n",
      "mods {'version': '3.4', 'xsi:schemaLocation': 'http://www.loc.gov/mods/v3 http://www.loc.gov/standards/mods/v3/mods-3-4.xsd', 'xmlns': 'http://www.loc.gov/mods/v3', 'xmlns:xlink': 'http://www.w3.org/1999/xlink', 'xmlns:xsi': 'http://www.w3.org/2001/XMLSchema-instance'}\n",
      "mods {'version': '3.4', 'xsi:schemaLocation': 'http://www.loc.gov/mods/v3 http://www.loc.gov/standards/mods/v3/mods-3-4.xsd', 'xmlns': 'http://www.loc.gov/mods/v3', 'xmlns:xlink': 'http://www.w3.org/1999/xlink', 'xmlns:xsi': 'http://www.w3.org/2001/XMLSchema-instance'}\n",
      "mods {'version': '3.4', 'xsi:schemaLocation': 'http://www.loc.gov/mods/v3 http://www.loc.gov/standards/mods/v3/mods-3-4.xsd', 'xmlns': 'http://www.loc.gov/mods/v3', 'xmlns:xlink': 'http://www.w3.org/1999/xlink', 'xmlns:xsi': 'http://www.w3.org/2001/XMLSchema-instance'}\n",
      "mods {'version': '3.4', 'xsi:schemaLocation': 'http://www.loc.gov/mods/v3 http://www.loc.gov/standards/mods/v3/mods-3-4.xsd', 'xmlns': 'http://www.loc.gov/mods/v3', 'xmlns:xlink': 'http://www.w3.org/1999/xlink', 'xmlns:xsi': 'http://www.w3.org/2001/XMLSchema-instance'}\n"
     ]
    }
   ],
   "source": [
    "#to look at attributes \n",
    "\n",
    "for tag in soup.find_all('mods'):\n",
    "    print(tag.name, tag.attrs)"
   ]
  },
  {
   "cell_type": "code",
   "execution_count": 45,
   "metadata": {},
   "outputs": [],
   "source": [
    "soup_file.close()\n"
   ]
  },
  {
   "cell_type": "markdown",
   "metadata": {},
   "source": [
    "Namespaces Review : lxml and ET\n",
    "\n",
    "[Beautiful Soup is not as sensitive to NameSpaces; in contrast lxml and etree are]\n",
    "\n",
    "1. When parsing the tree, use a dictionary to handle namespaces. Each dict element is: key = namespace prefix; value =  namespace URI\n",
    "\n",
    "1. When writing XML: ET.namespace_declaration('prefix', 'URI') # note fuctions takes 2 arguments \n"
   ]
  },
  {
   "cell_type": "code",
   "execution_count": 46,
   "metadata": {},
   "outputs": [],
   "source": [
    "#setting up a dict \n",
    "ns = {\n",
    "    'mods':'http://www.loc.gov/mods/v3'\n",
    "}"
   ]
  },
  {
   "cell_type": "code",
   "execution_count": 34,
   "metadata": {},
   "outputs": [
    {
     "name": "stdout",
     "output_type": "stream",
     "text": [
      "{http://www.loc.gov/mods/v3}mods {'version': '3.4', '{http://www.w3.org/2001/XMLSchema-instance}schemaLocation': 'http://www.loc.gov/mods/v3 http://www.loc.gov/standards/mods/v3/mods-3-4.xsd'}\n",
      "{http://www.loc.gov/mods/v3}mods {'version': '3.4', '{http://www.w3.org/2001/XMLSchema-instance}schemaLocation': 'http://www.loc.gov/mods/v3 http://www.loc.gov/standards/mods/v3/mods-3-4.xsd'}\n",
      "{http://www.loc.gov/mods/v3}mods {'version': '3.4', '{http://www.w3.org/2001/XMLSchema-instance}schemaLocation': 'http://www.loc.gov/mods/v3 http://www.loc.gov/standards/mods/v3/mods-3-4.xsd'}\n",
      "{http://www.loc.gov/mods/v3}mods {'version': '3.4', '{http://www.w3.org/2001/XMLSchema-instance}schemaLocation': 'http://www.loc.gov/mods/v3 http://www.loc.gov/standards/mods/v3/mods-3-4.xsd'}\n",
      "{http://www.loc.gov/mods/v3}mods {'version': '3.4', '{http://www.w3.org/2001/XMLSchema-instance}schemaLocation': 'http://www.loc.gov/mods/v3 http://www.loc.gov/standards/mods/v3/mods-3-4.xsd'}\n",
      "5\n"
     ]
    }
   ],
   "source": []
  },
  {
   "cell_type": "code",
   "execution_count": null,
   "metadata": {},
   "outputs": [],
   "source": [
    "# xml_collection =  etree.parse(MODS_5_collection)\n",
    "# mods = xml_collection.getroot()\n",
    "\n",
    "# count = 0\n",
    "\n",
    "# for mods in mods.findall('mods:mods', namespaces=ns):\n",
    "#     count += 1\n",
    "#     print(mods.tag, mods.attrib)\n",
    "# print(count)\n",
    "\n",
    "#Note that when working with \"the tree\" it is changed as you go along, or the view of it changes, so you may need to go back a few steps and refresh the program. \n",
    "#above block is tagged out so the coding in next cell works.\n"
   ]
  },
  {
   "cell_type": "code",
   "execution_count": 63,
   "metadata": {},
   "outputs": [
    {
     "name": "stdout",
     "output_type": "stream",
     "text": [
      "{http://www.loc.gov/mods/v3}identifier lcwaN0010234 {}\n",
      "{http://www.loc.gov/mods/v3}identifier 85999 {'invalid': 'yes', 'type': 'database id'}\n",
      "{http://www.loc.gov/mods/v3}identifier 109353 {'invalid': 'yes', 'type': 'database id'}\n",
      "{http://www.loc.gov/mods/v3}identifier http://www.slate.com/ {'displayLabel': 'Access URL', 'type': 'uri'}\n",
      "{http://www.loc.gov/mods/v3}identifier 15046 {'type': 'database id'}\n",
      "{http://www.loc.gov/mods/v3}identifier lcwaN0001999 {}\n",
      "{http://www.loc.gov/mods/v3}identifier 91224 {'invalid': 'yes', 'type': 'database id'}\n",
      "{http://www.loc.gov/mods/v3}identifier 109272 {'invalid': 'yes', 'type': 'database id'}\n",
      "{http://www.loc.gov/mods/v3}identifier http://rawstory.com/ {'displayLabel': 'Access URL', 'type': 'uri'}\n",
      "{http://www.loc.gov/mods/v3}identifier 2771 {'type': 'database id'}\n",
      "{http://www.loc.gov/mods/v3}identifier lcwaN0003238 {}\n",
      "{http://www.loc.gov/mods/v3}identifier 91275 {'invalid': 'yes', 'type': 'database id'}\n",
      "{http://www.loc.gov/mods/v3}identifier 109273 {'invalid': 'yes', 'type': 'database id'}\n",
      "{http://www.loc.gov/mods/v3}identifier 96782 {'invalid': 'yes', 'type': 'database id'}\n",
      "{http://www.loc.gov/mods/v3}identifier http://www.huffingtonpost.com/ {'displayLabel': 'Access URL', 'type': 'uri'}\n",
      "{http://www.loc.gov/mods/v3}identifier 4619 {'type': 'database id'}\n",
      "{http://www.loc.gov/mods/v3}identifier lcwaN0010144 {}\n",
      "{http://www.loc.gov/mods/v3}identifier nan {'invalid': 'yes', 'type': 'database id'}\n",
      "{http://www.loc.gov/mods/v3}identifier https://medium.com/buzzfeed-collections {'displayLabel': 'Access URL', 'type': 'uri'}\n",
      "{http://www.loc.gov/mods/v3}identifier 24463 {'type': 'database id'}\n",
      "{http://www.loc.gov/mods/v3}identifier http://www.buzzfeed.com/ {'displayLabel': 'Access URL', 'type': 'uri'}\n",
      "{http://www.loc.gov/mods/v3}identifier 14906 {'type': 'database id'}\n",
      "{http://www.loc.gov/mods/v3}identifier lcwaN0010145 {}\n",
      "{http://www.loc.gov/mods/v3}identifier 82949 {'invalid': 'yes', 'type': 'database id'}\n",
      "{http://www.loc.gov/mods/v3}identifier 109227 {'invalid': 'yes', 'type': 'database id'}\n",
      "{http://www.loc.gov/mods/v3}identifier http://www.drudgereport.com/ {'displayLabel': 'Access URL', 'type': 'uri'}\n",
      "{http://www.loc.gov/mods/v3}identifier 14951 {'type': 'database id'}\n"
     ]
    }
   ],
   "source": [
    "xml_collection =  etree.parse(MODS_5_collection)\n",
    "\n",
    "mods = xml_collection.getroot()\n",
    "  #xpath expression: .//\n",
    "for identifier in mods.findall('.//mods:identifier', namespaces=ns): \n",
    "    element =  identifier \n",
    "    print(element.tag, element.text, element.attrib)\n",
    "  "
   ]
  },
  {
   "cell_type": "code",
   "execution_count": 65,
   "metadata": {},
   "outputs": [
    {
     "name": "stdout",
     "output_type": "stream",
     "text": [
      "{http://www.loc.gov/mods/v3}identifier http://www.slate.com/ {'displayLabel': 'Access URL', 'type': 'uri'}\n",
      "{http://www.loc.gov/mods/v3}identifier http://rawstory.com/ {'displayLabel': 'Access URL', 'type': 'uri'}\n",
      "{http://www.loc.gov/mods/v3}identifier http://www.huffingtonpost.com/ {'displayLabel': 'Access URL', 'type': 'uri'}\n",
      "{http://www.loc.gov/mods/v3}identifier https://medium.com/buzzfeed-collections {'displayLabel': 'Access URL', 'type': 'uri'}\n",
      "{http://www.loc.gov/mods/v3}identifier http://www.buzzfeed.com/ {'displayLabel': 'Access URL', 'type': 'uri'}\n",
      "{http://www.loc.gov/mods/v3}identifier http://www.drudgereport.com/ {'displayLabel': 'Access URL', 'type': 'uri'}\n"
     ]
    }
   ],
   "source": [
    "xml_collection =  etree.parse(MODS_5_collection)\n",
    "\n",
    "mods = xml_collection.getroot()\n",
    "  #xpath expression: .//\n",
    "\n",
    "for identifier in mods.findall('.//mods:identifier[@type=\"uri\"]', namespaces=ns):\n",
    "    element = identifier\n",
    "    print(element.tag, element.text, element.attrib)"
   ]
  },
  {
   "cell_type": "code",
   "execution_count": null,
   "metadata": {},
   "outputs": [],
   "source": [
    "xml_collection =  etree.parse(MODS_5_collection)\n",
    "\n",
    "mods = xml_collection.getroot()\n",
    "  #xpath expression: .//\n",
    "\n",
    "for identifier in mods.findall('.//mods:identifier[@type=\"uri\"]', namespaces=ns):\n",
    "    element = identifier\n",
    "    print(element.tag, element.text, element.attrib)"
   ]
  },
  {
   "cell_type": "code",
   "execution_count": 66,
   "metadata": {},
   "outputs": [
    {
     "name": "stdout",
     "output_type": "stream",
     "text": [
      "{http://www.loc.gov/mods/v3}identifier 85999 {'invalid': 'yes', 'type': 'database id'}\n",
      "{http://www.loc.gov/mods/v3}identifier 109353 {'invalid': 'yes', 'type': 'database id'}\n",
      "{http://www.loc.gov/mods/v3}identifier http://www.slate.com/ {'displayLabel': 'Access URL', 'type': 'uri'}\n",
      "{http://www.loc.gov/mods/v3}identifier 15046 {'type': 'database id'}\n",
      "{http://www.loc.gov/mods/v3}identifier 91224 {'invalid': 'yes', 'type': 'database id'}\n",
      "{http://www.loc.gov/mods/v3}identifier 109272 {'invalid': 'yes', 'type': 'database id'}\n",
      "{http://www.loc.gov/mods/v3}identifier http://rawstory.com/ {'displayLabel': 'Access URL', 'type': 'uri'}\n",
      "{http://www.loc.gov/mods/v3}identifier 2771 {'type': 'database id'}\n",
      "{http://www.loc.gov/mods/v3}identifier 91275 {'invalid': 'yes', 'type': 'database id'}\n",
      "{http://www.loc.gov/mods/v3}identifier 109273 {'invalid': 'yes', 'type': 'database id'}\n",
      "{http://www.loc.gov/mods/v3}identifier 96782 {'invalid': 'yes', 'type': 'database id'}\n",
      "{http://www.loc.gov/mods/v3}identifier http://www.huffingtonpost.com/ {'displayLabel': 'Access URL', 'type': 'uri'}\n",
      "{http://www.loc.gov/mods/v3}identifier 4619 {'type': 'database id'}\n",
      "{http://www.loc.gov/mods/v3}identifier nan {'invalid': 'yes', 'type': 'database id'}\n",
      "{http://www.loc.gov/mods/v3}identifier https://medium.com/buzzfeed-collections {'displayLabel': 'Access URL', 'type': 'uri'}\n",
      "{http://www.loc.gov/mods/v3}identifier 24463 {'type': 'database id'}\n",
      "{http://www.loc.gov/mods/v3}identifier http://www.buzzfeed.com/ {'displayLabel': 'Access URL', 'type': 'uri'}\n",
      "{http://www.loc.gov/mods/v3}identifier 14906 {'type': 'database id'}\n",
      "{http://www.loc.gov/mods/v3}identifier 82949 {'invalid': 'yes', 'type': 'database id'}\n",
      "{http://www.loc.gov/mods/v3}identifier 109227 {'invalid': 'yes', 'type': 'database id'}\n",
      "{http://www.loc.gov/mods/v3}identifier http://www.drudgereport.com/ {'displayLabel': 'Access URL', 'type': 'uri'}\n",
      "{http://www.loc.gov/mods/v3}identifier 14951 {'type': 'database id'}\n"
     ]
    }
   ],
   "source": [
    "xml_collection =  etree.parse(MODS_5_collection)\n",
    "\n",
    "mods = xml_collection.getroot()\n",
    "  #xpath expression: .//\n",
    "\n",
    "for identifier in mods.findall('.//mods:identifier[@type]', namespaces=ns):\n",
    "    element = identifier\n",
    "    print(element.tag, element.text, element.attrib)"
   ]
  },
  {
   "cell_type": "code",
   "execution_count": 72,
   "metadata": {},
   "outputs": [
    {
     "name": "stdout",
     "output_type": "stream",
     "text": [
      "{http://www.loc.gov/mods/v3}title Slate Magazine {}\n",
      "{http://www.loc.gov/mods/v3}title General News on the Internet Web Archive {}\n",
      "{http://www.loc.gov/mods/v3}title Serial and Government Publications Division {}\n",
      "{http://www.loc.gov/mods/v3}title Raw Story {}\n",
      "{http://www.loc.gov/mods/v3}title General News on the Internet Web Archive {}\n",
      "{http://www.loc.gov/mods/v3}title Serial and Government Publications Division {}\n",
      "{http://www.loc.gov/mods/v3}title Huffington Post {}\n",
      "{http://www.loc.gov/mods/v3}title General News on the Internet Web Archive {}\n",
      "{http://www.loc.gov/mods/v3}title Serial and Government Publications Division {}\n",
      "{http://www.loc.gov/mods/v3}title BuzzFeed {}\n",
      "{http://www.loc.gov/mods/v3}title General News on the Internet Web Archive {}\n",
      "{http://www.loc.gov/mods/v3}title Serial and Government Publications Division {}\n",
      "{http://www.loc.gov/mods/v3}title Drudge Report {}\n",
      "{http://www.loc.gov/mods/v3}title General News on the Internet Web Archive {}\n",
      "{http://www.loc.gov/mods/v3}title Serial and Government Publications Division {}\n",
      "15\n"
     ]
    }
   ],
   "source": [
    "from turtle import title\n",
    "\n",
    "\n",
    "xml_collection =  etree.parse(MODS_5_collection)\n",
    "\n",
    "mods = xml_collection.getroot()\n",
    "\n",
    "title_count = 0\n",
    "  #xpath expression: .//\n",
    "for identifier in mods.findall('.//mods:title', namespaces=ns):\n",
    "    title_count += 1\n",
    "    element = identifier\n",
    "    print(element.tag, element.text, element.attrib)\n",
    "\n",
    "print(title_count)"
   ]
  },
  {
   "cell_type": "code",
   "execution_count": 80,
   "metadata": {},
   "outputs": [
    {
     "name": "stdout",
     "output_type": "stream",
     "text": [
      "<Element modsCollection at 0x7fc3625a71c0>\n",
      "{http://www.loc.gov/mods/v3}title Slate Magazine\n",
      "{http://www.loc.gov/mods/v3}title General News on the Internet Web Archive\n",
      "{http://www.loc.gov/mods/v3}title Serial and Government Publications Division\n",
      "3\n",
      "<Element modsCollection at 0x7fc3625a71c0>\n",
      "{http://www.loc.gov/mods/v3}title Raw Story\n",
      "{http://www.loc.gov/mods/v3}title General News on the Internet Web Archive\n",
      "{http://www.loc.gov/mods/v3}title Serial and Government Publications Division\n",
      "3\n",
      "<Element modsCollection at 0x7fc3625a71c0>\n",
      "{http://www.loc.gov/mods/v3}title Huffington Post\n",
      "{http://www.loc.gov/mods/v3}title General News on the Internet Web Archive\n",
      "{http://www.loc.gov/mods/v3}title Serial and Government Publications Division\n",
      "3\n",
      "<Element modsCollection at 0x7fc3625a71c0>\n",
      "{http://www.loc.gov/mods/v3}title BuzzFeed\n",
      "{http://www.loc.gov/mods/v3}title General News on the Internet Web Archive\n",
      "{http://www.loc.gov/mods/v3}title Serial and Government Publications Division\n",
      "3\n",
      "<Element modsCollection at 0x7fc3625a71c0>\n",
      "{http://www.loc.gov/mods/v3}title Drudge Report\n",
      "{http://www.loc.gov/mods/v3}title General News on the Internet Web Archive\n",
      "{http://www.loc.gov/mods/v3}title Serial and Government Publications Division\n",
      "3\n"
     ]
    }
   ],
   "source": [
    "xml_collection = etree.parse(MODS_5_collection)\n",
    "\n",
    "mods = xml_collection.getroot()\n",
    "\n",
    "mods_count = 0\n",
    "title_count = 0\n",
    "\n",
    "for mod in mods: \n",
    "    print(mods) \n",
    "    title_count = 0\n",
    "    for title in mod.findall('.//mods:title', namespaces=ns):\n",
    "        title_count += 1\n",
    "        print(title.tag, title.text)\n",
    "    print(title_count)\n",
    "\n",
    "    "
   ]
  },
  {
   "cell_type": "markdown",
   "metadata": {},
   "source": [
    "If the question is How many title elements in each record\n",
    "\n",
    "The answer is that each MODS record has 3 %<title%> elements\n",
    "\n",
    "Using Regular expressions\n",
    "- use case is the call number identifier"
   ]
  },
  {
   "cell_type": "code",
   "execution_count": 84,
   "metadata": {},
   "outputs": [
    {
     "name": "stdout",
     "output_type": "stream",
     "text": [
      "{http://www.loc.gov/mods/v3}identifier lcwaN0010234 {}\n",
      "{http://www.loc.gov/mods/v3}identifier lcwaN0001999 {}\n",
      "{http://www.loc.gov/mods/v3}identifier lcwaN0003238 {}\n",
      "{http://www.loc.gov/mods/v3}identifier lcwaN0010144 {}\n",
      "{http://www.loc.gov/mods/v3}identifier lcwaN0010145 {}\n"
     ]
    }
   ],
   "source": [
    "xml_collection = etree.parse(MODS_5_collection)\n",
    "\n",
    "mods = xml_collection.getroot()\n",
    "\n",
    "#set up the regular expression r=raw string\n",
    "\n",
    "call_num_pattern = re.compile(r'[a-z]{4}N\\d{7}')\n",
    "\n",
    "for mod in mods: \n",
    "    for identifier in mod.findall('.//mods:identifier', namespaces=ns):\n",
    "        if re.match(call_num_pattern, identifier.text):\n",
    "        #returns bollean statement. true/false  \n",
    "            print(identifier.tag, identifier.text, identifier.attrib)"
   ]
  },
  {
   "cell_type": "code",
   "execution_count": 89,
   "metadata": {},
   "outputs": [
    {
     "name": "stdout",
     "output_type": "stream",
     "text": [
      "{http://www.loc.gov/mods/v3}identifier lcwaN0010234 {'type': 'local_call_number', 'updated': 'true', 'date_of_update': '2022-10-19'}\n",
      "{http://www.loc.gov/mods/v3}identifier lcwaN0001999 {'type': 'local_call_number', 'updated': 'true', 'date_of_update': '2022-10-19'}\n",
      "{http://www.loc.gov/mods/v3}identifier lcwaN0003238 {'type': 'local_call_number', 'updated': 'true', 'date_of_update': '2022-10-19'}\n",
      "{http://www.loc.gov/mods/v3}identifier lcwaN0010144 {'type': 'local_call_number', 'updated': 'true', 'date_of_update': '2022-10-19'}\n",
      "{http://www.loc.gov/mods/v3}identifier lcwaN0010145 {'type': 'local_call_number', 'updated': 'true', 'date_of_update': '2022-10-19'}\n"
     ]
    }
   ],
   "source": [
    "#adding more data to the document!   .set(attribute, value)\n",
    "\n",
    "xml_collection = etree.parse(MODS_5_collection)\n",
    "\n",
    "mods = xml_collection.getroot()\n",
    "\n",
    "#set up the regular expression r=raw string\n",
    "\n",
    "call_num_pattern = re.compile(r'[a-z]{4}N\\d{7}')\n",
    "\n",
    "for mod in mods: \n",
    "    for identifier in mod.findall('.//mods:identifier', namespaces=ns):\n",
    "        if re.match(call_num_pattern, identifier.text):\n",
    "        #returns bollean statement. true/false  \n",
    "            identifier.set('type', 'local_call_number')\n",
    "            identifier.set('updated', 'true')\n",
    "            identifier.set('date_of_update','2022-10-19')\n",
    "            print(identifier.tag, identifier.text, identifier.attrib)"
   ]
  },
  {
   "cell_type": "markdown",
   "metadata": {},
   "source": [
    "Last step for labs is: write out the file with appropirate namespaces, etc. \n"
   ]
  }
 ],
 "metadata": {
  "kernelspec": {
   "display_name": "Python 3.9.6 64-bit",
   "language": "python",
   "name": "python3"
  },
  "language_info": {
   "codemirror_mode": {
    "name": "ipython",
    "version": 3
   },
   "file_extension": ".py",
   "mimetype": "text/x-python",
   "name": "python",
   "nbconvert_exporter": "python",
   "pygments_lexer": "ipython3",
   "version": "3.9.6"
  },
  "orig_nbformat": 4,
  "vscode": {
   "interpreter": {
    "hash": "aee8b7b246df8f9039afb4144a1f6fd8d2ca17a180786b69acc140d282b71a49"
   }
  }
 },
 "nbformat": 4,
 "nbformat_minor": 2
}
