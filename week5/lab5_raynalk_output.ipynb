/Users/raynaketchum/Documents/umich/SI676/networked-services-labs
/Users/raynaketchum/Documents/umich/SI676/networked-services-labs/data/webfiles-samples
The filename web-files-small-metadata.csv 
    This is the directory path: /Users/raynaketchum/Documents/umich/SI676/networked-services-labs/data/webfiles-samples 
    The full path to the file is: /Users/raynaketchum/Documents/umich/SI676/networked-services-labs/data/webfiles-samples/web-files-small-metadata.csv
The filesize is: 9069 bytes
The file extension is: .csv
The last modification time was: 2022-10-07T13:10:1665162764


The filename vlwhcssc.asx 
    This is the directory path: /Users/raynaketchum/Documents/umich/SI676/networked-services-labs/data/webfiles-samples/video 
    The full path to the file is: /Users/raynaketchum/Documents/umich/SI676/networked-services-labs/data/webfiles-samples/video/vlwhcssc.asx
The filesize is: 356 bytes
The file extension is: .asx
The last modification time was: 2022-10-07T13:10:1665162764


The filename 04-04-21full.asf 
    This is the directory path: /Users/raynaketchum/Documents/umich/SI676/networked-services-labs/data/webfiles-samples/video 
    The full path to the file is: /Users/raynaketchum/Documents/umich/SI676/networked-services-labs/data/webfiles-samples/video/04-04-21full.asf
The filesize is: 98 bytes
The file extension is: .asf
The last modification time was: 2022-10-07T13:10:1665162764


The filename glmp_cig.EQ.wm.p20.t12z 
    This is the directory path: /Users/raynaketchum/Documents/umich/SI676/networked-services-labs/data/webfiles-samples/video 
    The full path to the file is: /Users/raynaketchum/Documents/umich/SI676/networked-services-labs/data/webfiles-samples/video/glmp_cig.EQ.wm.p20.t12z
The filesize is: 8296 bytes
The file extension is: .t12z
The last modification time was: 2022-10-07T13:10:1665162764


The filename oct17cc.asx 
    This is the directory path: /Users/raynaketchum/Documents/umich/SI676/networked-services-labs/data/webfiles-samples/video 
    The full path to the file is: /Users/raynaketchum/Documents/umich/SI676/networked-services-labs/data/webfiles-samples/video/oct17cc.asx
The filesize is: 106945 bytes
The file extension is: .asx
The last modification time was: 2022-10-07T13:10:1665162764


The filename 01-1480.pdf 
    This is the directory path: /Users/raynaketchum/Documents/umich/SI676/networked-services-labs/data/webfiles-samples/pdf 
    The full path to the file is: /Users/raynaketchum/Documents/umich/SI676/networked-services-labs/data/webfiles-samples/pdf/01-1480.pdf
The filesize is: 49088 bytes
The file extension is: .pdf
The last modification time was: 2022-10-07T13:10:1665162764


The filename file.pdf 
    This is the directory path: /Users/raynaketchum/Documents/umich/SI676/networked-services-labs/data/webfiles-samples/pdf 
    The full path to the file is: /Users/raynaketchum/Documents/umich/SI676/networked-services-labs/data/webfiles-samples/pdf/file.pdf
The filesize is: 1538 bytes
The file extension is: .pdf
The last modification time was: 2022-10-07T13:10:1665162764


The filename Chapter03.pdf 
    This is the directory path: /Users/raynaketchum/Documents/umich/SI676/networked-services-labs/data/webfiles-samples/pdf 
    The full path to the file is: /Users/raynaketchum/Documents/umich/SI676/networked-services-labs/data/webfiles-samples/pdf/Chapter03.pdf
The filesize is: 51919 bytes
The file extension is: .pdf
The last modification time was: 2022-10-07T13:10:1665162764


The filename PFCHEJ.pdf 
    This is the directory path: /Users/raynaketchum/Documents/umich/SI676/networked-services-labs/data/webfiles-samples/pdf 
    The full path to the file is: /Users/raynaketchum/Documents/umich/SI676/networked-services-labs/data/webfiles-samples/pdf/PFCHEJ.pdf
The filesize is: 10577 bytes
The file extension is: .pdf
The last modification time was: 2022-10-07T13:10:1665162764


The filename HR2021 commtext.pdf 
    This is the directory path: /Users/raynaketchum/Documents/umich/SI676/networked-services-labs/data/webfiles-samples/pdf 
    The full path to the file is: /Users/raynaketchum/Documents/umich/SI676/networked-services-labs/data/webfiles-samples/pdf/HR2021 commtext.pdf
The filesize is: 36305 bytes
The file extension is: .pdf
The last modification time was: 2022-10-07T13:10:1665162764


The filename 13080t.jpg 
    This is the directory path: /Users/raynaketchum/Documents/umich/SI676/networked-services-labs/data/webfiles-samples/image 
    The full path to the file is: /Users/raynaketchum/Documents/umich/SI676/networked-services-labs/data/webfiles-samples/image/13080t.jpg
The filesize is: 3764 bytes
The file extension is: .jpg
The last modification time was: 2022-10-07T13:10:1665162764


The filename orca.via_.moc_.noaa_.jpg 
    This is the directory path: /Users/raynaketchum/Documents/umich/SI676/networked-services-labs/data/webfiles-samples/image 
    The full path to the file is: /Users/raynaketchum/Documents/umich/SI676/networked-services-labs/data/webfiles-samples/image/orca.via_.moc_.noaa_.jpg
The filesize is: 82546 bytes
The file extension is: .jpg
The last modification time was: 2022-10-07T13:10:1665162764


The filename k7989-7x.jpg 
    This is the directory path: /Users/raynaketchum/Documents/umich/SI676/networked-services-labs/data/webfiles-samples/image 
    The full path to the file is: /Users/raynaketchum/Documents/umich/SI676/networked-services-labs/data/webfiles-samples/image/k7989-7x.jpg
The filesize is: 7864 bytes
The file extension is: .jpg
The last modification time was: 2022-10-07T13:10:1665162764


The filename m237a2f.gif 
    This is the directory path: /Users/raynaketchum/Documents/umich/SI676/networked-services-labs/data/webfiles-samples/image 
    The full path to the file is: /Users/raynaketchum/Documents/umich/SI676/networked-services-labs/data/webfiles-samples/image/m237a2f.gif
The filesize is: 7376 bytes
The file extension is: .gif
The last modification time was: 2022-10-07T13:10:1665162764


The filename 1005107061.tif 
    This is the directory path: /Users/raynaketchum/Documents/umich/SI676/networked-services-labs/data/webfiles-samples/image 
    The full path to the file is: /Users/raynaketchum/Documents/umich/SI676/networked-services-labs/data/webfiles-samples/image/1005107061.tif
The filesize is: 395734 bytes
The file extension is: .tif
The last modification time was: 2022-10-07T13:10:1665162764


The filename 11-3250JohnsonvFolinoEtAl.wma 
    This is the directory path: /Users/raynaketchum/Documents/umich/SI676/networked-services-labs/data/webfiles-samples/audio 
    The full path to the file is: /Users/raynaketchum/Documents/umich/SI676/networked-services-labs/data/webfiles-samples/audio/11-3250JohnsonvFolinoEtAl.wma
The filesize is: 21423499 bytes
The file extension is: .wma
The last modification time was: 2022-10-07T13:10:1665162763


The filename NEWSLINE_802AF71F439D401585C6FCB02F358307.mp3 
    This is the directory path: /Users/raynaketchum/Documents/umich/SI676/networked-services-labs/data/webfiles-samples/audio 
    The full path to the file is: /Users/raynaketchum/Documents/umich/SI676/networked-services-labs/data/webfiles-samples/audio/NEWSLINE_802AF71F439D401585C6FCB02F358307.mp3
The filesize is: 961195 bytes
The file extension is: .mp3
The last modification time was: 2022-10-07T13:10:1665162763


The filename mj_telework_exchange_final_100710.mp3 
    This is the directory path: /Users/raynaketchum/Documents/umich/SI676/networked-services-labs/data/webfiles-samples/audio 
    The full path to the file is: /Users/raynaketchum/Documents/umich/SI676/networked-services-labs/data/webfiles-samples/audio/mj_telework_exchange_final_100710.mp3
The filesize is: 3471488 bytes
The file extension is: .mp3
The last modification time was: 2022-10-07T13:10:1665162764


The filename 000727.ram 
    This is the directory path: /Users/raynaketchum/Documents/umich/SI676/networked-services-labs/data/webfiles-samples/audio 
    The full path to the file is: /Users/raynaketchum/Documents/umich/SI676/networked-services-labs/data/webfiles-samples/audio/000727.ram
The filesize is: 79 bytes
The file extension is: .ram
The last modification time was: 2022-10-07T13:10:1665162763


The filename BudgetandGrants012710.ppt 
    This is the directory path: /Users/raynaketchum/Documents/umich/SI676/networked-services-labs/data/webfiles-samples/presentation 
    The full path to the file is: /Users/raynaketchum/Documents/umich/SI676/networked-services-labs/data/webfiles-samples/presentation/BudgetandGrants012710.ppt
The filesize is: 85504 bytes
The file extension is: .ppt
The last modification time was: 2022-10-07T13:10:1665162764


The filename ADAEMPLOYMENTTaxIncentives.ppt 
    This is the directory path: /Users/raynaketchum/Documents/umich/SI676/networked-services-labs/data/webfiles-samples/presentation 
    The full path to the file is: /Users/raynaketchum/Documents/umich/SI676/networked-services-labs/data/webfiles-samples/presentation/ADAEMPLOYMENTTaxIncentives.ppt
The filesize is: 137216 bytes
The file extension is: .ppt
The last modification time was: 2022-10-07T13:10:1665162764


The filename Non-FTE-Trainee-Activities-060109.ppt 
    This is the directory path: /Users/raynaketchum/Documents/umich/SI676/networked-services-labs/data/webfiles-samples/presentation 
    The full path to the file is: /Users/raynaketchum/Documents/umich/SI676/networked-services-labs/data/webfiles-samples/presentation/Non-FTE-Trainee-Activities-060109.ppt
The filesize is: 67072 bytes
The file extension is: .ppt
The last modification time was: 2022-10-07T13:10:1665162764


