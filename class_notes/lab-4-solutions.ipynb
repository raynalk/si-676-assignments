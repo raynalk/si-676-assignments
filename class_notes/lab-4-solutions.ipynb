{
 "cells": [
  {
   "cell_type": "markdown",
   "metadata": {},
   "source": [
    "# Possible solution to question 3 Lab 4\n",
    "\n",
    "Two offered below. Note that this is located in the \"in-class-notebooks\" dir so the paths include '..' as a way to \"move up\" in the tree."
   ]
  },
  {
   "cell_type": "code",
   "execution_count": 1,
   "metadata": {},
   "outputs": [
    {
     "name": "stdout",
     "output_type": "stream",
     "text": [
      "/Users/jajohnst/Desktop/networked-services-labs-2022\n"
     ]
    }
   ],
   "source": [
    "import os\n",
    "\n",
    "print(os.getcwd())"
   ]
  },
  {
   "cell_type": "code",
   "execution_count": 2,
   "metadata": {},
   "outputs": [
    {
     "name": "stdout",
     "output_type": "stream",
     "text": [
      "data/webfiles-samples\n"
     ]
    }
   ],
   "source": [
    "webfiles_dir_path = os.path.join('data','webfiles-samples')\n",
    "\n",
    "print(webfiles_dir_path)"
   ]
  },
  {
   "cell_type": "code",
   "execution_count": 6,
   "metadata": {},
   "outputs": [
    {
     "name": "stdout",
     "output_type": "stream",
     "text": [
      "video\n",
      "pdf\n",
      "image\n",
      "audio\n",
      "presentation\n"
     ]
    }
   ],
   "source": [
    "# using nested for loops - first get the dirs:\n",
    "for item in os.listdir(webfiles_dir_path):\n",
    "    if os.path.isdir(os.path.join(os.getcwd(),webfiles_dir_path, item)):\n",
    "        print(item)"
   ]
  },
  {
   "cell_type": "code",
   "execution_count": 8,
   "metadata": {},
   "outputs": [
    {
     "name": "stdout",
     "output_type": "stream",
     "text": [
      "vlwhcssc.asx\n",
      "04-04-21full.asf\n",
      "glmp_cig.EQ.wm.p20.t12z\n",
      "oct17cc.asx\n",
      "01-1480.pdf\n",
      "file.pdf\n",
      "Chapter03.pdf\n",
      "PFCHEJ.pdf\n",
      "HR2021 commtext.pdf\n",
      "13080t.jpg\n",
      "orca.via_.moc_.noaa_.jpg\n",
      "k7989-7x.jpg\n",
      "m237a2f.gif\n",
      "1005107061.tif\n",
      "11-3250JohnsonvFolinoEtAl.wma\n",
      "NEWSLINE_802AF71F439D401585C6FCB02F358307.mp3\n",
      "mj_telework_exchange_final_100710.mp3\n",
      "000727.ram\n",
      "BudgetandGrants012710.ppt\n",
      "ADAEMPLOYMENTTaxIncentives.ppt\n",
      "Non-FTE-Trainee-Activities-060109.ppt\n"
     ]
    }
   ],
   "source": [
    "# using nested for loops - now add the loop for the dirs\n",
    "for item in os.listdir(webfiles_dir_path):\n",
    "    if os.path.isdir(os.path.join(os.getcwd(),webfiles_dir_path, item)):\n",
    "        for file in os.listdir(os.path.join(webfiles_dir_path,item)):\n",
    "            print(file)"
   ]
  },
  {
   "cell_type": "markdown",
   "metadata": {},
   "source": [
    "### Notes\n",
    "\n",
    "* You don't need to add `== True` in the if statement if you only want the true responses (it's assumed by Python)\n",
    "* Many of you added into this a list and appended the files, or list of files to that list, which would be a great way to make the data reusable later on. \n",
    "* Remember the `os.listdir()` returns a list, so you don't need to create a list in advance to assign the listdir information to, although it's not bad to do that either. "
   ]
  },
  {
   "cell_type": "markdown",
   "metadata": {},
   "source": [
    "## An Alternative\n",
    "\n",
    "This one doesn't use nested for loops, just the if statement and produces a similar result"
   ]
  },
  {
   "cell_type": "code",
   "execution_count": null,
   "metadata": {},
   "outputs": [],
   "source": [
    "for x in y:\n",
    "    x.append()"
   ]
  },
  {
   "cell_type": "code",
   "execution_count": 20,
   "metadata": {},
   "outputs": [
    {
     "name": "stdout",
     "output_type": "stream",
     "text": [
      "['vlwhcssc.asx', '04-04-21full.asf', 'glmp_cig.EQ.wm.p20.t12z', 'oct17cc.asx', '01-1480.pdf', 'file.pdf', 'Chapter03.pdf', 'PFCHEJ.pdf', 'HR2021 commtext.pdf', '13080t.jpg', 'orca.via_.moc_.noaa_.jpg', 'k7989-7x.jpg', 'm237a2f.gif', '1005107061.tif', '11-3250JohnsonvFolinoEtAl.wma', 'NEWSLINE_802AF71F439D401585C6FCB02F358307.mp3', 'mj_telework_exchange_final_100710.mp3', '000727.ram', 'BudgetandGrants012710.ppt', 'ADAEMPLOYMENTTaxIncentives.ppt', 'Non-FTE-Trainee-Activities-060109.ppt']\n"
     ]
    }
   ],
   "source": [
    "# filtering just using the one if:\n",
    "list_of_dirs_with_contents = list() \n",
    "\n",
    "for item in os.listdir(webfiles_dir_path):\n",
    "    path = os.path.join(os.getcwd(), webfiles_dir_path, item)\n",
    "    if os.path.isdir(path):\n",
    "        [list_of_dirs_with_contents.append(file) for file in os.listdir(path)]\n",
    "\n",
    "print(list_of_dirs_with_contents)"
   ]
  },
  {
   "cell_type": "markdown",
   "metadata": {},
   "source": [
    "### Notes\n",
    "\n",
    "* this one uses a list comprehension, which is kind of fancy. Basically on line 7, the for loop to list out the files is compressed into one line, which appends each entry to the list. \n",
    "* Note that `scandir()` and `os.walk()` are more useful for traversing through nested directories."
   ]
  }
 ],
 "metadata": {
  "kernelspec": {
   "display_name": "Python 3.9.6 64-bit",
   "language": "python",
   "name": "python3"
  },
  "language_info": {
   "codemirror_mode": {
    "name": "ipython",
    "version": 3
   },
   "file_extension": ".py",
   "mimetype": "text/x-python",
   "name": "python",
   "nbconvert_exporter": "python",
   "pygments_lexer": "ipython3",
   "version": "3.9.6"
  },
  "orig_nbformat": 4,
  "vscode": {
   "interpreter": {
    "hash": "31f2aee4e71d21fbe5cf8b01ff0e069b9275f58929596ceb00d14d90e3e16cd6"
   }
  }
 },
 "nbformat": 4,
 "nbformat_minor": 2
}
