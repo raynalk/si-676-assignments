{
 "cells": [
  {
   "cell_type": "markdown",
   "metadata": {},
   "source": [
    "Lab 6 \n",
    "Rayna Ketchum "
   ]
  },
  {
   "cell_type": "markdown",
   "metadata": {},
   "source": [
    "1. XML declaration/first line \n",
    "<?xml version=\"1.0\" encoding=\"UTF-8\"?>"
   ]
  },
  {
   "cell_type": "markdown",
   "metadata": {},
   "source": [
    "2. What is the advantage of aliasing a library? Why import the ElementTree module using import xml.etree.ElementTree as ET rather than the basic import statement?\n",
    "\n",
    "Importing with an alias makes using commands like .getroot() or .parse() more concisely. \n",
    "\n"
   ]
  },
  {
   "cell_type": "markdown",
   "metadata": {},
   "source": [
    "3. Write a code block that loads the EAD finding aid in the course repo (/data/xml/day_20221004_205435_UTC__ead.xml). Parse the tree and extract the archdesc element. What are the subelements? This builds on the assignment we used in class (archDesc = root.find('archdesc')) and then you can develop a loop like for element in archdesc to explore further). (See the section in class exploring the control element.)"
   ]
  },
  {
   "cell_type": "code",
   "execution_count": 9,
   "metadata": {},
   "outputs": [
    {
     "name": "stdout",
     "output_type": "stream",
     "text": [
      "{http://ead3.archivists.org/schema/}did \n",
      "    \n",
      "{http://ead3.archivists.org/schema/}scopecontent \n",
      "    \n",
      "{http://ead3.archivists.org/schema/}bioghist \n",
      "    \n",
      "{http://ead3.archivists.org/schema/}accessrestrict \n",
      "    \n",
      "{http://ead3.archivists.org/schema/}userestrict \n",
      "    \n",
      "{http://ead3.archivists.org/schema/}prefercite \n",
      "    \n",
      "{http://ead3.archivists.org/schema/}controlaccess \n",
      "    \n",
      "{http://ead3.archivists.org/schema/}dsc None\n"
     ]
    }
   ],
   "source": [
    "import xml.etree.ElementTree as ET\n",
    "from inspect import getmembers, isclass, isfunction\n",
    "\n",
    "tree = ET.parse('data/xml/day_20221004_205435_UTC__ead.xml')\n",
    "root = tree.getroot()\n",
    "archDesc = root.find('{http://ead3.archivists.org/schema/}archdesc')\n",
    "\n",
    "for element in archDesc:\n",
    "    print(element.tag, element.text)"
   ]
  },
  {
   "cell_type": "markdown",
   "metadata": {},
   "source": [
    "4. How do you work with prefixed namespaces in the ET module? How do you assign prefixes for use within path addresses? How do you assign namespaces for writing out a valid XML with namespace declarations and prefixes?"
   ]
  },
  {
   "cell_type": "markdown",
   "metadata": {},
   "source": [
    "Here is an example of using a prefixed namespace: \n",
    "archDesc = root.find('{http://ead3.archivists.org/schema/}archdesc')\n",
    "The namesapce is in the {}. It must be referenced in front of every tag.\n",
    "\n",
    "To create a shorthand for the namespace, you can create a dictionary and assign it to a value. In this example the value is 'ns' and the dictionary attribute is \"ead\" and it's value is the ead url. "
   ]
  },
  {
   "cell_type": "code",
   "execution_count": 10,
   "metadata": {},
   "outputs": [
    {
     "name": "stdout",
     "output_type": "stream",
     "text": [
      "{'countryencoding': 'iso3166-1', 'dateencoding': 'iso8601', 'langencoding': 'iso639-2b', 'relatedencoding': 'marc', 'repositoryencoding': 'iso15511', 'scriptencoding': 'iso15924'}\n"
     ]
    }
   ],
   "source": [
    "ns = {\n",
    "    'ead' : 'http://ead3.archivists.org/schema/'\n",
    "}\n",
    "\n",
    "control = root.find('ead:control', ns)\n",
    "print(control.attrib)"
   ]
  },
  {
   "cell_type": "markdown",
   "metadata": {},
   "source": [
    "5. Write a code block that adds new attributes to two or more elements in the mock-up superior-papers.xml file. Write out the file with the appropriately included XML declaration and namespace declarations for the EAD3 schema."
   ]
  },
  {
   "cell_type": "code",
   "execution_count": 16,
   "metadata": {},
   "outputs": [],
   "source": [
    "import xml.etree.ElementTree as ET\n",
    "from inspect import getmembers, isclass, isfunction  #This probably isn't necessary but I keep getting the red error line under .tag/.attrib \n",
    "import os\n",
    "import os.path\n",
    "\n",
    "ead_file = os.path.join('data','xml','superior-papers.xml')\n",
    "\n",
    "tree = ET.parse(ead_file)\n",
    "root = tree.getroot()\n",
    "\n",
    "ns = {\n",
    "    'ead' : 'http://ead3.archivists.org/schema/'\n",
    "}\n",
    "\n",
    "newDid = ET.Element('ead:did', attrib={'isNew':'true'})  #STOPPED HERE \n",
    "newDid.text = 'A new did'\n"
   ]
  }
 ],
 "metadata": {
  "kernelspec": {
   "display_name": "Python 3.9.6 64-bit",
   "language": "python",
   "name": "python3"
  },
  "language_info": {
   "codemirror_mode": {
    "name": "ipython",
    "version": 3
   },
   "file_extension": ".py",
   "mimetype": "text/x-python",
   "name": "python",
   "nbconvert_exporter": "python",
   "pygments_lexer": "ipython3",
   "version": "3.9.6"
  },
  "orig_nbformat": 4,
  "vscode": {
   "interpreter": {
    "hash": "aee8b7b246df8f9039afb4144a1f6fd8d2ca17a180786b69acc140d282b71a49"
   }
  }
 },
 "nbformat": 4,
 "nbformat_minor": 2
}
