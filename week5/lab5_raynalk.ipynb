{
 "cells": [
  {
   "cell_type": "markdown",
   "metadata": {},
   "source": [
    "Lab 5\n",
    "Rayna Ketchum"
   ]
  },
  {
   "cell_type": "markdown",
   "metadata": {},
   "source": [
    "1. difference between os.walk() and scandir() and listdir()\n",
    "\n",
    "os.list(dir) creates a list of items in a directory. Combined with other commands, this can be used to check large directories for specific files or file types. \n",
    "\n",
    "os.scandir() iterates through a directory like listdir() but pulls additional metadata like file size. \n",
    "\n",
    "os.walk() scans through a folder similar to scan and list, but produces a tuple:(current folder, subfolder, filename). Using os.walk() we can pull out information three layers deep with a for loop. "
   ]
  },
  {
   "cell_type": "markdown",
   "metadata": {},
   "source": [
    "2. Getting file metadata commands \n",
    "- os.path.abspath() - full path from the root\n",
    "of the given item \n",
    "- Os.path. basename() \n",
    "- os.path.splitext(() - returns a tuple. separates the basename at the .\n",
    "- os.path.getsize() - in bytes \n",
    "- os.path.getmtime() - last time item was modified (recorded by the filesystem) \n"
   ]
  },
  {
   "cell_type": "markdown",
   "metadata": {},
   "source": [
    "3. To translate the system time to human readable and ISO 8601 compliant date string you need os, os.path, and datetime modules (specifically, import datetime from datetime). You will also need the os.path.getmtime(), fromtimestamp() commands. "
   ]
  },
  {
   "cell_type": "markdown",
   "metadata": {},
   "source": [
    "4. A block of code listing the following metadata per item in pdf folder \n",
    "- absolute path \n",
    "- file name \n",
    "- file size \n",
    "Excluded extension because all items are .pdf"
   ]
  },
  {
   "cell_type": "code",
   "execution_count": 1,
   "metadata": {},
   "outputs": [
    {
     "data": {
      "text/plain": [
       "['01-1480.pdf',\n",
       " 'file.pdf',\n",
       " 'Chapter03.pdf',\n",
       " 'PFCHEJ.pdf',\n",
       " 'HR2021 commtext.pdf']"
      ]
     },
     "execution_count": 1,
     "metadata": {},
     "output_type": "execute_result"
    }
   ],
   "source": [
    "\n",
    "\n",
    "\n",
    "cur_dir = os.getcwd()\n",
    "webfiles_dir = os.path.join(cur_dir, 'data', 'webfiles-samples')\n",
    "pdf_dir = os.path.join(webfiles_dir, 'pdf')\n",
    "#os.path.isdir(pdf_dir)\n",
    "\n",
    "os.listdir(pdf_dir)"
   ]
  },
  {
   "cell_type": "code",
   "execution_count": 3,
   "metadata": {},
   "outputs": [
    {
     "name": "stdout",
     "output_type": "stream",
     "text": [
      "Looking at /Users/raynaketchum/Documents/umich/SI676/networked-services-labs/data/webfiles-samples/pdf/01-1480.pdf:\n",
      "filename: 01-1480.pdf\n",
      "file size: 49088\n",
      "last modification: 2022-10-07T13:10:1665162764\n",
      "Looking at /Users/raynaketchum/Documents/umich/SI676/networked-services-labs/data/webfiles-samples/pdf/file.pdf:\n",
      "filename: file.pdf\n",
      "file size: 1538\n",
      "last modification: 2022-10-07T13:10:1665162764\n",
      "Looking at /Users/raynaketchum/Documents/umich/SI676/networked-services-labs/data/webfiles-samples/pdf/Chapter03.pdf:\n",
      "filename: Chapter03.pdf\n",
      "file size: 51919\n",
      "last modification: 2022-10-07T13:10:1665162764\n",
      "Looking at /Users/raynaketchum/Documents/umich/SI676/networked-services-labs/data/webfiles-samples/pdf/PFCHEJ.pdf:\n",
      "filename: PFCHEJ.pdf\n",
      "file size: 10577\n",
      "last modification: 2022-10-07T13:10:1665162764\n",
      "Looking at /Users/raynaketchum/Documents/umich/SI676/networked-services-labs/data/webfiles-samples/pdf/HR2021 commtext.pdf:\n",
      "filename: HR2021 commtext.pdf\n",
      "file size: 36305\n",
      "last modification: 2022-10-07T13:10:1665162764\n"
     ]
    }
   ],
   "source": [
    "#4\n",
    "import os\n",
    "import os.path\n",
    "import shutil\n",
    "from datetime import datetime\n",
    "\n",
    "working_dir = \"/Users/raynaketchum/Documents/umich/SI676/networked-services-labs\"\n",
    "#working directory is from root to class directory on rayna's computer. Change value to fit your local. \n",
    "\n",
    "webfiles_dir = os.path.join(working_dir, 'data', 'webfiles-samples')\n",
    "pdf_dir = os.path.join(webfiles_dir, 'pdf')\n",
    "#os.path.isdir(pdf_dir)\n",
    "\n",
    "for item in os.scandir(pdf_dir):\n",
    "    absolute_path = os.path.abspath(item)\n",
    "    filename = os.path.basename(item)\n",
    "    file_size_bytes = os.path.getsize(item)\n",
    "    last_mod = datetime.strftime(datetime.fromtimestamp(os.path.getmtime(item)), \"%Y-%m-%dT%H:%m:%s\")\n",
    "    print(f'Looking at {absolute_path}:\\nfilename: {filename}\\nfile size: {file_size_bytes}\\nlast modification: {last_mod}')"
   ]
  },
  {
   "cell_type": "markdown",
   "metadata": {},
   "source": [
    "5. An invetory of all the files in the subfolders of webfiles-samples dir. \n",
    "\n",
    "- filename = item of filenames\n",
    "- directory path = os.path.dirname(item of filenames) \n",
    "- full path = absolute_path = os.path.abspath(item of filenames)\n",
    "- file size =  file_size_bytes = os.path.getsize(item of filenames)\n",
    "- file extension = os.path.splitext(item of filenames), return[1]\n",
    "- modification time     last_mod = datetime.strftime(datetime.fromtimestamp(os.path.getmtime(item)), \"%Y-%m-%dT%H:%m:%s\")\n",
    "    print(f'Looking at {absolute_path}:\\nfilename: {filename}\\nfile size: {file_size_bytes}\\nlast modification: {last_mod}')\n"
   ]
  },
  {
   "cell_type": "code",
   "execution_count": 8,
   "metadata": {},
   "outputs": [
    {
     "name": "stdout",
     "output_type": "stream",
     "text": [
      "/Users/raynaketchum/Documents/umich/SI676/networked-services-labs\n",
      "/Users/raynaketchum/Documents/umich/SI676/networked-services-labs/data/webfiles-samples\n",
      "The filename web-files-small-metadata.csv \n",
      "    This is the directory path: /Users/raynaketchum/Documents/umich/SI676/networked-services-labs/data/webfiles-samples \n",
      "    The full path to the file is: /Users/raynaketchum/Documents/umich/SI676/networked-services-labs/data/webfiles-samples/web-files-small-metadata.csv \n",
      "    The filesize is: 9069 bytes \n",
      "    The file extension is: .csv \n",
      "    The last modification time was: 2022-10-07T13:10:1665162764\n",
      "\n",
      "\n",
      "The filename vlwhcssc.asx \n",
      "    This is the directory path: /Users/raynaketchum/Documents/umich/SI676/networked-services-labs/data/webfiles-samples/video \n",
      "    The full path to the file is: /Users/raynaketchum/Documents/umich/SI676/networked-services-labs/data/webfiles-samples/video/vlwhcssc.asx \n",
      "    The filesize is: 356 bytes \n",
      "    The file extension is: .asx \n",
      "    The last modification time was: 2022-10-07T13:10:1665162764\n",
      "The filename 04-04-21full.asf \n",
      "    This is the directory path: /Users/raynaketchum/Documents/umich/SI676/networked-services-labs/data/webfiles-samples/video \n",
      "    The full path to the file is: /Users/raynaketchum/Documents/umich/SI676/networked-services-labs/data/webfiles-samples/video/04-04-21full.asf \n",
      "    The filesize is: 98 bytes \n",
      "    The file extension is: .asf \n",
      "    The last modification time was: 2022-10-07T13:10:1665162764\n",
      "The filename glmp_cig.EQ.wm.p20.t12z \n",
      "    This is the directory path: /Users/raynaketchum/Documents/umich/SI676/networked-services-labs/data/webfiles-samples/video \n",
      "    The full path to the file is: /Users/raynaketchum/Documents/umich/SI676/networked-services-labs/data/webfiles-samples/video/glmp_cig.EQ.wm.p20.t12z \n",
      "    The filesize is: 8296 bytes \n",
      "    The file extension is: .t12z \n",
      "    The last modification time was: 2022-10-07T13:10:1665162764\n",
      "The filename oct17cc.asx \n",
      "    This is the directory path: /Users/raynaketchum/Documents/umich/SI676/networked-services-labs/data/webfiles-samples/video \n",
      "    The full path to the file is: /Users/raynaketchum/Documents/umich/SI676/networked-services-labs/data/webfiles-samples/video/oct17cc.asx \n",
      "    The filesize is: 106945 bytes \n",
      "    The file extension is: .asx \n",
      "    The last modification time was: 2022-10-07T13:10:1665162764\n",
      "\n",
      "\n",
      "The filename 01-1480.pdf \n",
      "    This is the directory path: /Users/raynaketchum/Documents/umich/SI676/networked-services-labs/data/webfiles-samples/pdf \n",
      "    The full path to the file is: /Users/raynaketchum/Documents/umich/SI676/networked-services-labs/data/webfiles-samples/pdf/01-1480.pdf \n",
      "    The filesize is: 49088 bytes \n",
      "    The file extension is: .pdf \n",
      "    The last modification time was: 2022-10-07T13:10:1665162764\n",
      "The filename file.pdf \n",
      "    This is the directory path: /Users/raynaketchum/Documents/umich/SI676/networked-services-labs/data/webfiles-samples/pdf \n",
      "    The full path to the file is: /Users/raynaketchum/Documents/umich/SI676/networked-services-labs/data/webfiles-samples/pdf/file.pdf \n",
      "    The filesize is: 1538 bytes \n",
      "    The file extension is: .pdf \n",
      "    The last modification time was: 2022-10-07T13:10:1665162764\n",
      "The filename Chapter03.pdf \n",
      "    This is the directory path: /Users/raynaketchum/Documents/umich/SI676/networked-services-labs/data/webfiles-samples/pdf \n",
      "    The full path to the file is: /Users/raynaketchum/Documents/umich/SI676/networked-services-labs/data/webfiles-samples/pdf/Chapter03.pdf \n",
      "    The filesize is: 51919 bytes \n",
      "    The file extension is: .pdf \n",
      "    The last modification time was: 2022-10-07T13:10:1665162764\n",
      "The filename PFCHEJ.pdf \n",
      "    This is the directory path: /Users/raynaketchum/Documents/umich/SI676/networked-services-labs/data/webfiles-samples/pdf \n",
      "    The full path to the file is: /Users/raynaketchum/Documents/umich/SI676/networked-services-labs/data/webfiles-samples/pdf/PFCHEJ.pdf \n",
      "    The filesize is: 10577 bytes \n",
      "    The file extension is: .pdf \n",
      "    The last modification time was: 2022-10-07T13:10:1665162764\n",
      "The filename HR2021 commtext.pdf \n",
      "    This is the directory path: /Users/raynaketchum/Documents/umich/SI676/networked-services-labs/data/webfiles-samples/pdf \n",
      "    The full path to the file is: /Users/raynaketchum/Documents/umich/SI676/networked-services-labs/data/webfiles-samples/pdf/HR2021 commtext.pdf \n",
      "    The filesize is: 36305 bytes \n",
      "    The file extension is: .pdf \n",
      "    The last modification time was: 2022-10-07T13:10:1665162764\n",
      "\n",
      "\n",
      "The filename 13080t.jpg \n",
      "    This is the directory path: /Users/raynaketchum/Documents/umich/SI676/networked-services-labs/data/webfiles-samples/image \n",
      "    The full path to the file is: /Users/raynaketchum/Documents/umich/SI676/networked-services-labs/data/webfiles-samples/image/13080t.jpg \n",
      "    The filesize is: 3764 bytes \n",
      "    The file extension is: .jpg \n",
      "    The last modification time was: 2022-10-07T13:10:1665162764\n",
      "The filename orca.via_.moc_.noaa_.jpg \n",
      "    This is the directory path: /Users/raynaketchum/Documents/umich/SI676/networked-services-labs/data/webfiles-samples/image \n",
      "    The full path to the file is: /Users/raynaketchum/Documents/umich/SI676/networked-services-labs/data/webfiles-samples/image/orca.via_.moc_.noaa_.jpg \n",
      "    The filesize is: 82546 bytes \n",
      "    The file extension is: .jpg \n",
      "    The last modification time was: 2022-10-07T13:10:1665162764\n",
      "The filename k7989-7x.jpg \n",
      "    This is the directory path: /Users/raynaketchum/Documents/umich/SI676/networked-services-labs/data/webfiles-samples/image \n",
      "    The full path to the file is: /Users/raynaketchum/Documents/umich/SI676/networked-services-labs/data/webfiles-samples/image/k7989-7x.jpg \n",
      "    The filesize is: 7864 bytes \n",
      "    The file extension is: .jpg \n",
      "    The last modification time was: 2022-10-07T13:10:1665162764\n",
      "The filename m237a2f.gif \n",
      "    This is the directory path: /Users/raynaketchum/Documents/umich/SI676/networked-services-labs/data/webfiles-samples/image \n",
      "    The full path to the file is: /Users/raynaketchum/Documents/umich/SI676/networked-services-labs/data/webfiles-samples/image/m237a2f.gif \n",
      "    The filesize is: 7376 bytes \n",
      "    The file extension is: .gif \n",
      "    The last modification time was: 2022-10-07T13:10:1665162764\n",
      "The filename 1005107061.tif \n",
      "    This is the directory path: /Users/raynaketchum/Documents/umich/SI676/networked-services-labs/data/webfiles-samples/image \n",
      "    The full path to the file is: /Users/raynaketchum/Documents/umich/SI676/networked-services-labs/data/webfiles-samples/image/1005107061.tif \n",
      "    The filesize is: 395734 bytes \n",
      "    The file extension is: .tif \n",
      "    The last modification time was: 2022-10-07T13:10:1665162764\n",
      "\n",
      "\n",
      "The filename 11-3250JohnsonvFolinoEtAl.wma \n",
      "    This is the directory path: /Users/raynaketchum/Documents/umich/SI676/networked-services-labs/data/webfiles-samples/audio \n",
      "    The full path to the file is: /Users/raynaketchum/Documents/umich/SI676/networked-services-labs/data/webfiles-samples/audio/11-3250JohnsonvFolinoEtAl.wma \n",
      "    The filesize is: 21423499 bytes \n",
      "    The file extension is: .wma \n",
      "    The last modification time was: 2022-10-07T13:10:1665162763\n",
      "The filename NEWSLINE_802AF71F439D401585C6FCB02F358307.mp3 \n",
      "    This is the directory path: /Users/raynaketchum/Documents/umich/SI676/networked-services-labs/data/webfiles-samples/audio \n",
      "    The full path to the file is: /Users/raynaketchum/Documents/umich/SI676/networked-services-labs/data/webfiles-samples/audio/NEWSLINE_802AF71F439D401585C6FCB02F358307.mp3 \n",
      "    The filesize is: 961195 bytes \n",
      "    The file extension is: .mp3 \n",
      "    The last modification time was: 2022-10-07T13:10:1665162763\n",
      "The filename mj_telework_exchange_final_100710.mp3 \n",
      "    This is the directory path: /Users/raynaketchum/Documents/umich/SI676/networked-services-labs/data/webfiles-samples/audio \n",
      "    The full path to the file is: /Users/raynaketchum/Documents/umich/SI676/networked-services-labs/data/webfiles-samples/audio/mj_telework_exchange_final_100710.mp3 \n",
      "    The filesize is: 3471488 bytes \n",
      "    The file extension is: .mp3 \n",
      "    The last modification time was: 2022-10-07T13:10:1665162764\n",
      "The filename 000727.ram \n",
      "    This is the directory path: /Users/raynaketchum/Documents/umich/SI676/networked-services-labs/data/webfiles-samples/audio \n",
      "    The full path to the file is: /Users/raynaketchum/Documents/umich/SI676/networked-services-labs/data/webfiles-samples/audio/000727.ram \n",
      "    The filesize is: 79 bytes \n",
      "    The file extension is: .ram \n",
      "    The last modification time was: 2022-10-07T13:10:1665162763\n",
      "\n",
      "\n",
      "The filename BudgetandGrants012710.ppt \n",
      "    This is the directory path: /Users/raynaketchum/Documents/umich/SI676/networked-services-labs/data/webfiles-samples/presentation \n",
      "    The full path to the file is: /Users/raynaketchum/Documents/umich/SI676/networked-services-labs/data/webfiles-samples/presentation/BudgetandGrants012710.ppt \n",
      "    The filesize is: 85504 bytes \n",
      "    The file extension is: .ppt \n",
      "    The last modification time was: 2022-10-07T13:10:1665162764\n",
      "The filename ADAEMPLOYMENTTaxIncentives.ppt \n",
      "    This is the directory path: /Users/raynaketchum/Documents/umich/SI676/networked-services-labs/data/webfiles-samples/presentation \n",
      "    The full path to the file is: /Users/raynaketchum/Documents/umich/SI676/networked-services-labs/data/webfiles-samples/presentation/ADAEMPLOYMENTTaxIncentives.ppt \n",
      "    The filesize is: 137216 bytes \n",
      "    The file extension is: .ppt \n",
      "    The last modification time was: 2022-10-07T13:10:1665162764\n",
      "The filename Non-FTE-Trainee-Activities-060109.ppt \n",
      "    This is the directory path: /Users/raynaketchum/Documents/umich/SI676/networked-services-labs/data/webfiles-samples/presentation \n",
      "    The full path to the file is: /Users/raynaketchum/Documents/umich/SI676/networked-services-labs/data/webfiles-samples/presentation/Non-FTE-Trainee-Activities-060109.ppt \n",
      "    The filesize is: 67072 bytes \n",
      "    The file extension is: .ppt \n",
      "    The last modification time was: 2022-10-07T13:10:1665162764\n",
      "\n",
      "\n"
     ]
    }
   ],
   "source": [
    "#Output is v2\n",
    "working_dir = \"/Users/raynaketchum/Documents/umich/SI676/networked-services-labs\"\n",
    "print(working_dir)\n",
    "walk_this_directory = os.path.join(working_dir,'data/webfiles-samples')\n",
    "print(walk_this_directory)\n",
    "\n",
    "\n",
    "for folderName, subfolders, filenames in os.walk(walk_this_directory):\n",
    "    # print('Current folder:',folderName)\n",
    "\n",
    "    # for subfolder in subfolders:\n",
    "    #     print('Parent folder:',folderName,'; subfolder:',subfolder)\n",
    "\n",
    "    for filename in filenames:\n",
    "        print('The filename', filename,\n",
    "              '\\n    This is the directory path:', folderName,\n",
    "              '\\n    The full path to the file is:',os.path.join(folderName, filename),\n",
    "              '\\n    The filesize is:', os.path.getsize(os.path.join(folderName, filename)), 'bytes',\n",
    "              '\\n    The file extension is:', os.path.splitext(filename)[1],\n",
    "              '\\n    The last modification time was:', datetime.strftime(datetime.fromtimestamp(os.path.getmtime(os.path.join(folderName, filename))), \"%Y-%m-%dT%H:%m:%s\"))\n",
    "\n",
    "    print('\\n')\n"
   ]
  }
 ],
 "metadata": {
  "kernelspec": {
   "display_name": "Python 3.9.6 64-bit",
   "language": "python",
   "name": "python3"
  },
  "language_info": {
   "codemirror_mode": {
    "name": "ipython",
    "version": 3
   },
   "file_extension": ".py",
   "mimetype": "text/x-python",
   "name": "python",
   "nbconvert_exporter": "python",
   "pygments_lexer": "ipython3",
   "version": "3.9.6"
  },
  "orig_nbformat": 4,
  "vscode": {
   "interpreter": {
    "hash": "aee8b7b246df8f9039afb4144a1f6fd8d2ca17a180786b69acc140d282b71a49"
   }
  }
 },
 "nbformat": 4,
 "nbformat_minor": 2
}
